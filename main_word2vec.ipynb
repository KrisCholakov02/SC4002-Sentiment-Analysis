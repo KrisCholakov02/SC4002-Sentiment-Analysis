{
 "cells": [
  {
   "cell_type": "code",
   "id": "initial_id",
   "metadata": {
    "collapsed": true,
    "ExecuteTime": {
     "end_time": "2024-10-12T18:07:32.611709Z",
     "start_time": "2024-10-12T18:07:26.629843Z"
    }
   },
   "source": [
    "from datasets import DatasetDict, Dataset\n",
    "from datasets import load_dataset\n",
    "import nltk\n",
    "from collections import Counter\n",
    "from nltk.tokenize import word_tokenize\n",
    "import ssl\n",
    "from gensim.models import KeyedVectors\n",
    "from huggingface_hub import hf_hub_download\n",
    "from sentencepiece import SentencePieceProcessor\n",
    "from nltk.stem import PorterStemmer\n",
    "from nltk import WordNetLemmatizer\n",
    "import tensorflow as tf"
   ],
   "outputs": [
    {
     "name": "stderr",
     "output_type": "stream",
     "text": [
      "/Users/mouse/Documents/GitHub/SC4045/pythonProject/.venv/lib/python3.10/site-packages/tqdm/auto.py:21: TqdmWarning: IProgress not found. Please update jupyter and ipywidgets. See https://ipywidgets.readthedocs.io/en/stable/user_install.html\n",
      "  from .autonotebook import tqdm as notebook_tqdm\n"
     ]
    }
   ],
   "execution_count": 1
  },
  {
   "metadata": {},
   "cell_type": "markdown",
   "source": "# Part 0: Dataset Preparation",
   "id": "cca6082762660ac0"
  },
  {
   "metadata": {
    "ExecuteTime": {
     "end_time": "2024-10-12T18:07:36.818419Z",
     "start_time": "2024-10-12T18:07:32.619401Z"
    }
   },
   "cell_type": "code",
   "source": [
    "dataset: DatasetDict = load_dataset(\"cornell-movie-review-data/rotten_tomatoes\")\n",
    "train = dataset['train']\n",
    "val = dataset['validation']\n",
    "test = dataset['test']"
   ],
   "id": "a50256b6d6e2201d",
   "outputs": [],
   "execution_count": 2
  },
  {
   "metadata": {
    "ExecuteTime": {
     "end_time": "2024-10-12T18:07:37.228735Z",
     "start_time": "2024-10-12T18:07:36.929261Z"
    }
   },
   "cell_type": "code",
   "source": [
    "# Tokenize Words\n",
    "\n",
    "# Disable SSL certificate verification\n",
    "ssl._create_default_https_context = ssl._create_unverified_context\n",
    "\n",
    "# Download the necessary tokenizer data\n",
    "nltk.download('punkt')  \n",
    "nltk.download('punkt_tab')  "
   ],
   "id": "d9f79dc5edb228b8",
   "outputs": [
    {
     "name": "stderr",
     "output_type": "stream",
     "text": [
      "[nltk_data] Downloading package punkt to /Users/mouse/nltk_data...\n",
      "[nltk_data]   Package punkt is already up-to-date!\n",
      "[nltk_data] Downloading package punkt_tab to /Users/mouse/nltk_data...\n",
      "[nltk_data]   Package punkt_tab is already up-to-date!\n"
     ]
    },
    {
     "data": {
      "text/plain": [
       "True"
      ]
     },
     "execution_count": 3,
     "metadata": {},
     "output_type": "execute_result"
    }
   ],
   "execution_count": 3
  },
  {
   "metadata": {
    "ExecuteTime": {
     "end_time": "2024-10-12T18:07:37.268778Z",
     "start_time": "2024-10-12T18:07:37.258540Z"
    }
   },
   "cell_type": "code",
   "source": [
    "def tokenize(row):\n",
    "    text: str = row['text']\n",
    "    # Tokenize text into words using NLTK\n",
    "    row[\"tokens\"] =  word_tokenize(text.lower())\n",
    "    \n",
    "    return row\n",
    "\n",
    "train = train.map(tokenize)\n",
    "val = val.map(tokenize)\n",
    "test = test.map(tokenize)"
   ],
   "id": "3937752c8ca9253b",
   "outputs": [],
   "execution_count": 4
  },
  {
   "metadata": {
    "ExecuteTime": {
     "end_time": "2024-10-12T18:07:37.494578Z",
     "start_time": "2024-10-12T18:07:37.290465Z"
    }
   },
   "cell_type": "code",
   "source": [
    "# Build Vocabulary\n",
    "def build_vocab(data: Dataset, column: str):\n",
    "    vocab = Counter()\n",
    "    for row in data:\n",
    "        vocab.update(row[column])\n",
    "    return vocab\n",
    "\n",
    "vanilla_vocab = build_vocab(train, \"tokens\")"
   ],
   "id": "6af561ac63177721",
   "outputs": [],
   "execution_count": 5
  },
  {
   "metadata": {
    "ExecuteTime": {
     "end_time": "2024-10-12T18:07:37.520972Z",
     "start_time": "2024-10-12T18:07:37.506709Z"
    }
   },
   "cell_type": "code",
   "source": "vanilla_vocab",
   "id": "fbe5c662872c4e0f",
   "outputs": [
    {
     "data": {
      "text/plain": [
       "Counter({'.': 11197,\n",
       "         'the': 8034,\n",
       "         ',': 8001,\n",
       "         'a': 5879,\n",
       "         'and': 4918,\n",
       "         'of': 4815,\n",
       "         'to': 3416,\n",
       "         \"'s\": 2872,\n",
       "         'is': 2848,\n",
       "         'it': 2733,\n",
       "         'that': 2129,\n",
       "         'in': 2112,\n",
       "         'as': 1409,\n",
       "         'but': 1326,\n",
       "         'with': 1274,\n",
       "         'film': 1248,\n",
       "         'this': 1187,\n",
       "         'for': 1161,\n",
       "         'movie': 1078,\n",
       "         'an': 1067,\n",
       "         'its': 1060,\n",
       "         'you': 940,\n",
       "         'be': 771,\n",
       "         \"n't\": 741,\n",
       "         'on': 719,\n",
       "         'not': 661,\n",
       "         'by': 653,\n",
       "         'are': 592,\n",
       "         'about': 581,\n",
       "         'more': 575,\n",
       "         'one': 574,\n",
       "         'like': 572,\n",
       "         'has': 561,\n",
       "         'at': 557,\n",
       "         'from': 542,\n",
       "         '--': 536,\n",
       "         'than': 529,\n",
       "         'his': 519,\n",
       "         'have': 515,\n",
       "         '``': 507,\n",
       "         'all': 504,\n",
       "         'i': 466,\n",
       "         'so': 446,\n",
       "         \"'\": 438,\n",
       "         'or': 422,\n",
       "         'if': 419,\n",
       "         'story': 384,\n",
       "         'what': 383,\n",
       "         'there': 377,\n",
       "         'who': 370,\n",
       "         'just': 366,\n",
       "         'too': 358,\n",
       "         'into': 329,\n",
       "         'does': 326,\n",
       "         'out': 317,\n",
       "         'most': 316,\n",
       "         'no': 308,\n",
       "         'even': 305,\n",
       "         'up': 304,\n",
       "         'much': 299,\n",
       "         'good': 296,\n",
       "         'will': 293,\n",
       "         'comedy': 282,\n",
       "         'can': 281,\n",
       "         'time': 273,\n",
       "         'some': 268,\n",
       "         'characters': 263,\n",
       "         'only': 253,\n",
       "         'he': 251,\n",
       "         'their': 239,\n",
       "         'way': 237,\n",
       "         'do': 234,\n",
       "         'little': 233,\n",
       "         'make': 227,\n",
       "         'funny': 226,\n",
       "         'they': 220,\n",
       "         'been': 217,\n",
       "         'very': 215,\n",
       "         'enough': 214,\n",
       "         'your': 213,\n",
       "         'makes': 210,\n",
       "         '[': 209,\n",
       "         ']': 209,\n",
       "         'when': 208,\n",
       "         'director': 206,\n",
       "         'we': 203,\n",
       "         'never': 203,\n",
       "         'may': 199,\n",
       "         'bad': 195,\n",
       "         'us': 194,\n",
       "         'would': 194,\n",
       "         'best': 188,\n",
       "         'work': 188,\n",
       "         'which': 186,\n",
       "         'life': 186,\n",
       "         ')': 183,\n",
       "         'any': 182,\n",
       "         '(': 181,\n",
       "         'love': 181,\n",
       "         '?': 180,\n",
       "         'was': 179,\n",
       "         ':': 178,\n",
       "         'could': 178,\n",
       "         'while': 177,\n",
       "         'her': 174,\n",
       "         'new': 168,\n",
       "         'well': 168,\n",
       "         'movies': 165,\n",
       "         'through': 162,\n",
       "         'made': 160,\n",
       "         'really': 160,\n",
       "         'how': 160,\n",
       "         'should': 158,\n",
       "         'films': 154,\n",
       "         'many': 153,\n",
       "         'performances': 152,\n",
       "         'them': 151,\n",
       "         'look': 151,\n",
       "         'something': 149,\n",
       "         'two': 149,\n",
       "         'own': 149,\n",
       "         'plot': 149,\n",
       "         'see': 146,\n",
       "         'people': 145,\n",
       "         \"'re\": 145,\n",
       "         'those': 143,\n",
       "         'drama': 142,\n",
       "         'nothing': 141,\n",
       "         'get': 140,\n",
       "         'still': 140,\n",
       "         'might': 139,\n",
       "         'other': 138,\n",
       "         'every': 138,\n",
       "         'off': 137,\n",
       "         'being': 137,\n",
       "         'fun': 136,\n",
       "         'without': 134,\n",
       "         'better': 132,\n",
       "         'big': 131,\n",
       "         'long': 130,\n",
       "         'great': 129,\n",
       "         'both': 127,\n",
       "         'though': 126,\n",
       "         'here': 126,\n",
       "         'audience': 124,\n",
       "         'script': 123,\n",
       "         'cast': 122,\n",
       "         'also': 120,\n",
       "         'performance': 120,\n",
       "         'sense': 120,\n",
       "         'action': 120,\n",
       "         'another': 120,\n",
       "         'character': 118,\n",
       "         'few': 115,\n",
       "         'over': 115,\n",
       "         'between': 115,\n",
       "         'first': 115,\n",
       "         'humor': 115,\n",
       "         'thing': 115,\n",
       "         'because': 113,\n",
       "         'far': 113,\n",
       "         'kind': 113,\n",
       "         'world': 112,\n",
       "         'picture': 111,\n",
       "         'tale': 111,\n",
       "         'ever': 110,\n",
       "         ';': 110,\n",
       "         'seems': 109,\n",
       "         'often': 108,\n",
       "         'real': 108,\n",
       "         'such': 108,\n",
       "         'less': 107,\n",
       "         'ca': 107,\n",
       "         'documentary': 103,\n",
       "         'minutes': 103,\n",
       "         'feels': 103,\n",
       "         'interesting': 103,\n",
       "         'down': 101,\n",
       "         'feel': 100,\n",
       "         'these': 100,\n",
       "         'thriller': 100,\n",
       "         \"'ll\": 100,\n",
       "         'almost': 98,\n",
       "         'yet': 98,\n",
       "         'watching': 97,\n",
       "         'full': 97,\n",
       "         'my': 96,\n",
       "         'screen': 96,\n",
       "         'quite': 96,\n",
       "         'hollywood': 95,\n",
       "         \"'ve\": 95,\n",
       "         'de': 94,\n",
       "         'rather': 94,\n",
       "         'hard': 94,\n",
       "         'me': 94,\n",
       "         'take': 93,\n",
       "         'despite': 93,\n",
       "         'ultimately': 91,\n",
       "         'comes': 91,\n",
       "         'itself': 91,\n",
       "         'american': 91,\n",
       "         'man': 91,\n",
       "         'heart': 90,\n",
       "         'lot': 90,\n",
       "         'entertaining': 90,\n",
       "         'year': 89,\n",
       "         'romantic': 88,\n",
       "         'had': 88,\n",
       "         '!': 88,\n",
       "         'seen': 88,\n",
       "         'go': 87,\n",
       "         'were': 87,\n",
       "         'takes': 86,\n",
       "         'same': 86,\n",
       "         'family': 86,\n",
       "         'end': 86,\n",
       "         'then': 85,\n",
       "         'moments': 85,\n",
       "         'where': 85,\n",
       "         'old': 83,\n",
       "         'acting': 83,\n",
       "         'after': 83,\n",
       "         'original': 82,\n",
       "         'right': 82,\n",
       "         'things': 81,\n",
       "         'worth': 80,\n",
       "         'our': 80,\n",
       "         'times': 80,\n",
       "         'come': 80,\n",
       "         'young': 79,\n",
       "         'gets': 79,\n",
       "         'before': 79,\n",
       "         'compelling': 78,\n",
       "         'back': 78,\n",
       "         'human': 78,\n",
       "         'material': 78,\n",
       "         'actors': 77,\n",
       "         'find': 77,\n",
       "         'once': 76,\n",
       "         'going': 75,\n",
       "         'part': 75,\n",
       "         'scenes': 75,\n",
       "         'she': 75,\n",
       "         'works': 73,\n",
       "         'dialogue': 73,\n",
       "         'anyone': 72,\n",
       "         'gives': 72,\n",
       "         'watch': 72,\n",
       "         'seem': 72,\n",
       "         'cinema': 71,\n",
       "         'music': 71,\n",
       "         'cinematic': 71,\n",
       "         'point': 71,\n",
       "         'want': 69,\n",
       "         'think': 69,\n",
       "         'whole': 68,\n",
       "         'say': 68,\n",
       "         'emotional': 68,\n",
       "         'piece': 67,\n",
       "         'since': 67,\n",
       "         'last': 67,\n",
       "         'least': 67,\n",
       "         'did': 67,\n",
       "         'away': 66,\n",
       "         'know': 66,\n",
       "         'subject': 66,\n",
       "         'bit': 66,\n",
       "         'anything': 66,\n",
       "         'kids': 65,\n",
       "         'fascinating': 65,\n",
       "         'years': 64,\n",
       "         'give': 64,\n",
       "         '-': 64,\n",
       "         'keep': 64,\n",
       "         'sometimes': 63,\n",
       "         'entertainment': 63,\n",
       "         'manages': 63,\n",
       "         'experience': 63,\n",
       "         'dull': 63,\n",
       "         'always': 62,\n",
       "         'fans': 62,\n",
       "         'pretty': 62,\n",
       "         'together': 61,\n",
       "         'moving': 61,\n",
       "         'special': 61,\n",
       "         'sweet': 61,\n",
       "         'video': 61,\n",
       "         'again': 61,\n",
       "         'star': 61,\n",
       "         'making': 60,\n",
       "         'charm': 60,\n",
       "         'laughs': 60,\n",
       "         'need': 59,\n",
       "         'true': 59,\n",
       "         'everything': 59,\n",
       "         'series': 59,\n",
       "         'history': 59,\n",
       "         'show': 59,\n",
       "         'predictable': 59,\n",
       "         'offers': 58,\n",
       "         'why': 58,\n",
       "         'simply': 58,\n",
       "         'whose': 58,\n",
       "         'mr': 58,\n",
       "         'direction': 58,\n",
       "         'women': 58,\n",
       "         'silly': 58,\n",
       "         'instead': 58,\n",
       "         'care': 57,\n",
       "         'style': 57,\n",
       "         'high': 56,\n",
       "         'flick': 56,\n",
       "         'visual': 56,\n",
       "         'around': 55,\n",
       "         'narrative': 55,\n",
       "         'clever': 54,\n",
       "         \"'d\": 54,\n",
       "         'nearly': 54,\n",
       "         'dark': 54,\n",
       "         'trying': 54,\n",
       "         'place': 53,\n",
       "         'art': 53,\n",
       "         'horror': 53,\n",
       "         'home': 53,\n",
       "         'turns': 52,\n",
       "         'smart': 52,\n",
       "         'him': 52,\n",
       "         'plays': 52,\n",
       "         'filmmakers': 52,\n",
       "         'probably': 52,\n",
       "         'lack': 52,\n",
       "         'now': 51,\n",
       "         'idea': 51,\n",
       "         'although': 51,\n",
       "         'three': 51,\n",
       "         'version': 51,\n",
       "         'actually': 51,\n",
       "         'title': 50,\n",
       "         'genre': 50,\n",
       "         'goes': 50,\n",
       "         'screenplay': 49,\n",
       "         'intelligent': 49,\n",
       "         'done': 49,\n",
       "         'children': 49,\n",
       "         'enjoyable': 49,\n",
       "         'put': 49,\n",
       "         'power': 49,\n",
       "         'war': 49,\n",
       "         'theater': 49,\n",
       "         'comic': 49,\n",
       "         'premise': 49,\n",
       "         'boring': 49,\n",
       "         'everyone': 48,\n",
       "         'familiar': 48,\n",
       "         'engaging': 48,\n",
       "         'next': 48,\n",
       "         'under': 48,\n",
       "         'short': 48,\n",
       "         'likely': 48,\n",
       "         'john': 48,\n",
       "         'debut': 48,\n",
       "         'portrait': 48,\n",
       "         'lacks': 47,\n",
       "         'charming': 47,\n",
       "         'matter': 47,\n",
       "         'worst': 47,\n",
       "         'feeling': 47,\n",
       "         'wo': 47,\n",
       "         'study': 47,\n",
       "         'level': 46,\n",
       "         'especially': 46,\n",
       "         'half': 46,\n",
       "         'become': 46,\n",
       "         'solid': 46,\n",
       "         'wit': 46,\n",
       "         'enjoy': 46,\n",
       "         'set': 46,\n",
       "         'romance': 46,\n",
       "         'fine': 46,\n",
       "         'fact': 46,\n",
       "         'mostly': 45,\n",
       "         'effects': 45,\n",
       "         'becomes': 45,\n",
       "         'message': 45,\n",
       "         'actor': 45,\n",
       "         'hours': 45,\n",
       "         'viewers': 44,\n",
       "         'beautiful': 44,\n",
       "         'face': 44,\n",
       "         'quirky': 44,\n",
       "         'sort': 44,\n",
       "         'surprisingly': 44,\n",
       "         'looks': 44,\n",
       "         'men': 44,\n",
       "         'along': 44,\n",
       "         'mess': 44,\n",
       "         'tv': 44,\n",
       "         'rare': 43,\n",
       "         'mind': 43,\n",
       "         'fresh': 43,\n",
       "         'play': 43,\n",
       "         'effort': 43,\n",
       "         'strong': 43,\n",
       "         'else': 43,\n",
       "         'problem': 43,\n",
       "         'delivers': 43,\n",
       "         'interest': 43,\n",
       "         'lives': 42,\n",
       "         'filmmaker': 42,\n",
       "         'ending': 42,\n",
       "         'reason': 42,\n",
       "         'ideas': 42,\n",
       "         'truly': 42,\n",
       "         'shot': 42,\n",
       "         'left': 42,\n",
       "         'stuff': 42,\n",
       "         'past': 42,\n",
       "         'sure': 42,\n",
       "         'day': 42,\n",
       "         'feature': 42,\n",
       "         'leave': 42,\n",
       "         'each': 42,\n",
       "         'amusing': 41,\n",
       "         'occasionally': 41,\n",
       "         'beautifully': 41,\n",
       "         'dramatic': 41,\n",
       "         'shows': 41,\n",
       "         'beyond': 41,\n",
       "         'fails': 41,\n",
       "         'recent': 40,\n",
       "         'perfect': 40,\n",
       "         'reality': 40,\n",
       "         'completely': 40,\n",
       "         'modern': 40,\n",
       "         'tries': 40,\n",
       "         'touching': 40,\n",
       "         'looking': 40,\n",
       "         'project': 40,\n",
       "         'filmmaking': 40,\n",
       "         'easy': 39,\n",
       "         'culture': 39,\n",
       "         'deeply': 39,\n",
       "         'energy': 39,\n",
       "         'intriguing': 39,\n",
       "         'exactly': 39,\n",
       "         'directed': 39,\n",
       "         'classic': 39,\n",
       "         'different': 38,\n",
       "         'ride': 38,\n",
       "         'certainly': 38,\n",
       "         'role': 38,\n",
       "         'powerful': 38,\n",
       "         'personal': 38,\n",
       "         'neither': 38,\n",
       "         \"'m\": 38,\n",
       "         'tone': 38,\n",
       "         'french': 38,\n",
       "         'melodrama': 38,\n",
       "         'opera': 38,\n",
       "         'light': 37,\n",
       "         'whether': 37,\n",
       "         'journey': 37,\n",
       "         'girl': 37,\n",
       "         'either': 37,\n",
       "         'above': 37,\n",
       "         'terrific': 37,\n",
       "         'production': 37,\n",
       "         'hilarious': 37,\n",
       "         'dumb': 37,\n",
       "         'impossible': 37,\n",
       "         'black': 37,\n",
       "         'exercise': 37,\n",
       "         'book': 36,\n",
       "         'obvious': 36,\n",
       "         'sad': 36,\n",
       "         'attempt': 36,\n",
       "         'easily': 36,\n",
       "         'got': 36,\n",
       "         'talent': 36,\n",
       "         'jokes': 36,\n",
       "         'seeing': 35,\n",
       "         'death': 35,\n",
       "         'himself': 35,\n",
       "         'believe': 35,\n",
       "         'line': 35,\n",
       "         'simple': 35,\n",
       "         'serious': 35,\n",
       "         'summer': 35,\n",
       "         'ends': 35,\n",
       "         'psychological': 34,\n",
       "         'slow': 34,\n",
       "         'suspense': 34,\n",
       "         'close': 34,\n",
       "         'cliches': 34,\n",
       "         'satisfying': 34,\n",
       "         'pretentious': 34,\n",
       "         'passion': 34,\n",
       "         'second': 34,\n",
       "         'woman': 34,\n",
       "         'game': 33,\n",
       "         'stories': 33,\n",
       "         'days': 33,\n",
       "         'case': 33,\n",
       "         'complex': 33,\n",
       "         'coming-of-age': 33,\n",
       "         'animation': 33,\n",
       "         'boy': 33,\n",
       "         'intelligence': 33,\n",
       "         'remains': 33,\n",
       "         'pleasure': 33,\n",
       "         'audiences': 33,\n",
       "         'small': 33,\n",
       "         'visually': 33,\n",
       "         'leaves': 33,\n",
       "         'found': 33,\n",
       "         'gags': 33,\n",
       "         'disney': 32,\n",
       "         'turn': 32,\n",
       "         'novel': 32,\n",
       "         'violence': 32,\n",
       "         'adventure': 32,\n",
       "         'told': 32,\n",
       "         'nor': 32,\n",
       "         'michael': 32,\n",
       "         'images': 32,\n",
       "         'writing': 32,\n",
       "         'thought': 32,\n",
       "         'falls': 32,\n",
       "         'cool': 32,\n",
       "         'cold': 32,\n",
       "         'imagine': 32,\n",
       "         'que': 31,\n",
       "         'o': 31,\n",
       "         'tell': 31,\n",
       "         'otherwise': 31,\n",
       "         'formula': 31,\n",
       "         'live': 31,\n",
       "         'none': 31,\n",
       "         'getting': 31,\n",
       "         'sex': 31,\n",
       "         'having': 31,\n",
       "         'spy': 31,\n",
       "         'earnest': 31,\n",
       "         'lost': 31,\n",
       "         'already': 31,\n",
       "         'quality': 30,\n",
       "         'spirit': 30,\n",
       "         'mystery': 30,\n",
       "         'help': 30,\n",
       "         'uses': 30,\n",
       "         'crime': 30,\n",
       "         'possible': 30,\n",
       "         'sequel': 30,\n",
       "         'finally': 30,\n",
       "         'head': 30,\n",
       "         'taste': 30,\n",
       "         'difficult': 30,\n",
       "         'brilliant': 30,\n",
       "         'political': 30,\n",
       "         'written': 30,\n",
       "         'needs': 30,\n",
       "         'hour': 30,\n",
       "         'form': 30,\n",
       "         'memorable': 30,\n",
       "         'rich': 30,\n",
       "         'moral': 30,\n",
       "         'approach': 30,\n",
       "         'moment': 30,\n",
       "         'flat': 30,\n",
       "         'honest': 29,\n",
       "         'insight': 29,\n",
       "         'act': 29,\n",
       "         'against': 29,\n",
       "         'social': 29,\n",
       "         'must': 29,\n",
       "         'viewer': 29,\n",
       "         'ways': 29,\n",
       "         'wild': 29,\n",
       "         'creepy': 29,\n",
       "         'acted': 29,\n",
       "         'truth': 29,\n",
       "         'proves': 29,\n",
       "         'entirely': 29,\n",
       "         'others': 29,\n",
       "         'laugh': 29,\n",
       "         'satire': 29,\n",
       "         'contrived': 29,\n",
       "         'storytelling': 29,\n",
       "         'camera': 29,\n",
       "         'concept': 29,\n",
       "         'perhaps': 28,\n",
       "         'genuine': 28,\n",
       "         'someone': 28,\n",
       "         'eyes': 28,\n",
       "         'gone': 28,\n",
       "         'thoroughly': 28,\n",
       "         'barely': 28,\n",
       "         'engrossing': 28,\n",
       "         'excellent': 28,\n",
       "         'important': 28,\n",
       "         'sharp': 28,\n",
       "         'keeps': 28,\n",
       "         'particularly': 28,\n",
       "         'david': 28,\n",
       "         'wonderful': 28,\n",
       "         'add': 28,\n",
       "         'expect': 28,\n",
       "         'witty': 28,\n",
       "         'wonder': 28,\n",
       "         'during': 28,\n",
       "         'inside': 28,\n",
       "         'deep': 28,\n",
       "         'tedious': 28,\n",
       "         'overall': 28,\n",
       "         'rock': 27,\n",
       "         'provides': 27,\n",
       "         'thoughtful': 27,\n",
       "         'quiet': 27,\n",
       "         'scene': 27,\n",
       "         'comedies': 27,\n",
       "         'hero': 27,\n",
       "         'call': 27,\n",
       "         'several': 27,\n",
       "         'side': 27,\n",
       "         'given': 27,\n",
       "         'hope': 27,\n",
       "         'remarkable': 27,\n",
       "         'job': 27,\n",
       "         'future': 27,\n",
       "         'warm': 27,\n",
       "         'appealing': 27,\n",
       "         'adaptation': 27,\n",
       "         'final': 27,\n",
       "         'stupid': 27,\n",
       "         'start': 26,\n",
       "         'four': 26,\n",
       "         'points': 26,\n",
       "         'brings': 26,\n",
       "         'sound': 26,\n",
       "         'behind': 26,\n",
       "         'view': 26,\n",
       "         'entire': 26,\n",
       "         'writer-director': 26,\n",
       "         'pure': 26,\n",
       "         'plenty': 26,\n",
       "         '\\x96': 26,\n",
       "         'parents': 26,\n",
       "         'offer': 26,\n",
       "         'lead': 26,\n",
       "         'impressive': 26,\n",
       "         'elements': 26,\n",
       "         'knows': 26,\n",
       "         'usual': 26,\n",
       "         'based': 26,\n",
       "         'thanks': 26,\n",
       "         'appeal': 26,\n",
       "         'rarely': 26,\n",
       "         'guys': 26,\n",
       "         'bring': 26,\n",
       "         'lots': 26,\n",
       "         'wrong': 26,\n",
       "         'soap': 26,\n",
       "         'air': 25,\n",
       "         'doing': 25,\n",
       "         'extremely': 25,\n",
       "         'america': 25,\n",
       "         'animated': 25,\n",
       "         'process': 25,\n",
       "         'memory': 25,\n",
       "         'gentle': 25,\n",
       "         'pictures': 25,\n",
       "         'surprising': 25,\n",
       "         'running': 25,\n",
       "         'maybe': 25,\n",
       "         'result': 25,\n",
       "         'throughout': 25,\n",
       "         'definitely': 25,\n",
       "         'depth': 25,\n",
       "         'emotionally': 25,\n",
       "         'able': 25,\n",
       "         'starts': 25,\n",
       "         'clear': 25,\n",
       "         'tragedy': 25,\n",
       "         'stand': 25,\n",
       "         'fairly': 25,\n",
       "         'y': 25,\n",
       "         'straight': 25,\n",
       "         'chemistry': 25,\n",
       "         'worse': 25,\n",
       "         'effective': 24,\n",
       "         'utterly': 24,\n",
       "         'beauty': 24,\n",
       "         'nice': 24,\n",
       "         'pace': 24,\n",
       "         'epic': 24,\n",
       "         'perfectly': 24,\n",
       "         'attention': 24,\n",
       "         'career': 24,\n",
       "         'cheap': 24,\n",
       "         'begins': 24,\n",
       "         'surprise': 24,\n",
       "         'sexual': 24,\n",
       "         'try': 24,\n",
       "         '2': 24,\n",
       "         'nature': 24,\n",
       "         'allen': 24,\n",
       "         'somewhat': 24,\n",
       "         'among': 24,\n",
       "         'emotions': 24,\n",
       "         'imagination': 24,\n",
       "         'change': 24,\n",
       "         'worthy': 24,\n",
       "         'taking': 24,\n",
       "         'couple': 24,\n",
       "         'subtle': 24,\n",
       "         'historical': 24,\n",
       "         'mood': 24,\n",
       "         'remake': 24,\n",
       "         'highly': 24,\n",
       "         'latest': 24,\n",
       "         'city': 24,\n",
       "         'sci-fi': 24,\n",
       "         'decent': 24,\n",
       "         'fire': 24,\n",
       "         'vision': 23,\n",
       "         'provocative': 23,\n",
       "         'lovely': 23,\n",
       "         'cute': 23,\n",
       "         'bond': 23,\n",
       "         'mark': 23,\n",
       "         'la': 23,\n",
       "         'lacking': 23,\n",
       "         'teen': 23,\n",
       "         'magic': 23,\n",
       "         'winning': 23,\n",
       "         'delightful': 23,\n",
       "         'strange': 23,\n",
       "         'events': 23,\n",
       "         'read': 23,\n",
       "         'guy': 23,\n",
       "         'wants': 23,\n",
       "         'gorgeous': 23,\n",
       "         'themselves': 23,\n",
       "         'bland': 23,\n",
       "         'creative': 23,\n",
       "         'adults': 23,\n",
       "         'scary': 23,\n",
       "         'hardly': 23,\n",
       "         'ambitious': 23,\n",
       "         'cartoon': 23,\n",
       "         'robert': 23,\n",
       "         'ugly': 23,\n",
       "         'awful': 23,\n",
       "         'tired': 23,\n",
       "         'unfunny': 23,\n",
       "         'eye': 22,\n",
       "         'question': 22,\n",
       "         'however': 22,\n",
       "         'unfortunately': 22,\n",
       "         'ensemble': 22,\n",
       "         'living': 22,\n",
       "         'actress': 22,\n",
       "         'hold': 22,\n",
       "         'sustain': 22,\n",
       "         'execution': 22,\n",
       "         'female': 22,\n",
       "         'school': 22,\n",
       "         'impact': 22,\n",
       "         'extreme': 22,\n",
       "         'giving': 22,\n",
       "         'age': 22,\n",
       "         'period': 22,\n",
       "         'gripping': 22,\n",
       "         'remember': 22,\n",
       "         'williams': 22,\n",
       "         'sit': 22,\n",
       "         'fantasy': 22,\n",
       "         'twists': 22,\n",
       "         'sentimental': 22,\n",
       "         'major': 22,\n",
       "         'recommend': 22,\n",
       "         'alone': 22,\n",
       "         'use': 22,\n",
       "         'artist': 22,\n",
       "         'flawed': 22,\n",
       "         'formulaic': 22,\n",
       "         'thrills': 22,\n",
       "         '*': 22,\n",
       "         'house': 22,\n",
       "         'except': 22,\n",
       "         'mildly': 22,\n",
       "         'dead': 22,\n",
       "         'low': 22,\n",
       "         'thin': 22,\n",
       "         'forced': 22,\n",
       "         'surprises': 21,\n",
       "         'working': 21,\n",
       "         'melodramatic': 21,\n",
       "         'master': 21,\n",
       "         'forgettable': 21,\n",
       "         'grant': 21,\n",
       "         'e': 21,\n",
       "         'potential': 21,\n",
       "         'pleasant': 21,\n",
       "         'involved': 21,\n",
       "         'sensitive': 21,\n",
       "         'substance': 21,\n",
       "         'ability': 21,\n",
       "         'sincere': 21,\n",
       "         'quickly': 21,\n",
       "         'five': 21,\n",
       "         'indeed': 21,\n",
       "         's': 21,\n",
       "         'coming': 21,\n",
       "         'merely': 21,\n",
       "         'deserves': 21,\n",
       "         'certain': 21,\n",
       "         'flaws': 21,\n",
       "         'hit': 21,\n",
       "         'spielberg': 21,\n",
       "         'complete': 21,\n",
       "         'cultural': 21,\n",
       "         'until': 21,\n",
       "         'creates': 21,\n",
       "         'relationship': 21,\n",
       "         'crazy': 21,\n",
       "         'used': 21,\n",
       "         'yes': 21,\n",
       "         'blend': 21,\n",
       "         'unsettling': 21,\n",
       "         'murder': 21,\n",
       "         'oscar': 21,\n",
       "         'odd': 21,\n",
       "         'across': 21,\n",
       "         'mix': 21,\n",
       "         'situation': 21,\n",
       "         'puts': 21,\n",
       "         'convincing': 21,\n",
       "         'heaven': 21,\n",
       "         'touch': 21,\n",
       "         'let': 21,\n",
       "         'single': 21,\n",
       "         'mediocre': 21,\n",
       "         'somehow': 20,\n",
       "         'kid': 20,\n",
       "         'captures': 20,\n",
       "         'heavy': 20,\n",
       "         'called': 20,\n",
       "         'es': 20,\n",
       "         'dog': 20,\n",
       "         'absorbing': 20,\n",
       "         'previous': 20,\n",
       "         'deal': 20,\n",
       "         'force': 20,\n",
       "         'welcome': 20,\n",
       "         'attempts': 20,\n",
       "         'friendship': 20,\n",
       "         'unexpected': 20,\n",
       "         'girls': 20,\n",
       "         'examination': 20,\n",
       "         'taken': 20,\n",
       "         'forget': 20,\n",
       "         'slightly': 20,\n",
       "         'ones': 20,\n",
       "         'intimate': 20,\n",
       "         'wedding': 20,\n",
       "         'largely': 20,\n",
       "         'grace': 20,\n",
       "         'writer': 20,\n",
       "         'thinking': 20,\n",
       "         'poignant': 20,\n",
       "         'reveals': 20,\n",
       "         'sexy': 20,\n",
       "         'miss': 20,\n",
       "         'amount': 20,\n",
       "         'focus': 20,\n",
       "         'niro': 20,\n",
       "         'mean': 20,\n",
       "         'runs': 20,\n",
       "         'colorful': 20,\n",
       "         'class': 20,\n",
       "         'weird': 20,\n",
       "         'promise': 20,\n",
       "         'leads': 20,\n",
       "         'success': 20,\n",
       "         'episode': 20,\n",
       "         'water': 20,\n",
       "         'drag': 20,\n",
       "         'tension': 20,\n",
       "         'college': 20,\n",
       "         'waste': 20,\n",
       "         'problems': 20,\n",
       "         'plain': 20,\n",
       "         'generic': 20,\n",
       "         'steven': 19,\n",
       "         'words': 19,\n",
       "         'jackson': 19,\n",
       "         'hell': 19,\n",
       "         'unique': 19,\n",
       "         'rest': 19,\n",
       "         'run': 19,\n",
       "         'felt': 19,\n",
       "         'depressing': 19,\n",
       "         'exciting': 19,\n",
       "         'refreshing': 19,\n",
       "         'sequences': 19,\n",
       "         'obviously': 19,\n",
       "         'parts': 19,\n",
       "         'talented': 19,\n",
       "         'stars': 19,\n",
       "         'goofy': 19,\n",
       "         'played': 19,\n",
       "         'soul': 19,\n",
       "         'date': 19,\n",
       "         'treat': 19,\n",
       "         'slight': 19,\n",
       "         'fully': 19,\n",
       "         'equally': 19,\n",
       "         'inventive': 19,\n",
       "         'middle': 19,\n",
       "         'issues': 19,\n",
       "         'fat': 19,\n",
       "         'politics': 19,\n",
       "         'course': 19,\n",
       "         'poetry': 19,\n",
       "         'upon': 19,\n",
       "         'pieces': 19,\n",
       "         'watchable': 19,\n",
       "         'fast': 19,\n",
       "         'uneven': 19,\n",
       "         'share': 19,\n",
       "         'haunting': 19,\n",
       "         'franchise': 19,\n",
       "         'company': 19,\n",
       "         'pop': 19,\n",
       "         'derivative': 19,\n",
       "         'suffers': 19,\n",
       "         'white': 19,\n",
       "         'york': 19,\n",
       "         'loud': 19,\n",
       "         'refreshingly': 18,\n",
       "         'masterpiece': 18,\n",
       "         'disturbing': 18,\n",
       "         'standard': 18,\n",
       "         'crush': 18,\n",
       "         'loses': 18,\n",
       "         'happy': 18,\n",
       "         'finds': 18,\n",
       "         'hits': 18,\n",
       "         'triumph': 18,\n",
       "         'painful': 18,\n",
       "         'imaginative': 18,\n",
       "         'sports': 18,\n",
       "         'battle': 18,\n",
       "         'allows': 18,\n",
       "         'unlike': 18,\n",
       "         'originality': 18,\n",
       "         'urban': 18,\n",
       "         'well-acted': 18,\n",
       "         'business': 18,\n",
       "         'conflict': 18,\n",
       "         'person': 18,\n",
       "         'parker': 18,\n",
       "         'playing': 18,\n",
       "         'apart': 18,\n",
       "         'presents': 18,\n",
       "         'trouble': 18,\n",
       "         'fashion': 18,\n",
       "         'strangely': 18,\n",
       "         'involving': 18,\n",
       "         'price': 18,\n",
       "         'revenge': 18,\n",
       "         'terms': 18,\n",
       "         'monster': 18,\n",
       "         'murphy': 18,\n",
       "         'slapstick': 18,\n",
       "         'average': 18,\n",
       "         'casting': 18,\n",
       "         'setting': 18,\n",
       "         'era': 18,\n",
       "         'bizarre': 18,\n",
       "         'generally': 18,\n",
       "         'tragic': 18,\n",
       "         'questions': 18,\n",
       "         'television': 18,\n",
       "         'supposed': 18,\n",
       "         'considerable': 18,\n",
       "         'ii': 18,\n",
       "         'ago': 18,\n",
       "         'tom': 18,\n",
       "         'green': 18,\n",
       "         'succeeds': 18,\n",
       "         'seriously': 18,\n",
       "         'viewing': 18,\n",
       "         'lame': 18,\n",
       "         'pacing': 18,\n",
       "         'simplistic': 18,\n",
       "         'slice': 17,\n",
       "         '&': 17,\n",
       "         'fare': 17,\n",
       "         ...})"
      ]
     },
     "execution_count": 6,
     "metadata": {},
     "output_type": "execute_result"
    }
   ],
   "execution_count": 6
  },
  {
   "metadata": {},
   "cell_type": "markdown",
   "source": [
    "### Question 1a: \n",
    "What is the size of the vocabulary formed from your training data?\n"
   ],
   "id": "f6538d46e866e0ec"
  },
  {
   "metadata": {
    "ExecuteTime": {
     "end_time": "2024-10-12T18:07:37.549367Z",
     "start_time": "2024-10-12T18:07:37.547339Z"
    }
   },
   "cell_type": "code",
   "source": [
    "# Vocabulary Size\n",
    "vocab_size = len(vanilla_vocab)\n",
    "print(\"Vocabulary Size:\", vocab_size)"
   ],
   "id": "363eeea6d5370142",
   "outputs": [
    {
     "name": "stdout",
     "output_type": "stream",
     "text": [
      "Vocabulary Size: 18029\n"
     ]
    }
   ],
   "execution_count": 7
  },
  {
   "metadata": {
    "ExecuteTime": {
     "end_time": "2024-10-12T18:07:46.737438Z",
     "start_time": "2024-10-12T18:07:37.576089Z"
    }
   },
   "cell_type": "code",
   "source": [
    "# Loading Pre-trained Word2Vec Embeddings\n",
    "embed_model = KeyedVectors.load_word2vec_format(hf_hub_download(repo_id=\"Word2vec/nlpl_50\", filename=\"model.bin\"), binary=True, unicode_errors=\"ignore\")"
   ],
   "id": "4f65daf1f4666f9d",
   "outputs": [],
   "execution_count": 8
  },
  {
   "metadata": {
    "ExecuteTime": {
     "end_time": "2024-10-12T18:07:46.787682Z",
     "start_time": "2024-10-12T18:07:46.786134Z"
    }
   },
   "cell_type": "code",
   "source": "word2vec_vocab_lst = embed_model.key_to_index.keys()",
   "id": "623a920a3451f18f",
   "outputs": [],
   "execution_count": 9
  },
  {
   "metadata": {},
   "cell_type": "markdown",
   "source": [
    "### Question 1b:\n",
    "We use OOV (out-of-vocabulary) to refer to those words appeared in the training data but not in the Word2vec (or Glove) dictionary. How many OOV words exist in your training data?"
   ],
   "id": "6e2b5a47f918ad01"
  },
  {
   "metadata": {
    "ExecuteTime": {
     "end_time": "2024-10-12T18:07:47.027276Z",
     "start_time": "2024-10-12T18:07:47.020611Z"
    }
   },
   "cell_type": "code",
   "source": [
    "# Find OoV Words\n",
    "oov_words = [word for word in vanilla_vocab if word not in word2vec_vocab_lst]\n",
    "print(\"Number of OoV words:\", len(oov_words))"
   ],
   "id": "d041c32e4c89c829",
   "outputs": [
    {
     "name": "stdout",
     "output_type": "stream",
     "text": [
      "Number of OoV words: 3808\n"
     ]
    }
   ],
   "execution_count": 10
  },
  {
   "metadata": {
    "ExecuteTime": {
     "end_time": "2024-10-12T18:07:47.243489Z",
     "start_time": "2024-10-12T18:07:47.240875Z"
    }
   },
   "cell_type": "code",
   "source": "print(oov_words)",
   "id": "f78e42197bb340a1",
   "outputs": [
    {
     "name": "stdout",
     "output_type": "stream",
     "text": [
      "['jean-claud', 'gorgeously', 'co-writer/director', 'too-tepid', 'keenly', 'wisegirls', 'fantasy-adventure', \"'who\", 'enrapturing', 'insistently', 'bleakly', 'frighteningly', 'moviegoing', 'good-hearted', 'pint-sized', 'grimness', 'whimsy', 'cantet', 'two-lane', 'fulford-wierzbicki', 'bona-fide', 'cartoonlike', \"'compleja\", 'intelectualmente', 'retadora', 'ladrón', 'orquídeas', 'esos', 'precisamente', 'originalidad', 'lacerating', \"'50\", 'cheesiness', 'unassuming', 'nettelbeck', 'parka-wrapped', 'singer/composer', '\\x97', 'eccentrics', \"'re\", 'hit-or-miss', 'callar', 'domineering', 'masterfully', 'deftly', 'shadings', \"'performance\", 'ingeniously', 'page-turner', 'comedy/thriller', 'preposterous', 'misogynistic', 'orchestrate', 'overpraised', 'spycraft', 'lynchings', 'meeropol', 'anthropologically', \"early-'80s\", 'bromides', 'vertiginous', 'writer-director', 'imaginatively', 'lovers-on-the-run', 'piesiewicz', 'again-courage', 'oddballs', 'earnhart', 'quizzical', 'engrossing', 'suspenser', 'memory-as-identity', 'obviation', 'long-held', 'recasts', 'kurys', 'gut-wrenching', 'fluidly', 'b-scene', 'agreeably', 'enthralling', 'frustrates', \"'truth\", 'thunderous', 'cadences', 'cliches', 'dulled', 'gorefests', 'cobbled', '15-cent', 'well-meaning', 'waydowntown', 'conan-esque', 'claptrap', 'special-effects', 'gleefully', 'underwritten', 'rambunctious', 'non-jew', '\\x96', \"'ll\", 'sock-you-in-the-eye', 'tour-de-force', 'foibles', 'non-reactionary', 'heavy-handed', 'near-disaster', 'makmalbaf', 'resolutely', 'tartness', \"'urban\", 'engagingly', 'moviemaking', 'well-acted', '20-year-old', 'good-natured', 'oscar-nominated', 'ever-escalating', 'flaunting', 'actor/director', 'nuttgens', 'heavy-handedness', 'lump-in-the-throat', 'lightens', 'bigger-than-life', 'blandly', 'crudely', 'self-loathing', 'rechy', 'unabashedly', 'schmaltzy', 'unabashed', 'three-year-old', 'fictionalize', 'uncommercial', 'spy-movie', 'slice-of-depression', 'persnickety', 'preteens', 'nonthreatening', 'infuriating', 'knock-offs', 'political-action', 'fastidiousness', 'ellefsen', 'frailties', 'rawness', 'unflinching', 'provocatuers', 'testud', 'unsentimental', 'perceptively', 'shadowy', 'hubac', 'third-act', 'ribald', 'shapelessly', 'anti-date', 'brimming', 'shainberg', 'percolating', 'port-of-call', 'even-handed', 'unapologetically', 'greek-american', 'bigotries', 'dazzlingly', 'overindulgence', 'disrupts', 'shamelessly', 're-enactments', 'talking-head', 'cloying', 'endearingly', 'meet-cute', 'tug-of-war', 'standouts', 'permeates', 'bawdy', \"'60s\", 'connect-the-dots', 'spy-on-the-run', 'darned', 'directress', 'breezily', 'apolitical', 'gawk', 'matter-of-fact', 'enthuse', 'uncommonly', 'real-live', 'movingly', '179-minute', 'magimel', 'gamesmanship', \"'bartleby\", 'world-weary', 'weepy', 'saucer-eyed', 'downy-cheeked', 'moppets', 'post-breakup', 'contrivances', 'cockettes', 'ostentatious', 'boisterous', 'award-worthy', 'fraught', 'demeo', 'addessi', 'melding', 'unnerving', 'heartbeat-like', 'whole-heartedly', 'horrifically', 'cliched', 'crowd-pleaser', 'gruelling', 'seldahl', 'wollter', 'euro-film', 'z-boys', 'green-guts', 'deceivingly', 'ho-tep', 'artfully', \"'brazil\", 'goddammit', 'better-than-average', 'movie-making', 'heart-on-its-sleeve', 'fizzles', 'hyper-time', 'clockstoppers', 'heidegger-', 'nietzsche-referencing', 'mullinski', \"'face\", 'heart-affecting', '33-year-old', 'inexperience', 'risk-takers', 'heart-rending', 'buzz-obsessed', \"'tadpole\", 'character-', 'double-crosses', 'freak-outs', \"l'avventura\", 'congeals', \"'barbershop\", 'narcotizing', 'ensnaring', 'self-deprecating', 'catapulting', 'eye-opening', 'sugar-coating', 'unrelentingly', 'code-talk', 'out-stealth', 'funnier', 'precollegiate', 'compulsively', 'watchable', 'unforgettably', 'suffused', 'go-round', 'likably', 'inexorably', 'peter/spider-man', 'ingratiating', 'infuriatingly', 'preciously', 'expertly', 'unobtrusively', 'suspenseful', 'grownups', 'nail-biting', 'technology-of-the-moment', 'unelected', 'incurious', 'uncharismatic', 'lighthearted', 'time-honored', 'bowel-curdling', 'heart-stopping', 'unmentioned', 'amalgamating', 'not-so-stock', 'super-cool', 'pencil-thin', 'pro-fat', 'sparklingly', 'consciousness-raiser', 'draggy', 'lived-in', 'good-deed/bad-deed', 'cross-shaped', 'star-making', 'unaccustomed', 'life-affirming', 'gross-out', '800-page', 'gauzy', 'zigs', 'zags', 'compellingly', 'laser-projected', 'spell-casting', 'b-minus', 'defiantly', 'swashbuckling', 'classism', 'antwone', 'by-the-numbers', 'meat-and-potatoes', 'shticks', 'personifying', 'horror/thriller', 'blobby', 'superlarge', 'fanatically', 'fetishized', 'old-movie', 'idiosyncrasy', 'incarnates', 'patronized', 'disreputable', '\\x91what', '13-year-old', 'in-jokes', 'workmanlike', 'non-shakespeare', 'off-the-cuff', 'b-grade', 'stylishness', 'benshan', 'good-humored', 'charmingly', 'peeved', 'low-rent', 'crime-film', 'loosey-goosey', 'destinees', 'bedevils', '77-minute', '45-minute', 'molony', 'stillborn', 'pg-rated', 'hard-hearted', 'ensnared', 'margolo', 'computer-animated', 'eccentricities', 'screen-eating', 'dominatrixes', 'applauded', 'camera-work', 'mock-tarantino', 'scuzbag', 'recapturing', 'cat-and-cat', 'delightfully', 'rapturous', 'drop-dead', 'idoosyncratic', 'lackadaisical', 'flatula', 'denlopp', 'updatings', 'heart-wrenching', 'anti-hollywood', 'watstein', 'sappier', 'first-timer', 'fish-out-of-water', 'uninhibited', 'pigeonhole-resisting', 'antidotes', '11-year-old', 'edge-of-your-seat', 'shambling', 'cheerfully', 'inconsequential', 'suspiciously', 'carion', 'ofrece', 'condensada', 'aprovechar', \"'ve\", 'dyspeptic', 'divertida', 'visualmente', 'entretenida', 'sencillamente', 'sorprenderá', 'heart-warming', 'exporing', 'amusingly', \"'they\", \"'em\", 'entrancing', 'smarty-pants', 'balletic', 'time-wasting', 'epochs', 'inequities', 'insultingly', 'fiascoes', 'opera-to-film', 'love-jealousy-', 'murder-suicide', 'unimpeachable', 'breathtakingly', 'snide', \"'charly\", 'nervy', 'befuddlement', 'scathing', 'self-absorption', 'earthshaking', \"'co-stars\", 'white-trash', 'you-are-there', 'disorienting', 'broken-down', 'disturbingly', 'well-shot', 'poetically', 'fulsome', 'all-ages', 'slash-dash', \"'lovely\", 'turfs', 'low-down', 'slam-bam', 'capturou', 'well-oiled', 'upholstered', 'hallucinatory', 'portrayals', 'byler', 'sprightly', 'lyricism', 'jeong-hyang', 'sarcástica', 'demencial', 'predecesora', 'complejos', 'cadness', 'light-hearted', 'candidly', 'westfeldt', 'juergensen', 'exude', 'israeli-occupied', \"'types\", 'shagster', 'kasem-furnished', \"'hosts\", \"'guests\", 'foreboding', 'jazzes', 'adroitly', \"'jackie\", 'mawkish', 'enjoyably', 'overblown', \"hors-d'oeuvre\", 'self-dramatizing', 'filmic', 'sweet-natured', 'fountainheads', 'thematically', 'backrooms', 'discontented', 'naqoyqatsi', 'navel-gazing', 'inventively', 'extols', 'mournfully', 'profundity', 'policiales', 'interesantes', 'under-12', 'caper-comedy', 'laugh-filled', 'kaputschnik', 'exuberantly', 'irreverent', 'vietnamese-born', 'cornball', 'hickenlooper', 'horror-comedy', 'cheap-looking', 'uneasily', 'mistaking', 'south-of-the-border', 'hypnotically', 'mini-mod-madness', 'ridiculousness', 'travil', 'nenette', 'sex-soaked', 'schweig', 'bizarrely', 'side-splittingly', 'sugar-sweet', 'amateurishly', 'middle-fingered', 'am-radio', 'inimitable', 'non-actors', 'no-budget', 'professes', 'giddily', 'francophiles', 'curmudgeon', 'aborbing', 'arguable', 'electrocute', 'toe-tapping', 'monkeyfun', 'bounties', 'bluntly', 'new/old', 'exigencies', 'pleasurably', 'jacked-up', 'one-room', 'unrepentant', 'unconventionally', 'half-wit', 'reheated', 'viewings', 'eyeball-to-eyeball', 'toe-to-toe', \"'red\", 'open-endedness', 'fire-breathing', 'single-mindedly', 'nuttiness', 'armenian-canadian', 'broached', 'septuagenarian', 'nonagenarian', 'clear-eyed', 'peddled', \"'have-yourself-a-happy-little-holocaust\", 'bierbichler', 'girl-woman', 'crummles', 'near-masterpiece', 'poignancy', 'gut-bustingly', 'crushingly', 'stultifyingly', \"'70\", 'viciously', 'griping', 'unsettlingly', 'idealistically', 'coldly', 'unselfconscious', 'cockamamie', 'precipitously', 'swoony', 'nerve-wracking', 'screamingly', 'angst-ridden', 'well-observed', 'nijinsky', 'concocts', 'action/effects', 'unindicted', 'fully-written', 'dankworth', 'kiddie-flick', 'wham-bam', 'dexterous', 'loathe', 'twist-and-turn', 'inanity', 'datedness', 'breeziness', 'chides', 'savvier', 'ambling', 'inhospitability', 'næs', 'queasy-stomached', 'minute-by-minute', 'stoically', 'post-saving', 'quirkiness', 'writer/director', 'clunky', 'techno-saturation', 'characterizations', 'unsatisfying', 'novelistic', 'reconfigured', \"'blundering\", 'creeped', 'girl-power', 'gilliam-esque', 'challenge-hungry', 'glad-handing', 'hastier', 'existência', 'inquestionável', 'conjures', 'jaglom', 'talancón', \"'small\", \"'safe\", 'drippiness', \"'love\", 'intrigues', 'fascinates', 'tantalizes', 'guffaw', 'show-tunes', 'two-actor', 'beat-charged', 'suffices', \"'difficult\", 'lucratively', 'self-caricature', \"'analyze\", 'careworn', 'montias', 'blessedly', 'curse-free', 'slipperiness', 'dizzying', 'hotdogging', 'bone-crushing', 'screwups', 'working-class', 'scene-stealing', 'co-stars', 'stumblings', 'wryly', 'conflict-powered', 'old-world-', 'meets-new', 'fear-inducing', 'fear-reducing', 'movie-going', 'well-crafted', 'self-appointed', 'creepiest', 'rivaling', 'neater', 'sleep-deprived', 'weariness', 'undertones', 'segues', 'oscar-winning', 'old-form', 'mothball-y', 'unsavory', 'birot', 'ramshackle', 'prurient', 'squeamish', 'overlong', 'majority-oriented', 'unnerve', 'apesar', 'consegue', 'entreter', 'entertainingly', '170-minute', \"'picture\", \"'spectacular\", 'recoing', 'bizzarre', 'categorisation', 'horrifies', 'memorialize', 'crowd-pleasing', 'self-mocking', 'throes', 'intermissions', 'exhilarated', 'mood-altering', 'bio-pic', \"'suits\", 'all-too', '-inevitable', 'unerring', 'third-best', 'alientation', 'morning-glory', 'skate/surf', 'well-honed', 'fresnadillo', 'jolting', 'friday-night', 'ratcatcher', \"'70s\", 'european-set', 'funny/gritty', 'cinema-and-self', 'splat-man', 'slash-and-hack', 'unseemly', 'fly-on-the-wall', 'docu-makers', 'sogginess', 'outrageousness', 'poignance', 'mollà', 'involvingly', 'whetted', 'decrepitude', 'wifty', 'unflinchingly', 'unflaggingly', \"'easily\", \"'vain\", 'defoliation', 'unhurried', 'off-hollywood', 'gerbosi', \"'reality\", \"'frailty\", 'wound-licking', 'bar-scrapping', 'doggedness', 'high-spirited', 'stuffiest', 'hour-and-a-half', 'revelatory', 'smack-dab', 'dubya', 'dogma-like', 'naiveté', 'strafings', 'thriller-noir', 'alarmingly', 'debuter', 'backstabbing', 'betrayals', 'grandiloquent', 'lolling', 'delhomme', 'deliriously', 'triteness', 'action-filled', 'socio-histo-political', 'contando', 'premissa', 'mergulha', 'culminando', 'desfecho', 'certamente', 'bumbling', 'hopefulness', 'grimly', 'stolid', 'provocatively', 'weightlessness', 'morose', 'humorless', 'straight-ahead', 'preaches', 'buoyed', 'teary-eyed', 'appealingly', 'bewilderingly', 'pressure-cooker', 'comically', 'well-edited', 'well-directed', \"'de\", 'soaringly', 'devilishly', 'lethargically', 'syrupy', 'well-detailed', 'dead-center', 'gut-buster', \"'solaris\", 'maddeningly', 'rootlessness', 'giggle-inducing', 'oscar-winners', 'schlepping', 'unfree', 'years/', 'speeds/', 'dilithium', 'lauded', 'anspaugh', 'manga-like', 'muddled', 'all-in-all', 'cinematically', 'hell-bent', 'pee-related', 'silliness', 'kosminsky', 'slivers', \"'no\", 'entretiene', 'high-concept', 'candy-coat', 'storylines', 'french-produced', 'seigner', 'serrault', 'outgag', 'whippersnappers', 'grandly', \"'angels\", 'money-oriented', 'stable-full', 'unwary', 'pulpiness', 'irrelevancy', 'cartoonish', 'jazz-playing', 'oscar-worthy', '50-year', 'meyjes', 'haphazardness', 'attuned', \"'the\", 'laugh-a-minute', 'illogic', 'ditched', 'proficiently', 'trappings', 'no-holds-barred', 'like-themed', 'oscar-sweeping', 'small-budget', 'preordained', 'party-hearty', 'scalds', 'basest', 'preoccupations', 'kibbitzes', 'bracingly', 'slather', 'auteil', 'post-camp', 'good-bad', 'media-soaked', 'spook-a-rama', 'hard-edged', 'street-smart', 'cineasts', 'rigors', 'channel-style', 'intacto', \"'children\", \"'my\", 'stepdad', 'serious-minded', 'pablum', 'trimmings', 'tear-stained', 'empathize', 'celebrityhood', 'tanovic', 'narratively', 'skittish', 'middle-agers', \"'evelyn\", 'protagonists', 'unconned', 'overmanipulative', 'unendurable', 'ultra-provincial', '26-year-old', 'little-remembered', 'schütte', 'dramatizing', 'sickeningly', 'perversity', 'affectionately', 'large-frame', 'well-deserved', \"'life\", 'paint-by-number', 'back-stabbing', 'inter-racial', 'male-ridden', 'crappola', \"'refreshing\", \"'drumline\", 'counter-cultural', 'homages', 'anguished', 'koshashvili', 'by-the-book', 'fresh-squeezed', 'jae-eun', 'bewildering', \"'real\", 'admittedly', '90-minute', 'boozy', 'jaglomized', 'rip-roaring', 'heart-breaking', 'fizzability', 'wondrously', 'stress-reducing', 'artless', 'supremely', 'mannered', 'freshening', 'decasia', 'newsreels', 'long-suffering', 'fearlessness', 'show-stoppingly', 'scathingly', 'punny', 'grade-school', 'telemarketers', 'goose-pimple', 'broaches', 'neo-augustinian', 'best-known', 'inquisitiveness', 'harangues', 'hit-man', 'half-sleep', 'unfocused', 'rise-and-fall', 'prescient', 'succumbing', 'hard-to-predict', 'sure-fire', \"'laughing\", 'epiphanies', 'desecrations', 'bedevilling', \"'stock\", 'squareness', 'kids-and-family-oriented', 'choquart', 'unspool', 'unadulterated', 'digressions', 'conned', 'espectáculo', 'contemplarse', 'hacerlo', 'humdrum', 'quivering', 'xiaoshuai', 'well-realized', 'embroils', 'reenacting', 'plumbs', 'jettisoned', 'disingenuous', 'universos', 'complementares', 'igualmente', 'fascinantes', 'rollicking', 'astoundingly', 'pop-induced', \"'assassin\", 'satisfyingly', 'trenchant', 'unsubtle', 'adrenalized', 'shockers', 'awkwardness', 'overwrought', 'shatters', 'long-faced', 'captivatingly', 'beat-the-clock', 'unfilmable', 'bucked', 'flabbergasting', 'macnaughton', '6-year-old', '10-year-old', 'wizened', 'heartening', 'backhanded', 'iosseliani', 'mcbeal-style', \"'it\", 'achingly', 'must-own', 'creature-feature', 'comedy/drama', 'tatters', 'tongue-tied', 'silver-haired', \"'bad\", 'fervid', 'three-hour', 'unforgivingly', 'uneventful', 'unreligious', 'sucker-punch', 'beause', 'non-threatening', 'multi-character', 'averting', 'unmentionable', 'anteing', 'chicago-based', 'cheapening', 'coughed', 'fidgeted', 'romped', 'self-mutilation', 'marcken', 'colorfully', 'kitschy', 'hardhearted', 'ferocity', 'thoughtfulness', 'intentioned', 'non-firsthand', 'disquieting', 'creaky', 'mouglalis', 'crooned', 'travails', 'often-cute', 'ballplayer', 'heart-felt', 'rusted-out', 'belittle', 'forcefulness', 'sublimely', 'elegiac', 'hard-won', 'self-glorification', 'fiascos', 'kid-pleasing', 'tolerable-to-adults', 'hourlong', 'spookiness', 'disappoints', '65-year-old', 'goofball', 'everlyn', 'star-power', 'diatribes', \"'home\", 'happily-ever', 'kosashvili', 'gang-infested', 'east-vs', 'career-best', 'idemoto', \"'belgium\", 'horribly', 'ozpetek', 'eerily', \"cam'ron\", 'komediant', 'sugarcoated', \"'80s\", 'iranian-american', 'gheorghiu', 'cavaradossi', 'villainous', 'lecherous', 'scarpia', 'choreographed', 'undercuts', 'derring-do', 'cinemantic', 'efteriades', 'vulgarity', 'cussing', 'quick-witted', 'infectiously', 'culture-clash', 'narcotized', 'koury', 'neo-fascism', 'wispy', 'inoffensive', 'out-shock', 'out-outrage', 'out-depress', 'career-defining', 'sexiness', 'dullest', 'still-inestimable', 'greatest-hits', 'caffeinated', 'erects', 'well-executed', 'interações', 'torna-se', 'perseguição', 'estudo', \"fun-for-fun's-sake\", 'underappreciated', 'fourteen-year', 'zings', '10-course', \"'blood\", 'winded', 'well-contructed', 'reaffirms', 'open-faced', 'cringe', 'volletta', 'imagines', 'actorly', 'boundary-hopping', \"'cultural\", 'hatosy', 'whimsicality', 'playwriting', 'blown-out', 'walking-dead', 'cop-flick', 'obviousness', 'jolts', 'incurably', 'dreary', 'self-revealing', 'uncinematic', 'corniest', 'leavened', 'gedeck', 'front-loaded', 'empathizes', 'languorous', 'girl-', 'semi-stable', 'guilty-pleasure', \"so-bad-it's-funny\", 'unslick', 'assayas', 'too-conscientious', 'jaw-droppingly', 'upends', 'roughshod', \"'like\", 'grandstanding', 'rocky-like', 'uplifter', 'pitch-perfect', 'decent-enough', 'nail-biter', 'docu-drama', 'over-dramatic', 'sweaty-palmed', 'seamy', 'zealanders', 'tastelessness', 'swooning', 'american-russian', 'blighter', 'slathered', 'bleakness', 'hard-bitten', 'newfangled', 'hard-hitting', 'larger-than-life', 'penchant', 'invitingly', 'pathos-filled', 'jostles', 'ironies', 'sixties-style', 'slickness', 'exhilaratingly', 'bullfighters', 'vigils', 'denouements', 'devastatingly', 'goofiest', 'sun-drenched', \"'chops\", 'boom-bam', 'hidebound', 'good-naturedness', 'goofiness', 'less-', 'than-likely', 'stylishly', 'hjelje', 'teen-pop', 'gaï', 'cheap-shot', 'rueful', 'rubbo', 'humorously', 'tendentious', 'who-wrote-shakespeare', 'tough-man', 'viscerally', 'hideousness', \"'scratch\", 'laugh-out-loud', 'sisterly', 'razor-sided', 'pre-wwii', 'raucously', \"'silence\", \"'hannibal\", 'flat-out', 'aggravating', 'masterpeice', 'fantasized', 'two-wrongs-make-a-right', 'star/producer', 'kid-empowerment', 'frustratingly', 'exalts', 'insightfully', 'documentarian', 'marvelously', 'reverent', \"'divertida\", 'enternecedora', 'profundamente', 'románticas', 'wind-in-the-hair', 'daringly', 'wise-beyond-her-years', 'needlessly', 'neo-nazism', 'zinger-filled', 'well-paced', 'kittenish', 'unflappable', 'wildean', 'makeup-deep', 'comic-book', 'aplomb', 'groan-to-guffaw', 'overwhelms', 'lurks', \"'film\", 'geeked', 'sentimentalizing', 'oh-so-hollywood', 'rejiggering', 'not-being', 'pop-cyber', 'bjorkness', 'character-oriented', 'despairing', 'commercialism', 'cursory', 'ponderous', 'weirded-', 'community-therapy', 'human-scale', 'raunch', 'sadists', 'reinvigorated', 'blazingly', \"'laugh\", 'sanctimony', 'self-hatred', 'amiably', \"soul's-eye\", 'pseudo-educational', 'runteldat', 'director/co-writer', 'razzle-dazzle', 'cletis', 'sociopaths', 'musclefest', 'shrill', 'mother/daughter', 'techno-sex', 'weirder', 'multi-layers', 'líquido', 'incoloro', 'hypermasculine', 'coheres', 'half-bad', 'redneck-versus-blueblood', 'phocion', 'campaign-trail', 'no-bull', 'go-for-broke', 'phoniness', 'female-bonding', 'grotesquely', 'valley-girl', 'lulls', '129-minute', 'dutifully', 'valiantly', 'rough-around-the-edges', 'wallowing', 'blithely', 'achronological', \"'til\", 'acolytes', 'aplenty', 'truth-telling', 'horrendously', 'transfixes', 'hitler-study', 'deflated', 'oscar-caliber', 'waters-like', 'cold-fish', 'copmovieland', 'misconceived', 'grade-grubbers', \"'this\", 'intriguingly', 'shiver-inducing', 'nerve-rattling', \"'alabama\", 'perkiness', 'docu-dogma', 'plainness', 'old-fashioned-movie', 'unburdened', 'pretensions', 'less-is-more', 'bump-in', '-the-night', 'crawlies', 'hitchcockian', 'hooting', 'close-ups', 'unrepentantly', 'pageantry', 'grandness', 'well-constructed', 'schepisi', 'oídos', 'movilizador', 'enfrentados', 'propios', 'deseos', 'miedos', 'prejuicios', 'amateurish', 'compassionately', 'engaña', 'enfrentará', \"'interesante\", 'disfrutable', 'prescinde', 'patriotero', 'manipulador', 'staggeringly', 'self-hating', 'turntablists', 'schoolers', '112-minute', 'dampened', 'roundelay', 'gator-bashing', \"'blue\", 'ego-destroying', 'indulgently', 'pushiness', 'blood-curdling', \"'korean\", 'chicanery', 'self-delusion', 'tooled', 'director-writer', 'just-above-average', 'self-aggrandizing', 'documentary-making', 'latches', 'flame-like', 'roiling', 'abysmal', 'bielinsky', 'witch-style', 'blatantly', 'irrigates', 'nailbiter', 'natural-seeming', 'pleasingly', 'rintarô', '72-year-old', 'aimlessness', 'kahlories', \"'si\", 'logra', 'desarrollarse', 'tampoco', 'pretenciosas', 'banales', 'saddled', 'unwieldy', 'stomach-turning', 'largest-ever', 'otto-sallies', 'large-screen', 'swooping', 'fumbled', 'still-raw', 'flirts', 'companionable', 'family-film', 'masterly', 'preciseness', 'pseudo-bio', 'nonjudgmental', 'filmgoing', 'truncheoning', \"'what\", 'sunbaked', 'claustrophic', 'attics', 'self-reflexive', 'forgoes', 'often-funny', \"'shindler\", 'neo-hitchcockianism', 'chabrolian', 'stooping', 'gooeyness', 'mid-seventies', 'pursuers', 'shapeless', 'ludicrous', 'disarmingly', 'elevates', 'touchingly', 'crowdpleaser', 'howlingly', 'famuyiwa', 'seeping', 'espite', 'pincel', 'retrata', 'abandono', 'constatação', 'realidade', 'formalist', \"'dumb\", 'gratefully', 'cornpone', 'flurries', 'slaloming', 'grand-scale', \"'possession\", 'white-knuckled', \"'baran\", 'corniness', 'head-trip', 'unhinged', 'beseechingly', 'kinetically-charged', 'all-too-familiar', 'recognizably', 'trash-cinema', 'girl-meets-girl', 'moviemakers', 'modicum', 'ball-and-chain', 'outselling', 'disease-of-', 'the-week', 'daytime-drama', 'unoriginal', 'gender-bending', 'cativante', 'representando', 'direção', 'contrária', 'evolução', 'musicais', 'echelons', 'workaday', 'solipsism', 'sweet-and-sour', \"'bowling\", 'inside-show-biz', 'spielbergian', 'impressively', 'car-wreck', 'accomodates', 'unstinting', 'kafkaesque', 'cannier', 'flex-a-thon', 'emphasising', 'even-toned', 'imbue', 'whip-crack', 'old-hat', 'spy-action', 'crudities', 're-assess', 'neo-realist', 'shrugging', \"'estupendamente\", 'actuada', 'sumamente', 'emotiva', 'fílmica', 'olvidar', 'smart-aleck', 'hellstenius', 'telegrams', 'plaguing', 'skims', 'oddest', 'audacious-impossible', \"'nicholas\", 'shellshock', 'suspeito', 'ganha', 'adicional', 'non-porn', 'wittier', 'feardotcom', 'teeth-clenching', \"'moore\", 'special-interest', 'black-owned', 'white-empowered', 'poor-me', 'hackles', 'top-billed', 'janklowicz-mann', 'democracie', 'edifying', \"aren't-kids-cute\", 'fleet-footed', 'conniving', 'revigorates', 'lawmen', 'qutting', 'screwed-up', 'bone-dry', 'new-agey', 'estrogen-free', 'big-time', 'handbag-clutching', 'luvvies', 'raptures', 'hoofing', 'crooning', 'ravaging', 'bergmanesque', 'altman-esque', 'snazziness', 'kozmo', 'live-wire', 'accident-prone', 'fudges', 'purer', 'food-for-thought', 'nohe', 'freak-out', 'live-style', 'blaxploitation', 'fastballs', 'flatman', 'huge-screen', \"keep-'em-guessing\", 'self-destructiveness', \"'anyone\", 'quasi-shakespearean', 'mordantly', 'hollywood-predictable', 'unexceptional', 'vibrantly', 'marveled', 'punchier', 'hankies', 'verete', 'adapted-', 'from-television', 'too-spectacular', 'distracts', 'good-naturedly', 'drama/character', \"c'mon\", 'irritates', 'saddens', 'obnoxiously', 'burkinabe', '7th-century', 'diciness', 'colonics', 'outré', 'endear', 'co-winner', 'missteps', 'love-struck', 'somebodies', 'flippant', 'errs', 'cat-and-mouse', 'meatier', 'ploddingly', 'alternates', 'shmear', '10th-grade', 'a-bornin', 'thinness', 'robberies', 'father-and-son', 'documentarians', 'plaintiveness', 'overcoming-obstacles', 'sports-movie', 'weasels', 'lingered', \"'orphans\", 'super-wealthy', 'flinching', 'chillingly', 'unemotive', 'succumbs', 'sensationalism', 'steinis', 'genre-busting', 'cool-j', \"'very\", 'disappearing/reappearing', 'dispassionate', 'reassuringly', 'contentedly', 'brother-man', 'captivates', 'affectation-free', 'louts', 'stadium-seat', 'riled', 'rekindles', 'soul-searching', \"'are\", 'headline-fresh', 'light-heartedness', 'gawky', 'nit-picky', 'hypocrisies', 'well-wrought', 'swordfights', 'quirkily', '30-year', 'back-story', 'coma-like', 'inescapably', 'skyscraper-trapeze', 'well-put-together', 'impressionable', 'video-game-based', \"'santa\", 'super-powers', 'super-simple', 'super-dooper-adorability', 'materalism', 'unhibited', 'tashlin', 'non-exploitive', 'sidesteps', 'respites', 'overdoing', 'didacticism', 'daredevils', 'intoxicatingly', 'self-indulgent', 'jolted', 'enthusiastically', 'slap-happy', 'japanimator', 're-voiced', 'slights', 'telegraphed', 'bolstered', 'fabulousness', 'achival', 'kiosks', 'manically', 'true-blue', 'puerile', 'down-home', 'bollywood/hollywood', 'keenest', 'wide-eyed', 'glinting', 'winningly', 'therapy-dependent', 'flakeball', 'malapropisms', 'lovable-loser', 'infantilized', 'nightmarish', 'mind-bending', \"'qatsi\", 'atreve', 'atacar', 'atacarse', 'duración', 'big-bug', \"'praise\", 'undisciplined', 'unevenly', 'lynch-like', 'ribcage', 'conmovedora', 'consoled', 'worldly-wise', 'saímos', 'começamos', 'acabamos', 'então', 'sinais', 'desaponta', 'lushly', 'bone-chilling', 'crime-land', 'shape-shifting', 'scriptwriters', 'high-wattage', 'unfakable', 'leanest', 'meanest', 'misanthropic', 'insouciance', 're-creations', 'dreadfulness', 'ever-watchful', 'pandering', 'seesawing', 'smoochy', 'hard-pressed', \"'enigma\", \"'we\", 'ruinous', 'brusqueness', 'politesse', 'bogged', 'war-torn', 'uncomfortably', \"'right-thinking\", \"'easier\", 'big-screen', \"'solid\", 'handsomely', 'blissfully', 'misdirected', 'sanctimonious', 'raw-nerved', 'rhapsodic', 'sillier', 'soap-opera', 'triumphantly', 'befuddled', 'throat-singing', 'sweet-tempered', 'out-to-change-the-world', 'erotically', 'large-format', 'thrillingly', \"'stoked\", 'populates', 'inexplicably', 'pythonesque', 'all-french', 'marveilleux', 'egregious', 'lip-non-synching', 'whoopee-cushion', 'half-asleep', \"'date\", 'unsurprising', 'fresh-faced', 'big-hearted', 'heremakono', 'subtlest', 'complexly', 'non-disney', 'undogmatic', 'cliché-riddled', 'fine-looking', 'date-night', 'temptingly', 'hotsies', 'hard-driving', 'bladerunner', 'dickensian', 'insinuating', \"'manhunter\", 'preocupar', 'melodramáticos', 'pianista', 'emocionante', 'shoe-loving', 'squirming', 'guilt-free', 'disappointingly', 'off-the-wall', 'outlandishness', 'flower-power', 'obligada', 'impotentes', 'daneses', 'camareras', 'italianas', 'desee', 'expresar', 'video-shot', 'peppering', 'well-told', 'redeems', 'ya-yas', 'avuncular', 'chortles', 'plotless', 'shock-you-into-laughter', 'rat-a-tat', 'social/economic/urban', 'dead-on', 'jarecki', 'spaniel-eyed', 'satiric', 'true-crime', 'hell-jaunt', 'slickest', 'hyper-artificiality', 'surface-obsession', 'typifies', 'nine-year-old', 'bludgeoning', 'life-embracing', 'surehanded', \"'aunque\", 'recurre', 'ciertos', 'género', 'actuación', 'perdona', 'guión', 'mibii', 'extravagantly', 'indomitability', 'outer-space', 'messiness', 'hilariously', 'gulpilil', 'enlivens', 'dizzily', 'unrelieved', 'wistful', 'shimmeringly', 'delves', 'passive-aggressive', 'co-dependence', '85-minute', 'over-amorous', 'undeserving', 'junior-high', 'frissons', 'perversely', 'good-time', 'slam-bang', 'wild-and-woolly', 'grossest', 'heartbreakingly', 'unafraid', 'varmints', 'ricocheting', 'playfully', 'enthrall', 'cheered', 'seesawed', 'clung-to', 'shrewdly', 'harmlessly', 'b-ball', 'convencional', 'narrativa', 'quizá', 'arriesgado', 'próprio', 'abandone', 'paródia', 'mesmos', 'clichês', 'havia', 'satirizado', 'nonethnic', 'do-over', 'slovenly', 'right-thinking', 'unscathed', \"'memento\", \"'requiem\", '\\x91direct-to-video', 'neurasthenic', '½', 'dolorous', 'dysfunctionally', 'flick-knife', 'vulakoro', 'ourside', 'outpaces', 'peerlessly', 'wonder-what-', 'time-it-is', 'downplays', 'fast-edit', 'hopped-up', 'hidden-agenda', 'open-hearted', 'often-hilarious', 'high-minded', 'farcical', 'annoyances', 'closed-off', 'semi-surrealist', 'future-world', 'cheese-laced', 'laddish', 'exhuming', 'vapid', 'mystification', 'gore-free', 'viterelli', 'goombah', '100-minute', 'girl-on-girl', 'lulled', 'dudsville', \"'jackass\", 'potshots', 'something-borrowed', 'sketched', 'compels', 'heavyweights', 'cavorting', \"mid-'70s\", 'regurgitates', 'flashbulb', 'thirteen-year-old', 'self-consciously', \"'hey\", 'demeanour', 'cleanflicks', 'profanities', 'romance-novel', 'platitudes', 'humor-seeking', 'after-school', '65-minute', \"'blade\", '91-minute', 'baseball-playing', 'sixth-grade', 'gargantuan', 'half-dimensional', 'four-year-old', 'contorting', 'gone-to-seed', 'surfacey', 'prefeminist', 'brit-com', 'subplots', 'plodding', 'knockaround', \"d'etre\", 'young-guns', 'dead-undead', 'shrieky', 'unfunny', '-doing-it-for', '-the-cash', 'writer-producer-director', 'disintegrating', 'ill-timed', \"'ejemplo\", 'premisa', 'francamente', 'aburrido', 'extra-dry', 'rehash', 'age-inspired', \"'issues\", 'cameo-packed', 'i-2-spoofing', '50-something', 'unappealing', 'dime-store', 'gamely', 'clean-cut', 'psychologizing', 'peevish', 'gimmicky', 'condescension', 'wiseacre', 'journalistically', 'lethally', 'cheesier', 'cheesiest', 'rambo-', 'meets-john', 'abhorrent', 'stortelling', 'autocritique', 'well-intentioned', \"'naturalistic\", 'hit-and-miss', 'pinheads', 'monosyllabic', 'feature-length', 'soured', '88-minute', 'not-so-divine', 're-fried', 'voices-from-the-other-side', 'rape-payback', 'ebullient', 'industrial-model', 'respectably', 'seduces', 'sleight-of-hand', 'ill-wrought', 'artnering', 'tv-cops', \"'you\", 'reeses', 'dulls', 'bogdanich', 'unashamedly', 'pro-serbian', \"'chan\", 'plummets', 'raucous', 'ugly-duckling', 'hideously', 'cluelessness', 'vainly', 'brain-slappingly', 'inelegant', 'dictator-madman', 'off-putting', 'gut-busting', 'light-footed', 'leaden', 'moralizing', 'swimfan', 'villainess', 'wertmuller', 'eroti-comedy', 'husband-and-wife', 'vidgame', 'excruciatingly', 'off-kilter', 'unengaging', 'schlocky', 'horror/action', 'genial-rogue', 'shtick', 'defecates', 'urinates', 'churns', 'flagrantly', 'thunderstorms', 'dreck', 'travel-agency', 'independent-community', 'bug-eyed', 'gay-niche', 'stumblebum', 'nebrida', 'oedekerk', 'mcklusky', 'early-on', 'war-weary', 'over-indulgent', 'tirade', 'self-glorified', 'lovefest', 'two-hour-and-fifteen-minute', 'minac', 'misty-eyed', 'tear-drenched', 'pretention', 'time-switching', 'lackluster', 'less-than-compelling', 'unamusing', 'unrewarding', 'squandering', 'fumbles', 'defuses', 'submerging', 'underdone', 'kitchen-sink', 'snoozer', 'not-so-small', 'rampantly', 'unsurprisingly', 'unspeakably', 'unbearably', 'dim-witted', 'blutarsky', 'execrable', 'tried-and-true', 'promisingly', 'treacly', 'prep-school', 'heartwarmingly', 'smutty', 'sense-of-humour', 'over-familiarity', 'hit-hungry', 'strip-mined', 'smile-button', 'populace', \"'perfection\", 'enamored', 'banderas-lucy', 'afflicts', 'teenaged', 'poster-boy', 'mythmaking', 'close-to-solid', 'anti-feminist', 'flopping', 'dolphin-gasm', 'wedgie', 'unimpressively', 'uninspired', 'send-up', \"'yes\", 'gratingly', 'improbability', 'too-long', 'spoofy', 'graceless', \"'30s\", \"'40s\", 'crudeness', 'sleaziness', 'not-so-big', 'not-so-hot', 'bond-inspired', 'pootie', 'punchlines', 'gender-war', 'murder-on-campus', 'yawner', 'responsável', \"'artístico\", 'roteirista', 'aproveitar', 'pouquíssimos', 'escapa', 'mediocridade', 'gangster/crime', 'cutesy', 'movie-specific', 'major-league', 'book-on-tape', 'aimlessly', 'unembarrassing', 'unmemorable', 'sensationalize', 'skid-row', 'histrionics', 'modernizes', 'plucks', 'falsehoods', 'threadbare', 'bibbidy-bobbidi-bland', 'nonbelievers', 'flakiness', 'funniness', 'long-on-the-shelf', 'raccoons', 'gussied', 'fudged', \"'swept\", 'fever-pitched', 'clichéd', 'cadavers', 'direct-to-void', 'cheapo', 'sword-and-sorcery', 'be-all-end-all', 'modern-office', 'rubber-face', 'insipid', 'silly-looking', '75-minute', 'sub-sophomoric', 'irony-free', 'clownish', 'mind-numbingly', 'wheedling', 'soaper', 'cresting', 'palaver', \"'hungry-man\", 'barn-burningly', 'italian-language', 'whiny', 'pouty-lipped', 'spindly', 'ingenue', 'unimaginative', 'already-shallow', 'out-bad-act', 'unsympathetic', 'deteriorates', 'self-flagellation', 'ungainly', 'ill-fitting', 'triple-crosses', 'non-britney', 'bottomlessly', 'uninspiring', 'voyeuristic', 'one-sidedness', 'oppressively', 'churlish', 'begrudge', \"'intro\", '94-minute', 'purportedly', 'blank-faced', 'derisive', 'halfwit', 'rollerblades', 'aceitou', 'dirigir', 'continuação', 'saído', 'aqueles', 'decidiram', 'talk-heavy', 'actioner', 'imbecilic', 'toolbags', 'botching', 'brothers-style', 'down-and-dirty', 'laugher', 'mean-spirited', \"'ick\", \"'classic\", 'uppity', 'action/comedy', 'near-fatal', \"'too\", 'awkwardly', 'diverges', 'piffle', 'clarke-williams', 'exploitive', 'stupefying', 'two-drink-minimum', \"'comedian\", 'water-bound', \"'drama\", 'decipherable', 'twaddle', 'superficiality', 'glizty', \"'top\", 'double-pistoled', 'ballistic-pyrotechnic', 'hat-in-hand', 'stifles', 'smugly', 'repugnant', 'frittered', 'middle-of-the-road', 'indieflick', 'tiresomely', 'hammily', 'poke-mania', 'soon-to-be-forgettable', 'thievery', 'pessimists', 'inauthentic', 'dismissive', 'shoot-outs', 'fistfights', 'mild-mannered', 'bespeaks', 'thinly-conceived', 'odorous', 'drivel', 'monster-in-the-', 'dullingly', 'best-foreign-film', 'nonchallenging', 'in-joke', 'overdone', 'unfulfilling', 'punitively', 'affirmational', 'eardrum-dicing', 'gunplay', 'screeching-metal', 'smashups', 'odd-couple', 'capitalizes', 'uninteresting', 'squanders', 'phonce', 'hobbled', 'half-baked', 'rumblings', 'cowering', 'insinuation', 'pillowcases', 'sub-formulaic', 'unlikeable', 'impetuousness', 'wreaks', 'ineptly', 'pabulum', '95-minute', 'movie-esque', 'stuporously', 'stupidities', 'repellantly', 'laconic', 'trailer-trash', 'buffoons', 'a-knocking', 'war-movie', 'overproduced', 'not-so-funny', 'rehashes', 'perfunctory', 'kid-vid', 'umpteenth', 'inchoate', 'eldritch', 'pile-ups', 'aggrandizing', \"'quit\", \"'tweener\", 'snow-and-stuntwork', 'upstaged', 'holiday-season', 'lumbering', 'unentertaining', 'rhapsodize', 'dirgelike', 'fang-baring', 'decirles', 'único', 'bargain-basement', 'pathetically', 'impeccably', 'art-conscious', 'twitchy', 'boorishness', 'oversimplification', 'nine-tenths', '3-year-olds', 'well-meant', 'stilted', 'kalesniko', 'leery', 'squaddie', 'skewering', 'picture-perfect', 'perpetrating', \"show-don't-tell\", 'cloyingly', 'loosely-connected', 'acting-workshop', 'nincompoop', 'sandlerian', 'passably', 'low-wattage', 'teen-exploitation', 'ricochets', \"'christian\", 'grunge-pirate', 'wind-tunnel', 'cor-blimey-luv-a-duck', 'untalented', 'druggy', 'spring-break', 'actorish', 'sputters', 'veered', 'penotti', 'leatherbound', 'hard-to-swallow', 'undernourished', 'actress-producer', 'chuckling', 'unimpressive', 'age-wise', 'ham-fisted', 'draggin', \"'literary\", 'insubstantial', 'unconvincing', 'second-guess', 'anti-kieslowski', 'sinuously', 'off-puttingly', 'hard-sell', 'image-mongering', \"'under\", 'bible-study', 'boom-box', 'pyschological', 'bungling', 'folksy', 'stagy', 'devolves', 'schneidermeister', 'mishmash', 'big-budget', 'clunkiness', 'vaporize', 'kidnappings', 'unpleasantly', \"'scooby\", 'kidlets', 'less-compelling', 'dumbed-down', 'ages-old', 'cliff-notes', 'indie-heads', 'played-out', 'doofus-on-', 'the-loose', 'loopiness', 'stagey', 'reassembled', 'cutting-room', 'sychowski', 'inter-species', 'distorts', 'self-parody', 'fustily', 'sorriest', \"'cq\", 'contriving', 'beloved-major-', 'character-who-shall-', 'remain-nameless', 'action-thriller/dark', \"'german-expressionist\", 'shamefully', 'ruh-roh', 'romething', 'ricture', \"'god\", 'monster/science', 'kilted', 'out-of-kilter', 'ill-conceived', 'boatload', 'withholds', 'pell-mell', 'schmaltz', 'crisply', \"'uhhh\", 'deliberateness', 'remakes', 'convolutions', 'message-mongering', 'moralism', 'vulgarities', 'tosses', 'half-hearted', 'paeans', 'prechewed', 'stand-up-comedy', 'flimsier', 'out-sized', 'concocted', 'plot-lines', 'fleshed-out', 'simple-minded', 'immaculately', 'absurdly', 'sitcomishly', 'mind-destroying', 'none-too-original', 'sentimentalist', 'schlock', \"'deadly\", 'becalmed', 'sidesplitting', 'bombards', \"'men\", 'plumbed', 'sabotaged', 'hollywood-action', \"'do\", 'self-indulgence', \"'synthetic\", 'thesps', 'slumming', 'surface-effect', 'joyless', 'charmless', 'ultra-cheesy', 'super-serious', 'super-stupid', 'awfulness', 'granddad', 'hide-and-seek', 'logistically', 'police-oriented', 'disgracefully', 'opera-ish', 'eye-filling', 'disloyal', 'self-congratulatory', 'ill-informed', 'style-free', \"'wow\", 'six-time', 'witch-', 'teen-gang', 'rough-trade', 'homo-eroticism', 'sillified', 'stop-and-start', 'long-running', 'half-dozen', 'waterboy', 'trivialize', 'junk-calorie', 'improbabilities', 'rose-colored', 'slasher-movie', 'well-worn', 'haranguing', 'squashed', 'irrepressible', 'italicizes', 're-hash', 'numbingly', 'dull-witted', 'disquietingly', \"'amateur\", 'disconcertingly', 'choppiness', 'college-spawned', 'brothers/abrahams', 'queasy', 'restage', 'slickly', 'stylistically', 'skeeved', 'martial-arts', 'skippable', 'hayseeds-vs', '-greaseballs', 'louiso', 'dawdle', 'disaffected-indie-film', 'late-inning', 'libidinous', 'obscenely', 'foundering', \"'action\", 'happenstance', 'overladen', 'conceits', 'generically', 'forgettably', 'sitcom-worthy', 'overstylized', 'puréed', 'wankery', 'hairier', 'sympathizing', '100-year', 'curmudgeonly', 'overstuffed', 'forbearing', 'child-rearing', 'literarily', 'hard-partying', 'fetid', 'uglier', 'tv-insider', 'dust-caked', 'bilked', 'overacted', 'period-perfect', 'scarier', 'subtexts', 'creepy-crawly', \"'all\", 'substitutable', 'inexpressive', 'peploe', 'pie-like', 'irreverence', \"o'fallon\", 'gaitskill', 'kumble', \"'why\", 'self-exploitation', 'soft-porn', \"'empowerment\", 'unpersuasive', 'leplouff', 'heretofore', 'unfathomable', 'rancorous', 'wisecracking', 'bodice-ripper', 'revelled', 'bottom-feeder', 'pseudo-serious', 'bottom-rung', 'critic-proof', 'oh-so', 'misfires', 'buries', 'surfeit', 'maelström', 'foot-dragging', 'ventually', 'telegraphing', 'indifferently', 'gutterball', 'thekids', 'naptime', 'self-important', 'jaunt', 'cross-promotion', 'interminably', 'overplotted', 'crass-a-thons', 'fire-red', 'deriding', 'doddering', 'deathbed', 'outrageously', 'else-', 'arthritic', 'less-than-magic', 'commodified', \"'swimfan\", 'hovers', 'ostensible', 'unclassifiably', 'audience-abuse', 'tonally', 'untugged', 'unplundered', 'instilling', \"'there\", 'veljohnson', 'same-old', 'lame-old', '49-year-old', 'cowrote', 'ga-zillionth', 'extemporaneously', \"'thank\", 'focus-grouped', 'tedium', 'dateflick', 'paean', 'swaggering', 'uncharismatically', 'upper-crust', 'well-nigh', 'depressingly', 'slogged', 'allodi', 'nolden', 'savviest', 'grace-in-rebellion', 'fill-in-', 'the-blanks', 'ragbag', 'wretchedness', 'monstrously', 'fluff-ball', 'fisticuffs', 'rumbles', 'cinephile', 'live-honed', 'foot-age', 'less-than-objective', 'hamfisted', 'gasp-inducing', 'yammering', \"'worse\", 'xfl', 'wincing', 'repugnance', 'right-on', 'tarted', 'amoses', 'offends', 'sex-reassignment', 'impish', 'bait-and-tackle', \"'frankly\", 'amped-up', 'hawk-style', 'rap-metal', 'unremittingly', 'co-opted', 'half-formed', 'disservice', 'soullessness', 'pussy-ass', 'killer-thrillers', 're-do', 'semi-improvised', 'semi-coherent', 'gal-pal', 'get-out', 'embellishing', 'in-the-ring', 'match-up', 'meekly', 'wince-inducing', 'thrift-shop', 'blue-light-special', 'prewarned', 'unencouraging', 'stunt-hungry', 'dimwits', 'pratfalls', 'teen-speak', 'crescendos', 'mad-libs', 'smoothes', 'portent-heavy', 'patient/doctor', 'hoity-toity', 'fleetingly', 'improvisations', 'falseness', 'heart-tugging', 'evincing', 'percolates', 'egotistical', 'depression-era', 'handsome-looking', 'buffoonery', 'unforgivably', 'startlingly', 'romijn-stamos', 'non-mystery', \"'87\", 'nutjob', 'gasbag', 'sudsy', 'playboy-mansion', \"'ace\", \"'credit\", 'tv-to-movie', 'sex-as-war', 'overemphatic', 'pummels', 'so-inept-', \"it's-surreal\", 'unemotional', 'psyches', 'undercurrents', 'woman-', 'finding-herself', 'lástima', 'generaciones', 'woefully', 'puportedly', 'un-bear-able', 'inexorable', 'sticky-sweet', 'melodic/', 'art-directed', 'uproarious', 'warmed-over', 'middle-brow', 'corruscating', 'uptight', 'cliche-riddled', 'self-serious', 'inkling', 'cutesy-pie', 'near-xenophobic', 'inconsequentiality', 'quick-cut', 'blaring', '125-year', 'cyber-horror', 'repulsively', 'paint-by-numbers', 'imminently', 'unessential', 'blackboards', 'torpid', 'street-realist', 'self-regarding', \"'get\", 'lifetime-channel', \"'true\", 'shallowly', 'rosily', 'wwii-era', 'kill-by-numbers', 'blade-thin', 'pun-laden', 'partway', 'easter-egg-colored', 'sellouts', 'portentous', 'fitfully', 'anti-darwinian', \"'chick\", 'string-pulling', 'mystery/thriller', \"o'neill\", 'last-second', '87-minute', 'triple-espresso', 'deadeningly', 'stiff-upper-lip', 'laboriousness', 'collage-form', 'over-romanticize', 'in-your-face', 'turkey-on-rolls', 'stubbly', 'bobbed', 'hudlin', 'dumbfoundingly', 'reawaken', 'insufferable', 'bliss-less', 'laser-beam', 'hack-artist', 'ooky-spookies', 'yawp', 'dimwitted', 'long-winded', 'wife/colleague', \"shoot-'em-up\", 'befits', 'pg-13-rated', 'unwatchable', 'sunnier', 'force-feed', 'straight-faced', \"'comedy\", 'dooby', 'blare', 'freshened', 'yawns', 'plods', 'moodily', 'clutchy', 'titillation', 'sub-aquatic', 'cop-out', 'clamor', 'clanging', 'under-rehearsed', 'often-deadly', 'laughably', 'irredeemably', 'decrying', 'afflicting', 'consciousness-raising', 'bratty', 'made-for-cable', 'slogs', \"'artistically\", 'baca-asay', 'annoyingly', 'one-trick', 'unrecommendable', 'ponderously', 'mope', 'ink-and-paint', 'shayamalan', 'paucity', '93-minute', '26-episode', \"o'clock\", 'lobotomized', 'non-starter', 'heartrending', 'bigoted', 'philandering', 'candy-like', '25-cent', 'silliest', 'amateurishness', 'regurgitated', 'greasiest', 'surfer-girl', 'sermonizing', 'dullards', 'reiterates', 'bug-eye', 'dead-eye', 'festooning', \"'significant\", 'slavishly', 'dramatics', 'frowns', 'plot-wise', 'e-mailing', 'insufficiently', 'mirthless', 'solondzian', 'sitcom-cute', 'not-quite', 'amiability', 'cliche-ridden', 'ferzan', 'dialed-up', 'ultra-low-budget', 'glass-shattering', 'not-exactly', '-stunning', 'dissing', 'temerity', 'manifestos', 'loitering', 'cringe-inducing', 'ultra-manipulative', 'real\\x97she', 'ihops', 'lesser-praised', 'sledgehammers', 'inquisitions', 'melodramatics', 'for-fans', 'elaborateness', 'wincingly', 'nauseatingly', 'cringing', 'villians', 'snore-fest', 'evenhanded', 'jettisons', 'only-in', '-hollywood', 'ill-advised', 'meddling', '79-minute', 'debases', 'much-anticipated', 'suspecting', 'well-drawn', \"'carente\", 'imaginación', 'dirigida', 'ápice', 'pérdida', 'delibrately', 'unapproachable', 'windbags', 'inanely', 'prattle', 'quasi-original', 'off-the-rack', 'thought-out', 'substance-free', 'fiftysomething', 'stage-trained', 'post-full', 'videodrome', \"'unfaithful\", 'prepubescent', 'movie-starring', 'impatiently', 'squinting', 'sluggishly', 'snap-crackle', 'godawful', 'snoozy', 'scene-by-scene', 'glibly', 'eurotrash', 'hot-button', 'sourness', 'highfalutin', 'cliche-bound', 'epic-horror', 'groan-inducing', 'begets', 'writer/director/producer', 'divertingly', 'headbangingly', 'racial-issues', 'fuhgeddaboutit', 'four-', 'exotic-looking', 'creaking', 'blurs', 'overreaches', 'vintage-tv', 'spinoffs', \"stalk'n'slash\", 'rekindled', 'soliah', 'flaunts', \"'tonight\", 'schlock-filled', 'unoriginality', 'faultlessly', 'weapon-derived', 'buddy-cop', 'knowingness', 'scatological', 'exasperating', 'pointlessness', 'jaundiced', 'cliffsnotes', 'company-style', 'wish-fulfilling', 'derails', 'cinema-besotted', 'pre-shooting', 'russos', 'b-flick', 'chloroform-soaked', 'helpfully', 'consumer-advice', 'third-rate', 'juwanna', 'wewannour', 'salaciously', 'self-infatuated', 'oafish', 'relentlessness', 'sleekly', 'self-analysis', 'war/adventure', 'less-than-thrilling', 'dogwalker', 'botch-jobs', 'yawn-provoking', 'kazmierski', 'unsuspenseful', 'christmas-tree', 'botched', 'subtler', 'ultraviolent', 'corporate-sports', 'stupider', 'over-25s', 'falters', 'rehashing', 'one-joke', 'buddy-comedy', 'humourless', 'affability', 'hyper-cliched', 'obliviousness', 'dawdles', 'save-the-planet', 'not-great', \"'best\", 'bludgeon', 'jackasses', 'give-a-damn', 'crime-busting', 'humbuggery', 'accordion/harmonica/banjo', 'all-wise-guys-all-the-time', 'qatsi', 'field-sized', 'tone-deaf', '76-minute', 'junctures', 'enervated', 'drenched-in-the-', \"'great\", 'materializes', 'unmolested', 'haughtiness', 'pretty-boy', 'regrettably', 'techno-horror', 'soul-killing', 'pseudo-hip', 'lapdance', 'interspliced', 'wearisome', 'livelier', 'exasperatingly', 'drabness', 'sabotages', 'hamstrung', 'siuation', 'postapocalyptic', 'avenges', 'showiness', 'often-mined', 'teen-catholic-movie', 'wolodarsky', 'spanish-american', 'slapdash', 'tuneless', 'episódio', 'diferença', 'exibi-lo', 'scherfig', 'grittiest', 'not-quite-urban', 'not-quite-suburban', 'recoiling', 'indigestible', 'sharpens', 'well-meaningness', '12-step', \"'dragonfly\", 'time-vaulting', 'once-over', 'miscasts', 'spinotti', 'slipshod', 'low-cal', 'faulted', 'trend-hoppy', 'trivializes', 'disquisition', 'hooey', 'desplechin', 'body-switching', 'unwittingly', 'hard-to-believe', 'dingoes', \"'bold\", 'overstays', 'by-the-books', 'sprinklings', 'likableness', 'gulps', 'huggy', 'deflates', 'mean-spiritedness', 'numbs', 'dampens', \"'inspirational\", \"'uplifting\", 'lip-synching', 'half-a-dozen', 'uncompelling', 'elegiacally', 'ryanovich', 'straight-to-video', 'kurupt', 'benefitted', 'elicits', 'star-splashed', \"'fish\", 'haunted-house', 'sequel-itis', 'comedy-deficient', 'tv-style', 'snazzy-looking', 'stalk-and-slash', 'drowns', 'potboiler', 'ditties', 'dead-eyed', 'melodrama/character', 'brandishing', 'dridi', 'difficult-to-swallow', 'romanticization', 'glacier-paced', 'touchy-feely', 'television-', 'wafer-thin', 'single-mindedness', 'deconstructionist', 'brush-up', 'lighter-than-air', 'post-colonialist', 'manqué', 'nerfs', 'dès', 'co-wrote', 'self-involved', 'subjecting', 'low-heat', 'snake-down-the-throat', 'outrunning', \"'some\", 'busts', 'ineptitudes', 'pre-dawn', 'pep-talk', 'mass-murdering', 'sailboaters', 'midlevel', 'sketchiest', 'non-god', 'spiritual-uplift', 'earmarks', 'disney-fied', '72-minute', 'murkiest', 'free-for-all', 'apallingly', 'migraine-inducing', 'gender-bender-baller', 'mix-and-', 'dishonor', 'semi-autobiographical', 'sloppily', 'too-facile', 'preciousness', 'squandered', 'irwins', 'excrescence', 'semi-humorous', 'dialogue-heavy', 'over-reliance', 'crosscuts', 'fatigues', 'indistinct', 'clunk-on-the-head', 'irritatingly', 'uninvolving', 'costumey', 'studiously', 'kegger', 'action-movie', 'espetáculo', 'esteticamente', 'emocionalmente', 'malfitano-domingo', \"'terrible\", 'asinine', \"'twist\", 'brazenly', 'kvetch', 'nrelentingly', 'unpicked', 'bloodwork', 'gone-to-pot', 'sad-sack', 'swamped', 'conciliatory', 'end-of-year', 'peace-and-love', \"'how\", 'dearly-loved', 'faux-contemporary', 'big-name', 'comic/thriller', \"bull's-eye\", 'push-the-limits', \"'woods\", 'bolly-holly', 'montied', 'pandered', '-of-the-week', 'thing-type', 'pretentiously', 'action-fantasy', 'extravaganzas', 'brimful', 'navajos', 'hoo-ha', 'scorns', 'hodgepodge', 'strainingly', 'gantzes', 'messing-about', 'still-contemporary', 'despising', 'munchausen-by-proxy', 'sleep-inducing', 'b-film', 'thuggery', 'naïveté', 'hipness', 'oft-described', 'pie-type', 'uberviolence', 'clericks', 'huckster', 'decorates', 'demonizes', 'pseudo-sophisticated', 'sodden', 'unlistenable', 'bass-heavy', 'woozy', 'roisterous', 'ill-starred', \"'abandon\", 'cliche-drenched', 'mid-film', 'gymkata', 'disquiet', 'long-dreaded', 'luv-spreading', 'affronted', 'secularists', 'drive-ins', 'hit-to-miss', 'malediction', 'irrevocably', 'sequel-for-the-sake-', 'of-a-sequel', 'incompetência', 'superada', 'péssima', 'kiddie-friendly', 'full-throated', 'bad-luck', 'slummy', 'chick-flick', 'kalvert', 'no-surprise', 'winces', 'uninflected', 'ambitiously', 'groaner', 'zero-dimensional', 'unlikable', '1/2-hour', 'leafing', 'half-lit', 'fangoria', 'guessable', 'limps', 'squirm-inducing', 'astronomically', 'slimed', \"'sacre\", \"'magnifique\", 'bore-athon', 'poo-poo', \"'edgy\", 'sleep-inducingly', 'slow-paced', 'phoney-feeling', 'overly-familiar', 'cipherlike', 'dislikable', 'landbound', \"'surprises\", 'gender-provoking', 'laudable', \"'sophisticated\", \"'challenging\", 'sophisticates', 'pitifully', 'kiddie-oriented', 'deviously', 'paper-thin', 'bang-the-drum', 'odoriferous', 'anti-catholic', 'protestors', 'bedeviled', 'miscalculates', 'devotedly', 'pin-like', 'scuttled', 'dewy-eyed', 'kid-movie', 'homiletic', 'inauspicious', 'mopes', 'meanderings', 'psychodramatics', 'downplaying', \"ain't-\", 'she-cute', 'sermonize', 'seventy-minute', 'wordy', 'strung-together', 'amuses', 'gullets', 'dog-paddle', 'comienza', 'intentando', 'rápidamente', 'parodia', 'absolutamente', 'predecible', 'tantamount', 'disney-style', 'has-been', 'brain-deadening', \"'tap\", 'sanitised', 'mends', 'stifled', 'stringently', 'ear-splitting', 'crash-and-bash', 'lumpish', 'fuddy-duddy', 'irreparably', 'mid-to-low', 'fleder', 'guilt-trip', 'annie-mary', \"'garth\", \"'wayne\", 'capably', 'scrawled', \"'videodrome\", 'distressingly', 'cruelties', 'work-hours', 'quasi-improvised', 'under-10', 'populating', 'meanspirited', 'camouflaging', '\\x9170s', 'shuck-and-jive', 'despairingly', \"'butterfingered\", 'big-fisted', 'clamorous', 'forewarned', 'gushy', 'poorly-constructed', 'laughingly', 'irksome', 'rediscovers', \"'tron\", 'filmgoers', 'implausibility', 'payoffs', 'jump-in-your-seat', 'goldbacher', 'coriat', 'hypertime', 'peopled', '50-year-old', 'uncool', 'gadzooks', 'flavorless', \"'grandeur\", 'splatterfests', 'megaplexes', 'oh-those-wacky-brits', 'bait-and-switch', 'esforço', 'frustrado', 'andamento', 'perde-se', 'instante', 'estranhos', 'acontecimentos', 'explicados', 'teen-targeted', 'highly-praised', 'reconceptualize', 'oh-so-important', 'fixating', 'badly-rendered', 'nosedive', 'heart-string', 'techno-tripe', 'pop-influenced', 'lazily', 'cirulnick', 'artsploitation', 'groaners', 'obsessively', \"'just\", 'break-ups', 'fifteen-year-old', 'and-miss', 'ki-deok', 'made-for-movie', 'shallower', 'egregiously', 'damon/bourne', 'profundities', 'stagecrafts', 'unspools', '102-minute', 'eighth-grader', \"'jason\", 'vengefulness', 'unsalvageability', 'moldering', 'strenuously', 'rinzler', 'transfigures', 'dullard', 'pseudo-witty', 'late-twenty-somethings', 'all-over-the-map', 'been-there', 'resoundingly', 'spookily', 'culled', 'cold-hearted', 'priggish', 'ankle-deep', \"'epic\", '50-million', 'raunch-fests', 'unmentionables', 'not-quite-dead', 'mid-section', 'molehill', 'decades-spanning', 'half-assed', 'screenful', 'beast-within', 'amorality', 'suffocate', 'teenybopper', 'high-strung', 'phantasms', 'self-promoter', 'pseudo-intellectual', 'stodgy', 'simpleminded', \"'scream\", 'witlessness', 'not-so-bright', 'schnieder', 'doltish', \"'fatal\", 'teeny-bopper', 'unflattering', 'out-of-field', 'globetrotters-generals', 'guy-in-a-dress', 'repetitively', 'droning', 'wimps', 'hackery', 'boosterism', 'retro-refitting', 'nickelodeon-esque', 'title-bout', 'desultory', 'girls-behaving-badly', 'jam-packed', 'movie-star', 'teen-oriented', 'abysmally', \"'ah\", 'tireless', 'shapable', 'felinni', \"'zany\", \"'funny\", 'crassly', 'comedically', \"'alternate\", 'imponderably', \"matrix'-style\", 'kafka-inspired', 'emaciated', 'unambitious', 'animated-movie', 'dictums', 'jostling', 'elbowed', 'luridly', \"so-bad-it's-good\", 'setpieces', \"'60s-homage\", 'pokepie', 'kilt-wearing', 'thrill-kill', 'cat-and-mouser', 'lascivious-minded', \"'topless\", 'mistaken-identity', 'film-culture', \"'if\", 'ballsy', 'bruckheimeresque', \"'rare\", 'beheadings', 'cliché-laden', 'derivativeness', 'preciosista', \"'snow\", 'full-blooded', 'djeinaba', 'hooliganism', 'seductiveness', 'stiflingly', 'silbersteins', 'closed-door', 'hanky-panky', 'juiceless', 'standoffish', 'indecipherable', 'digital-effects-heavy', 'merchant-ivory', 'gang-raped', \"'been\", 'romanticized', 'navigates', 'pomposity', 'pretentiousness', 'reeked', 'done-that', 'two-fifths', 'salvos', 'slurs', 'romantic/comedy', 'reeboir', 'directionless', 'brazil-like', 'hyper-real', \"'let\", 'latently', 'media-constructed', 'uproariously', 'self-amused', 'well-mounted', '99-minute', 'muttering', 'anciently', 'métier', 'spiritless', 'ultra-loud', 'movie-of-the-week', 'lionize', \"'tradition\", 'fusty', 'uselessly', 'money-grubbing', 'scary-funny', 'demented-funny', 'uncoordinated', 'step-printing', 'rose-tinted', 'hijinks', 'second-rate', 'dynamited', 'strong-minded', 'perfervid', \"'guy\", 'impassive', 'melodramas', 'non-bondish', 'bare-bones', 'underdramatized', 'tomfoolery', 'cockeyed', 'limpid', 'mesmerised', \"mid-'90s\", 'zingers', 'underscoring', 'well-produced', 'joylessly', 'whooshing', 'emptily', 'demographically', 'actory', 'concoctions', 'dimness', 'rejigger', \"'lick\", 'fifteen-minute', 'idiotically', 'schwentke', 'singer-turned', 'showboating', 'wise-cracker', 'gabbiest', 'giant-screen', 'screwing', 'all-male', 'insufferably', 'constricted', 'overinflated', \"'in\", 'sentimentalized', \"'james\", 'coming-of-age/coming-out', 'marveling', \"'seeking\", 'well-conceived', 'co-writers', 'bazadona', 'contemptuous', 'tardier', 'quibble', 'interlocked', 'eroticized', 'hour-and-a-half-long', 'phoned-in', 'director-chef', 'superficiale', 'freakish', 'three-ring', 'ratchets', \"'girls\", 'galled', 'pseudo-rock-video', '22-year-old', '18-year-old', 'snail-like', \"'dog\", 'dark-as-pitch', 'hustlers', 'flck', 'salacious', 'chopsocky', 'soul-stripping', 'tissue-thin', 'ditsy', 'warm-milk', 'tartly', 'ineptitude', 'publicists', 'twinkly-eyed', 'somnambulant', 'fuddled', 'lower-wit', 'keening', 'self-mutilating', 'adventues', 'post-september', 'bestowing', 'bio-doc', 'glacially', 'assailants', 'chouraqui', 'tear-jerking', \"'juvenile\", 'sexpot', 'movie\\x97if', 'not-at-all-good', 'resents', 'romancer', 'staggers', 'disease-of-the-week', 'necessidade', 'término', 'projeção', 'preocupe', 'enviará', 'simbolizando', 'covardia', 'self-defeatingly', 'hubristic', 'under-inspired', 'exhaustingly', 'frankenstein-monster', 'self-congratulation', 'jammies', 'video-viewing', 'pop-music', 'shoplifts', 'farewell-to-innocence', 'cribbing', 'well-trod', 'spiffing', 'self-styled', '60-second', 'truck-loving', 'tabloids', 'unlaughable', '4/5ths', 'bolado', 'shakesperean', 'silberling', 'sober-minded', 'tap-dancing', 'government/', 'marine/legal', 'subliminally', 'vacuous', 'crassness', 'sniffle', 'amusedly', \"'linklater\", 'vaunted', 'snoots', 'trotting', \"'masterpiece\", \"'triumph\", 'ardently', 'gobbler', 'weaned', 'shlockmeister']\n"
     ]
    }
   ],
   "execution_count": 11
  },
  {
   "metadata": {
    "ExecuteTime": {
     "end_time": "2024-10-12T18:08:32.410320Z",
     "start_time": "2024-10-12T18:07:47.456790Z"
    }
   },
   "cell_type": "code",
   "source": [
    "def process_tokens(tokens, oov_list, word2vec_model):\n",
    "    processed_tokens = []\n",
    "\n",
    "    for token in tokens:\n",
    "        if token in oov_list:\n",
    "            # Case 1: Token contains \"'\" and is in OOV list\n",
    "            if \"'\" in token:\n",
    "                # Remove apostrophe from the token\n",
    "                processed_tokens.append(token.replace(\"'\", ''))\n",
    "            # Case 2: Token contains '-' and is in OOV list\n",
    "            elif '-' in token:\n",
    "                # Split the token on '-'\n",
    "                split_tokens = token.split('-')\n",
    "\n",
    "                # Check if all split parts exist in Word2Vec\n",
    "                if all(sub_token in word2vec_model for sub_token in split_tokens):\n",
    "                    # If all parts are in the Word2Vec vocabulary, split it\n",
    "                    processed_tokens.extend(split_tokens)\n",
    "                else:\n",
    "                    # Else, merge it by removing '-'\n",
    "                    processed_tokens.append(token.replace('-', ''))\n",
    "            else:\n",
    "                # If it's an OOV token but doesn't match other cases, keep it as-is\n",
    "                processed_tokens.append(token)\n",
    "        else:\n",
    "            # If the token is not in OOV, keep it as-is\n",
    "            processed_tokens.append(token)\n",
    "\n",
    "    return processed_tokens\n",
    "\n",
    "train = train.map(lambda row: {\"processed_tokens\": process_tokens(row[\"tokens\"], oov_words, embed_model)})\n",
    "val = val.map(lambda row: {\"processed_tokens\": process_tokens(row[\"tokens\"], oov_words, embed_model)})\n",
    "test = test.map(lambda row: {\"processed_tokens\": process_tokens(row[\"tokens\"], oov_words, embed_model)})"
   ],
   "id": "5447b8fb3aff626b",
   "outputs": [
    {
     "name": "stderr",
     "output_type": "stream",
     "text": [
      "Map: 100%|██████████| 8530/8530 [00:04<00:00, 1820.46 examples/s]\n",
      "Map: 100%|██████████| 1066/1066 [00:00<00:00, 1750.41 examples/s]\n",
      "Map: 100%|██████████| 1066/1066 [00:00<00:00, 1778.60 examples/s]\n"
     ]
    }
   ],
   "execution_count": 12
  },
  {
   "metadata": {
    "ExecuteTime": {
     "end_time": "2024-10-12T18:08:32.935790Z",
     "start_time": "2024-10-12T18:08:32.629737Z"
    }
   },
   "cell_type": "code",
   "source": [
    "# Build Vocab\n",
    "processed_vocab = build_vocab(train, \"processed_tokens\")\n",
    "\n",
    "# Find OoV Words\n",
    "processed_oov_words = [word for word in processed_vocab if word not in word2vec_vocab_lst]\n",
    "print(\"Number of OoV words:\", len(processed_oov_words))"
   ],
   "id": "54f237bb18ace7e6",
   "outputs": [
    {
     "name": "stdout",
     "output_type": "stream",
     "text": [
      "Number of OoV words: 2362\n"
     ]
    }
   ],
   "execution_count": 13
  },
  {
   "metadata": {
    "ExecuteTime": {
     "end_time": "2024-10-12T18:08:40.866699Z",
     "start_time": "2024-10-12T18:08:33.152556Z"
    }
   },
   "cell_type": "code",
   "source": [
    "# Lemmatize the OOV words\n",
    "def lemmatize_oov_words(tokens, oovs):\n",
    "    lemmatizer = WordNetLemmatizer()\n",
    "    lemmatized_tokens = []\n",
    "    for token in tokens:\n",
    "        if token in oovs:\n",
    "            # Apply lemmatization to OOV word\n",
    "            lemmatized_tokens.append(lemmatizer.lemmatize(token))\n",
    "        else:\n",
    "            # Keep in-vocab words unchanged\n",
    "            lemmatized_tokens.append(token)\n",
    "    return lemmatized_tokens\n",
    "\n",
    "train = train.map(lambda row: {\"lemmatized_tokens\": lemmatize_oov_words(row[\"processed_tokens\"], oov_words)})\n",
    "val = val.map(lambda row: {\"lemmatized_tokens\": lemmatize_oov_words(row[\"processed_tokens\"], oov_words)})\n",
    "test = test.map(lambda row: {\"lemmatized_tokens\": lemmatize_oov_words(row[\"processed_tokens\"], oov_words)})"
   ],
   "id": "a38f8e742b9b0d79",
   "outputs": [
    {
     "name": "stderr",
     "output_type": "stream",
     "text": [
      "Map: 100%|██████████| 8530/8530 [00:06<00:00, 1349.37 examples/s]\n",
      "Map: 100%|██████████| 1066/1066 [00:00<00:00, 1708.06 examples/s]\n",
      "Map: 100%|██████████| 1066/1066 [00:00<00:00, 1427.51 examples/s]\n"
     ]
    }
   ],
   "execution_count": 14
  },
  {
   "metadata": {
    "ExecuteTime": {
     "end_time": "2024-10-12T18:08:41.472712Z",
     "start_time": "2024-10-12T18:08:41.086378Z"
    }
   },
   "cell_type": "code",
   "source": [
    "# Build Vocab\n",
    "lemmatized_vocab = build_vocab(train, \"lemmatized_tokens\")\n",
    "\n",
    "# Find OoV Words\n",
    "lemmatized_oov_words = [word for word in lemmatized_vocab if word not in word2vec_vocab_lst]\n",
    "print(\"Number of OoV words:\", len(lemmatized_oov_words))"
   ],
   "id": "4faf19b62ea57411",
   "outputs": [
    {
     "name": "stdout",
     "output_type": "stream",
     "text": [
      "Number of OoV words: 2171\n"
     ]
    }
   ],
   "execution_count": 15
  },
  {
   "metadata": {
    "ExecuteTime": {
     "end_time": "2024-10-12T18:08:41.698993Z",
     "start_time": "2024-10-12T18:08:41.696072Z"
    }
   },
   "cell_type": "code",
   "source": "print(lemmatized_oov_words)",
   "id": "550108467d662b42",
   "outputs": [
    {
     "name": "stdout",
     "output_type": "stream",
     "text": [
      "['gorgeously', 'cowriter/director', 'keenly', 'wisegirls', 'enrapturing', 'insistently', 'bleakly', 'frighteningly', 'moviegoing', 'grimness', 'whimsy', 'cantet', 'cartoonlike', 'compleja', 'intelectualmente', 'retadora', 'ladrón', 'orquídeas', 'esos', 'precisamente', 'originalidad', 'lacerating', 'cheesiness', 'unassuming', 'nettelbeck', 'singer/composer', '\\x97', 'callar', 'domineering', 'masterfully', 'deftly', 'ingeniously', 'comedy/thriller', 'preposterous', 'misogynistic', 'orchestrate', 'overpraised', 'spycraft', 'meeropol', 'anthropologically', 'early-80s', 'vertiginous', 'imaginatively', 'piesiewicz', 'earnhart', 'quizzical', 'engrossing', 'suspenser', 'obviation', 'recasts', 'kurys', 'fluidly', 'agreeably', 'enthralling', 'frustrates', 'thunderous', 'dulled', 'gorefests', 'cobbled', 'waydowntown', 'claptrap', 'gleefully', 'underwritten', 'rambunctious', '\\x96', 'foible', 'makmalbaf', 'resolutely', 'tartness', 'engagingly', 'moviemaking', 'flaunting', 'actor/director', 'nuttgens', 'lightens', 'blandly', 'crudely', 'rechy', 'unabashedly', 'schmaltzy', 'unabashed', 'fictionalize', 'uncommercial', 'persnickety', 'nonthreatening', 'infuriating', 'fastidiousness', 'ellefsen', 'rawness', 'unflinching', 'provocatuers', 'testud', 'unsentimental', 'perceptively', 'shadowy', 'hubac', 'ribald', 'shapelessly', 'brimming', 'shainberg', 'percolating', 'unapologetically', 'dazzlingly', 'overindulgence', 'disrupts', 'shamelessly', 'cloying', 'endearingly', 'standouts', 'permeates', 'bawdy', 'darned', 'directress', 'breezily', 'apolitical', 'gawk', 'enthuse', 'uncommonly', 'movingly', 'magimel', 'gamesmanship', 'weepy', 'cockettes', 'ostentatious', 'boisterous', 'fraught', 'demeo', 'addessi', 'melding', 'unnerving', 'horrifically', 'cliched', 'gruelling', 'seldahl', 'wollter', 'deceivingly', 'artfully', 'goddammit', 'clockstoppers', 'mullinski', 'inexperience', 'lavventura', 'congeals', 'narcotizing', 'ensnaring', 'selfdeprecating', 'catapulting', 'unrelentingly', 'funnier', 'precollegiate', 'compulsively', 'watchable', 'unforgettably', 'suffused', 'likably', 'inexorably', 'peter/spiderman', 'ingratiating', 'infuriatingly', 'preciously', 'expertly', 'unobtrusively', 'suspenseful', 'unelected', 'incurious', 'uncharismatic', 'lighthearted', 'unmentioned', 'amalgamating', 'sparklingly', 'draggy', 'gooddeed/baddeed', 'unaccustomed', 'gauzy', 'compellingly', 'defiantly', 'swashbuckling', 'classism', 'antwone', 'shtick', 'personifying', 'horror/thriller', 'blobby', 'superlarge', 'fanatically', 'fetishized', 'idiosyncrasy', 'incarnates', 'patronized', 'disreputable', '\\x91what', 'workmanlike', 'stylishness', 'benshan', 'goodhumored', 'charmingly', 'peeved', 'looseygoosey', 'destinees', 'bedevils', 'molony', 'stillborn', 'ensnared', 'margolo', 'applauded', 'scuzbag', 'recapturing', 'delightfully', 'rapturous', 'idoosyncratic', 'lackadaisical', 'flatula', 'denlopp', 'watstein', 'sappier', 'uninhibited', 'shambling', 'cheerfully', 'inconsequential', 'suspiciously', 'carion', 'ofrece', 'condensada', 'aprovechar', 'dyspeptic', 'divertida', 'visualmente', 'entretenida', 'sencillamente', 'sorprenderá', 'exporing', 'amusingly', 'entrancing', 'balletic', 'insultingly', 'lovejealousy', 'unimpeachable', 'breathtakingly', 'snide', 'nervy', 'befuddlement', 'scathing', 'earthshaking', 'disorienting', 'disturbingly', 'poetically', 'fulsome', 'capturou', 'upholstered', 'hallucinatory', 'byler', 'sprightly', 'lyricism', 'sarcástica', 'demencial', 'predecesora', 'complejos', 'cadness', 'candidly', 'westfeldt', 'juergensen', 'exude', 'shagster', 'foreboding', 'adroitly', 'mawkish', 'enjoyably', 'overblown', 'hors-doeuvre', 'selfdramatizing', 'filmic', 'thematically', 'discontented', 'naqoyqatsi', 'inventively', 'extols', 'mournfully', 'profundity', 'policiales', 'interesantes', 'kaputschnik', 'exuberantly', 'irreverent', 'cornball', 'hickenlooper', 'uneasily', 'mistaking', 'hypnotically', 'ridiculousness', 'travil', 'nenette', 'schweig', 'bizarrely', 'sidesplittingly', 'amateurishly', 'inimitable', 'professes', 'giddily', 'francophile', 'curmudgeon', 'aborbing', 'arguable', 'electrocute', 'monkeyfun', 'bluntly', 'new/old', 'exigency', 'pleasurably', 'unrepentant', 'unconventionally', 'reheated', 'openendedness', 'singlemindedly', 'nuttiness', 'broached', 'septuagenarian', 'nonagenarian', 'peddled', 'have-yourself-a-happy-little-holocaust', 'bierbichler', 'crummles', 'poignancy', 'gutbustingly', 'crushingly', 'stultifyingly', 'viciously', 'griping', 'unsettlingly', 'idealistically', 'coldly', 'unselfconscious', 'cockamamie', 'precipitously', 'swoony', 'nervewracking', 'screamingly', 'nijinsky', 'concocts', 'action/effects', 'unindicted', 'dankworth', 'dexterous', 'loathe', 'inanity', 'datedness', 'breeziness', 'chides', 'savvier', 'ambling', 'inhospitability', 'næs', 'queasystomached', 'stoically', 'quirkiness', 'writer/director', 'clunky', 'unsatisfying', 'novelistic', 'reconfigured', 'blundering', 'creeped', 'hastier', 'existência', 'inquestionável', 'conjures', 'jaglom', 'talancón', 'drippiness', 'fascinates', 'tantalizes', 'guffaw', 'suffices', 'lucratively', 'careworn', 'montia', 'blessedly', 'slipperiness', 'dizzying', 'hotdogging', 'screwup', 'stumblings', 'wryly', 'oldworld', 'creepiest', 'rivaling', 'neater', 'weariness', 'mothbally', 'unsavory', 'birot', 'ramshackle', 'prurient', 'squeamish', 'overlong', 'unnerve', 'apesar', 'consegue', 'entreter', 'entertainingly', 'recoing', 'bizzarre', 'categorisation', 'horrifies', 'memorialize', 'throe', 'exhilarated', 'unerring', 'alientation', 'skate/surf', 'fresnadillo', 'jolting', 'ratcatcher', 'funny/gritty', 'unseemly', 'sogginess', 'outrageousness', 'poignance', 'mollà', 'involvingly', 'whetted', 'decrepitude', 'wifty', 'unflinchingly', 'unflaggingly', 'defoliation', 'unhurried', 'gerbosi', 'doggedness', 'stuffiest', 'revelatory', 'dubya', 'naiveté', 'strafings', 'alarmingly', 'debuter', 'backstabbing', 'grandiloquent', 'lolling', 'delhomme', 'deliriously', 'triteness', 'contando', 'premissa', 'mergulha', 'culminando', 'desfecho', 'certamente', 'bumbling', 'hopefulness', 'grimly', 'stolid', 'provocatively', 'weightlessness', 'morose', 'humorless', 'preaches', 'buoyed', 'tearyeyed', 'appealingly', 'bewilderingly', 'comically', 'soaringly', 'devilishly', 'lethargically', 'syrupy', 'maddeningly', 'rootlessness', 'schlepping', 'unfree', 'years/', 'speeds/', 'dilithium', 'lauded', 'anspaugh', 'muddled', 'cinematically', 'silliness', 'kosminsky', 'entretiene', 'seigner', 'serrault', 'outgag', 'whippersnapper', 'grandly', 'unwary', 'pulpiness', 'irrelevancy', 'cartoonish', 'meyjes', 'haphazardness', 'attuned', 'illogic', 'ditched', 'proficiently', 'preordained', 'basest', 'kibbitzes', 'bracingly', 'slather', 'auteil', 'cineasts', 'intacto', 'stepdad', 'pablum', 'empathize', 'celebrityhood', 'tanovic', 'narratively', 'skittish', 'unconned', 'overmanipulative', 'unendurable', 'schütte', 'dramatizing', 'sickeningly', 'perversity', 'affectionately', 'crappola', 'anguished', 'koshashvili', 'bewildering', 'admittedly', 'boozy', 'jaglomized', 'fizzability', 'wondrously', 'artless', 'supremely', 'mannered', 'freshening', 'decasia', 'fearlessness', 'showstoppingly', 'scathingly', 'punny', 'telemarketers', 'inquisitiveness', 'harangue', 'unfocused', 'prescient', 'succumbing', 'bedevilling', 'squareness', 'choquart', 'unspool', 'unadulterated', 'conned', 'espectáculo', 'contemplarse', 'hacerlo', 'humdrum', 'quivering', 'xiaoshuai', 'embroils', 'reenacting', 'jettisoned', 'disingenuous', 'universos', 'complementares', 'igualmente', 'fascinantes', 'rollicking', 'astoundingly', 'satisfyingly', 'trenchant', 'unsubtle', 'adrenalized', 'awkwardness', 'overwrought', 'shatters', 'captivatingly', 'unfilmable', 'bucked', 'flabbergasting', 'macnaughton', 'wizened', 'heartening', 'backhanded', 'iosseliani', 'achingly', 'comedy/drama', 'fervid', 'unforgivingly', 'uneventful', 'unreligious', 'beause', 'averting', 'unmentionable', 'anteing', 'cheapening', 'coughed', 'fidgeted', 'romped', 'marcken', 'colorfully', 'kitschy', 'hardhearted', 'ferocity', 'thoughtfulness', 'intentioned', 'disquieting', 'creaky', 'mouglalis', 'crooned', 'ballplayer', 'belittle', 'forcefulness', 'sublimely', 'elegiac', 'hourlong', 'spookiness', 'disappoints', 'goofball', 'everlyn', 'kosashvili', 'idemoto', 'horribly', 'ozpetek', 'eerily', 'komediant', 'sugarcoated', 'gheorghiu', 'cavaradossi', 'villainous', 'lecherous', 'scarpia', 'choreographed', 'derringdo', 'cinemantic', 'efteriades', 'vulgarity', 'cussing', 'quickwitted', 'infectiously', 'narcotized', 'koury', 'wispy', 'inoffensive', 'sexiness', 'dullest', 'stillinestimable', 'caffeinated', 'erects', 'interações', 'perseguição', 'estudo', 'fun-for-funs-sake', 'underappreciated', 'winded', 'reaffirms', 'cringe', 'volletta', 'actorly', 'hatosy', 'whimsicality', 'playwriting', 'obviousness', 'incurably', 'dreary', 'uncinematic', 'corniest', 'leavened', 'gedeck', 'empathizes', 'languorous', 'so-bad-its-funny', 'unslick', 'assayas', 'jawdroppingly', 'upends', 'roughshod', 'grandstanding', 'uplifter', 'sweatypalmed', 'seamy', 'tastelessness', 'swooning', 'blighter', 'slathered', 'bleakness', 'newfangled', 'penchant', 'invitingly', 'slickness', 'exhilaratingly', 'bullfighter', 'devastatingly', 'goofiest', 'hidebound', 'goodnaturedness', 'goofiness', 'stylishly', 'hjelje', 'gaï', 'rueful', 'rubbo', 'humorously', 'tendentious', 'viscerally', 'hideousness', 'sisterly', 'raucously', 'aggravating', 'masterpeice', 'fantasized', 'star/producer', 'frustratingly', 'exalts', 'insightfully', 'documentarian', 'marvelously', 'reverent', 'enternecedora', 'profundamente', 'románticas', 'daringly', 'needlessly', 'kittenish', 'unflappable', 'wildean', 'aplomb', 'groantoguffaw', 'overwhelms', 'lurks', 'geeked', 'sentimentalizing', 'rejiggering', 'bjorkness', 'despairing', 'commercialism', 'cursory', 'ponderous', 'weirded', 'raunch', 'reinvigorated', 'blazingly', 'sanctimony', 'amiably', 'souls-eye', 'runteldat', 'director/cowriter', 'cletis', 'musclefest', 'shrill', 'mother/daughter', 'weirder', 'líquido', 'incoloro', 'hypermasculine', 'coheres', 'redneckversusblueblood', 'phocion', 'phoniness', 'grotesquely', 'dutifully', 'valiantly', 'wallowing', 'blithely', 'achronological', 'aplenty', 'horrendously', 'transfixes', 'deflated', 'copmovieland', 'misconceived', 'gradegrubbers', 'intriguingly', 'perkiness', 'plainness', 'unburdened', 'thenight', 'crawlies', 'hitchcockian', 'hooting', 'unrepentantly', 'pageantry', 'grandness', 'schepisi', 'oídos', 'movilizador', 'enfrentados', 'propios', 'deseos', 'miedos', 'prejuicios', 'amateurish', 'compassionately', 'engaña', 'enfrentará', 'disfrutable', 'prescinde', 'patriotero', 'manipulador', 'staggeringly', 'turntablists', 'schoolers', 'dampened', 'roundelay', 'indulgently', 'pushiness', 'chicanery', 'tooled', 'selfaggrandizing', 'roiling', 'abysmal', 'bielinsky', 'blatantly', 'irrigates', 'nailbiter', 'pleasingly', 'rintarô', 'aimlessness', 'kahlories', 'logra', 'desarrollarse', 'tampoco', 'pretenciosas', 'banales', 'saddled', 'unwieldy', 'ottosallies', 'swooping', 'fumbled', 'companionable', 'masterly', 'preciseness', 'nonjudgmental', 'filmgoing', 'truncheoning', 'sunbaked', 'claustrophic', 'forgoes', 'shindler', 'neohitchcockianism', 'chabrolian', 'stooping', 'gooeyness', 'shapeless', 'ludicrous', 'disarmingly', 'elevates', 'touchingly', 'crowdpleaser', 'howlingly', 'famuyiwa', 'seeping', 'espite', 'pincel', 'retrata', 'abandono', 'constatação', 'realidade', 'formalist', 'gratefully', 'cornpone', 'slaloming', 'whiteknuckled', 'corniness', 'unhinged', 'beseechingly', 'kineticallycharged', 'recognizably', 'moviemakers', 'modicum', 'outselling', 'diseaseof', 'unoriginal', 'cativante', 'representando', 'direção', 'contrária', 'evolução', 'musicais', 'workaday', 'solipsism', 'spielbergian', 'impressively', 'accomodates', 'unstinting', 'kafkaesque', 'cannier', 'emphasising', 'imbue', 'crudity', 'shrugging', 'estupendamente', 'actuada', 'sumamente', 'emotiva', 'fílmica', 'olvidar', 'hellstenius', 'plaguing', 'oddest', 'shellshock', 'suspeito', 'ganha', 'adicional', 'wittier', 'feardotcom', 'janklowiczmann', 'democracie', 'edifying', 'arent-kids-cute', 'conniving', 'revigorates', 'lawman', 'qutting', 'luvvies', 'hoofing', 'crooning', 'ravaging', 'bergmanesque', 'snazziness', 'kozmo', 'purer', 'nohe', 'blaxploitation', 'flatman', 'keep-em-guessing', 'mordantly', 'unexceptional', 'vibrantly', 'marveled', 'punchier', 'verete', 'distracts', 'goodnaturedly', 'drama/character', 'irritates', 'saddens', 'obnoxiously', 'burkinabe', 'diciness', 'outré', 'endear', 'misstep', 'flippant', 'errs', 'meatier', 'ploddingly', 'shmear', 'abornin', 'thinness', 'documentarians', 'plaintiveness', 'lingered', 'flinching', 'chillingly', 'unemotive', 'succumbs', 'sensationalism', 'steinis', 'disappearing/reappearing', 'dispassionate', 'reassuringly', 'contentedly', 'captivates', 'riled', 'rekindles', 'lightheartedness', 'gawky', 'swordfights', 'quirkily', 'inescapably', 'impressionable', 'superdooperadorability', 'materalism', 'unhibited', 'tashlin', 'nonexploitive', 'sidestep', 'overdoing', 'didacticism', 'intoxicatingly', 'jolted', 'enthusiastically', 'japanimator', 'telegraphed', 'bolstered', 'fabulousness', 'achival', 'manically', 'puerile', 'bollywood/hollywood', 'keenest', 'glinting', 'winningly', 'flakeball', 'malapropism', 'infantilized', 'nightmarish', 'qatsi', 'atreve', 'atacar', 'atacarse', 'duración', 'undisciplined', 'unevenly', 'ribcage', 'conmovedora', 'consoled', 'saímos', 'começamos', 'acabamos', 'então', 'desaponta', 'lushly', 'unfakable', 'leanest', 'meanest', 'misanthropic', 'insouciance', 'dreadfulness', 'pandering', 'seesawing', 'smoochy', 'ruinous', 'brusqueness', 'politesse', 'bogged', 'uncomfortably', 'right-thinking', 'handsomely', 'blissfully', 'misdirected', 'sanctimonious', 'rawnerved', 'rhapsodic', 'sillier', 'triumphantly', 'befuddled', 'erotically', 'thrillingly', 'populates', 'inexplicably', 'pythonesque', 'marveilleux', 'egregious', 'lipnonsynching', 'unsurprising', 'heremakono', 'subtlest', 'complexly', 'undogmatic', 'temptingly', 'hotsies', 'bladerunner', 'dickensian', 'insinuating', 'preocupar', 'melodramáticos', 'pianista', 'emocionante', 'squirming', 'disappointingly', 'outlandishness', 'obligada', 'impotentes', 'daneses', 'camareras', 'italianas', 'desee', 'expresar', 'peppering', 'redeems', 'avuncular', 'chortle', 'plotless', 'social/economic/urban', 'jarecki', 'satiric', 'helljaunt', 'slickest', 'hyperartificiality', 'typifies', 'bludgeoning', 'surehanded', 'recurre', 'ciertos', 'género', 'actuación', 'perdona', 'guión', 'mibii', 'extravagantly', 'indomitability', 'messiness', 'hilariously', 'gulpilil', 'enlivens', 'dizzily', 'unrelieved', 'wistful', 'shimmeringly', 'undeserving', 'perversely', 'grossest', 'heartbreakingly', 'unafraid', 'varmint', 'ricocheting', 'playfully', 'enthrall', 'cheered', 'seesawed', 'shrewdly', 'harmlessly', 'convencional', 'narrativa', 'quizá', 'arriesgado', 'próprio', 'abandone', 'paródia', 'mesmos', 'clichês', 'havia', 'satirizado', 'nonethnic', 'slovenly', 'unscathed', '\\x91directtovideo', 'neurasthenic', '½', 'dolorous', 'dysfunctionally', 'vulakoro', 'ourside', 'outpaces', 'peerlessly', 'wonderwhat', 'downplays', 'farcical', 'laddish', 'exhuming', 'vapid', 'mystification', 'viterelli', 'goombah', 'lulled', 'dudsville', 'potshot', 'sketched', 'compels', 'cavorting', 'mid-70s', 'regurgitates', 'flashbulb', 'demeanour', 'cleanflicks', 'platitude', 'gargantuan', 'contorting', 'surfacey', 'prefeminist', 'subplots', 'plodding', 'knockaround', 'detre', 'shrieky', 'unfunny', 'doingitfor', 'thecash', 'disintegrating', 'premisa', 'francamente', 'aburrido', 'rehash', 'unappealing', 'gamely', 'psychologizing', 'peevish', 'gimmicky', 'condescension', 'wiseacre', 'journalistically', 'lethally', 'cheesier', 'cheesiest', 'abhorrent', 'stortelling', 'autocritique', 'wellintentioned', 'monosyllabic', 'soured', 'ebullient', 'respectably', 'seduces', 'artnering', 'reeses', 'dulls', 'bogdanich', 'unashamedly', 'raucous', 'hideously', 'cluelessness', 'vainly', 'brainslappingly', 'inelegant', 'leaden', 'moralizing', 'swimfan', 'villainess', 'wertmuller', 'vidgame', 'excruciatingly', 'unengaging', 'schlocky', 'horror/action', 'defecates', 'urinates', 'flagrantly', 'dreck', 'stumblebum', 'nebrida', 'oedekerk', 'mcklusky', 'tirade', 'lovefest', 'minac', 'pretention', 'lackluster', 'unamusing', 'unrewarding', 'squandering', 'fumble', 'defuses', 'submerging', 'underdone', 'snoozer', 'rampantly', 'unsurprisingly', 'unspeakably', 'unbearably', 'dimwitted', 'blutarsky', 'execrable', 'promisingly', 'treacly', 'heartwarmingly', 'smutty', 'populace', 'enamored', 'afflicts', 'teenaged', 'mythmaking', 'flopping', 'dolphingasm', 'wedgie', 'unimpressively', 'uninspired', 'gratingly', 'improbability', 'spoofy', 'graceless', 'crudeness', 'sleaziness', 'pootie', 'punchlines', 'yawner', 'responsável', 'artístico', 'roteirista', 'aproveitar', 'pouquíssimos', 'escapa', 'mediocridade', 'gangster/crime', 'cutesy', 'aimlessly', 'unembarrassing', 'unmemorable', 'sensationalize', 'histrionics', 'modernizes', 'threadbare', 'bibbidybobbidibland', 'nonbeliever', 'flakiness', 'funniness', 'gussied', 'fudged', 'clichéd', 'cheapo', 'insipid', 'clownish', 'mindnumbingly', 'wheedling', 'soaper', 'cresting', 'palaver', 'hungry-man', 'barnburningly', 'whiny', 'spindly', 'ingenue', 'unimaginative', 'unsympathetic', 'deteriorates', 'selfflagellation', 'ungainly', 'bottomlessly', 'uninspiring', 'voyeuristic', 'onesidedness', 'oppressively', 'churlish', 'begrudge', 'purportedly', 'derisive', 'halfwit', 'aceitou', 'dirigir', 'continuação', 'saído', 'aqueles', 'decidiram', 'actioner', 'imbecilic', 'toolbags', 'botching', 'laugher', 'uppity', 'action/comedy', 'awkwardly', 'diverges', 'piffle', 'exploitive', 'stupefying', 'decipherable', 'twaddle', 'superficiality', 'glizty', 'doublepistoled', 'smugly', 'repugnant', 'frittered', 'indieflick', 'tiresomely', 'hammily', 'thievery', 'inauthentic', 'dismissive', 'fistfight', 'mildmannered', 'bespeaks', 'odorous', 'drivel', 'monsterinthe', 'dullingly', 'nonchallenging', 'overdone', 'unfulfilling', 'punitively', 'affirmational', 'gunplay', 'smashups', 'capitalizes', 'uninteresting', 'squanders', 'phonce', 'hobbled', 'cowering', 'insinuation', 'unlikeable', 'impetuousness', 'wreaks', 'ineptly', 'pabulum', 'stuporously', 'repellantly', 'laconic', 'overproduced', 'perfunctory', 'umpteenth', 'inchoate', 'eldritch', 'aggrandizing', 'snowandstuntwork', 'upstaged', 'lumbering', 'unentertaining', 'rhapsodize', 'dirgelike', 'decirles', 'único', 'pathetically', 'impeccably', 'twitchy', 'boorishness', 'oversimplification', 'ninetenths', 'stilted', 'kalesniko', 'leery', 'squaddie', 'skewering', 'perpetrating', 'show-dont-tell', 'cloyingly', 'nincompoop', 'sandlerian', 'passably', 'untalented', 'druggy', 'actorish', 'veered', 'penotti', 'leatherbound', 'undernourished', 'chuckling', 'unimpressive', 'hamfisted', 'draggin', 'insubstantial', 'unconvincing', 'sinuously', 'offputtingly', 'pyschological', 'bungling', 'folksy', 'stagy', 'devolves', 'schneidermeister', 'mishmash', 'clunkiness', 'vaporize', 'unpleasantly', 'kidlets', 'dumbeddown', 'doofuson', 'loopiness', 'stagey', 'reassembled', 'sychowski', 'distorts', 'fustily', 'sorriest', 'contriving', 'belovedmajor', 'characterwhoshall', 'actionthriller/dark', 'german-expressionist', 'shamefully', 'romething', 'ricture', 'monster/science', 'kilted', 'boatload', 'withholds', 'schmaltz', 'crisply', 'deliberateness', 'moralism', 'paean', 'prechewed', 'flimsier', 'concocted', 'immaculately', 'absurdly', 'sitcomishly', 'sentimentalist', 'schlock', 'becalmed', 'sidesplitting', 'plumbed', 'sabotaged', 'thesps', 'slumming', 'joyless', 'charmless', 'awfulness', 'granddad', 'logistically', 'disgracefully', 'disloyal', 'sillified', 'waterboy', 'trivialize', 'haranguing', 'squashed', 'irrepressible', 'italicizes', 'numbingly', 'dullwitted', 'disquietingly', 'disconcertingly', 'choppiness', 'brothers/abrahams', 'queasy', 'restage', 'slickly', 'stylistically', 'skeeved', 'skippable', 'hayseedsvs', 'greaseballs', 'louiso', 'dawdle', 'disaffectedindiefilm', 'libidinous', 'obscenely', 'foundering', 'happenstance', 'overladen', 'generically', 'forgettably', 'overstylized', 'puréed', 'wankery', 'hairier', 'sympathizing', 'curmudgeonly', 'overstuffed', 'forbearing', 'literarily', 'hardpartying', 'fetid', 'uglier', 'bilked', 'overacted', 'scarier', 'subtexts', 'creepycrawly', 'substitutable', 'inexpressive', 'peploe', 'irreverence', 'gaitskill', 'kumble', 'unpersuasive', 'leplouff', 'heretofore', 'unfathomable', 'rancorous', 'wisecracking', 'revelled', 'buries', 'surfeit', 'maelström', 'ventually', 'telegraphing', 'indifferently', 'gutterball', 'thekids', 'naptime', 'jaunt', 'interminably', 'overplotted', 'crassathons', 'deriding', 'doddering', 'deathbed', 'outrageously', 'arthritic', 'commodified', 'hovers', 'ostensible', 'unclassifiably', 'tonally', 'untugged', 'unplundered', 'instilling', 'veljohnson', 'cowrote', 'gazillionth', 'extemporaneously', 'tedium', 'dateflick', 'swaggering', 'uncharismatically', 'depressingly', 'slogged', 'allodi', 'nolden', 'savviest', 'ragbag', 'wretchedness', 'monstrously', 'fisticuffs', 'cinephile', 'yammering', 'xfl', 'wincing', 'repugnance', 'tarted', 'offends', 'impish', 'unremittingly', 'disservice', 'soullessness', 'embellishing', 'meekly', 'prewarned', 'unencouraging', 'dimwit', 'pratfall', 'smoothes', 'patient/doctor', 'hoitytoity', 'fleetingly', 'falseness', 'hearttugging', 'evincing', 'egotistical', 'buffoonery', 'unforgivably', 'startlingly', 'nutjob', 'gasbag', 'sudsy', 'overemphatic', 'pummels', 'soinept', 'its-surreal', 'unemotional', 'lástima', 'generaciones', 'woefully', 'puportedly', 'inexorable', 'melodic/', 'uproarious', 'corruscating', 'uptight', 'inkling', 'cutesypie', 'inconsequentiality', 'blaring', 'repulsively', 'imminently', 'unessential', 'torpid', 'shallowly', 'rosily', 'partway', 'portentous', 'fitfully', 'mystery/thriller', 'deadeningly', 'laboriousness', 'overromanticize', 'stubbly', 'bobbed', 'hudlin', 'dumbfoundingly', 'reawaken', 'insufferable', 'ookyspookies', 'yawp', 'longwinded', 'wife/colleague', 'befits', 'unwatchable', 'sunnier', 'dooby', 'blare', 'freshened', 'moodily', 'clutchy', 'titillation', 'clamor', 'clanging', 'underrehearsed', 'laughably', 'irredeemably', 'decrying', 'afflicting', 'bratty', 'slogs', 'annoyingly', 'unrecommendable', 'ponderously', 'mope', 'shayamalan', 'paucity', 'lobotomized', 'heartrending', 'bigoted', 'philandering', 'silliest', 'amateurishness', 'regurgitated', 'greasiest', 'sermonizing', 'dullard', 'reiterates', 'festooning', 'slavishly', 'dramatics', 'insufficiently', 'mirthless', 'solondzian', 'amiability', 'ferzan', 'dissing', 'temerity', 'loitering', 'cringeinducing', 'real\\x97she', 'ihops', 'melodramatics', 'elaborateness', 'wincingly', 'nauseatingly', 'cringing', 'villians', 'evenhanded', 'jettisons', 'meddling', 'debases', 'suspecting', 'carente', 'imaginación', 'dirigida', 'ápice', 'pérdida', 'delibrately', 'unapproachable', 'windbag', 'inanely', 'prattle', 'fiftysomething', 'videodrome', 'prepubescent', 'impatiently', 'squinting', 'sluggishly', 'godawful', 'snoozy', 'glibly', 'eurotrash', 'sourness', 'highfalutin', 'begets', 'writer/director/producer', 'divertingly', 'headbangingly', 'fuhgeddaboutit', 'creaking', 'overreaches', 'spinoffs', 'stalknslash', 'rekindled', 'soliah', 'schlockfilled', 'unoriginality', 'faultlessly', 'knowingness', 'scatological', 'exasperating', 'pointlessness', 'jaundiced', 'cliffsnotes', 'derails', 'cinemabesotted', 'russos', 'helpfully', 'juwanna', 'wewannour', 'salaciously', 'oafish', 'relentlessness', 'sleekly', 'war/adventure', 'dogwalker', 'kazmierski', 'unsuspenseful', 'botched', 'subtler', 'ultraviolent', 'stupider', 'rehashing', 'humourless', 'affability', 'hypercliched', 'obliviousness', 'dawdles', 'bludgeon', 'humbuggery', 'accordion/harmonica/banjo', 'enervated', 'drenchedinthe', 'materializes', 'unmolested', 'haughtiness', 'regrettably', 'lapdance', 'interspliced', 'wearisome', 'livelier', 'exasperatingly', 'drabness', 'hamstrung', 'siuation', 'postapocalyptic', 'avenges', 'showiness', 'wolodarsky', 'slapdash', 'tuneless', 'episódio', 'diferença', 'exibilo', 'scherfig', 'grittiest', 'recoiling', 'indigestible', 'sharpens', 'wellmeaningness', 'miscasts', 'spinotti', 'slipshod', 'faulted', 'trivializes', 'disquisition', 'hooey', 'desplechin', 'unwittingly', 'overstays', 'likableness', 'huggy', 'deflates', 'meanspiritedness', 'numbs', 'dampens', 'uncompelling', 'elegiacally', 'ryanovich', 'kurupt', 'benefitted', 'elicits', 'drowns', 'potboiler', 'melodrama/character', 'brandishing', 'dridi', 'romanticization', 'deconstructionist', 'postcolonialist', 'manqué', 'nerfs', 'dès', 'subjecting', 'outrunning', 'ineptitude', 'sailboaters', 'midlevel', 'sketchiest', 'murkiest', 'apallingly', 'mixand', 'dishonor', 'sloppily', 'preciousness', 'squandered', 'irwins', 'excrescence', 'indistinct', 'clunkonthehead', 'irritatingly', 'uninvolving', 'costumey', 'studiously', 'kegger', 'espetáculo', 'esteticamente', 'emocionalmente', 'malfitanodomingo', 'asinine', 'brazenly', 'kvetch', 'nrelentingly', 'unpicked', 'bloodwork', 'swamped', 'conciliatory', 'comic/thriller', 'montied', 'pandered', 'oftheweek', 'pretentiously', 'brimful', 'hodgepodge', 'strainingly', 'gantzes', 'despising', 'thuggery', 'naïveté', 'hipness', 'uberviolence', 'clericks', 'huckster', 'decorates', 'demonizes', 'sodden', 'unlistenable', 'woozy', 'roisterous', 'gymkata', 'disquiet', 'affronted', 'secularist', 'malediction', 'irrevocably', 'sequelforthesake', 'incompetência', 'superada', 'péssima', 'slummy', 'kalvert', 'uninflected', 'ambitiously', 'groaner', 'unlikable', 'leafing', 'fangoria', 'guessable', 'squirminducing', 'astronomically', 'slimed', 'boreathon', 'sleepinducingly', 'cipherlike', 'dislikable', 'landbound', 'laudable', 'pitifully', 'deviously', 'odoriferous', 'protestors', 'bedeviled', 'miscalculates', 'devotedly', 'scuttled', 'homiletic', 'inauspicious', 'meanderings', 'psychodramatics', 'downplaying', 'aint-', 'sermonize', 'wordy', 'amuses', 'comienza', 'intentando', 'rápidamente', 'parodia', 'absolutamente', 'predecible', 'tantamount', 'sanitised', 'stifled', 'stringently', 'lumpish', 'fuddyduddy', 'irreparably', 'fleder', 'capably', 'scrawled', 'distressingly', 'populating', 'meanspirited', 'camouflaging', '\\x9170s', 'despairingly', 'butterfingered', 'bigfisted', 'clamorous', 'forewarned', 'gushy', 'laughingly', 'irksome', 'rediscovers', 'filmgoers', 'implausibility', 'goldbacher', 'coriat', 'hypertime', 'peopled', 'uncool', 'gadzooks', 'flavorless', 'splatterfests', 'megaplexes', 'esforço', 'frustrado', 'andamento', 'instante', 'estranhos', 'acontecimentos', 'explicados', 'reconceptualize', 'fixating', 'nosedive', 'lazily', 'cirulnick', 'artsploitation', 'obsessively', 'shallower', 'egregiously', 'damon/bourne', 'stagecraft', 'unspools', 'vengefulness', 'unsalvageability', 'moldering', 'strenuously', 'rinzler', 'transfigures', 'resoundingly', 'spookily', 'culled', 'priggish', 'raunchfests', 'molehill', 'halfassed', 'screenful', 'amorality', 'suffocate', 'teenybopper', 'stodgy', 'simpleminded', 'witlessness', 'schnieder', 'doltish', 'unflattering', 'repetitively', 'droning', 'hackery', 'boosterism', 'desultory', 'abysmally', 'tireless', 'shapable', 'felinni', 'crassly', 'comedically', 'imponderably', 'matrix-style', 'emaciated', 'unambitious', 'jostling', 'elbowed', 'luridly', 'so-bad-its-good', 'setpieces', '60s-homage', 'pokepie', 'lasciviousminded', 'ballsy', 'bruckheimeresque', 'derivativeness', 'preciosista', 'djeinaba', 'hooliganism', 'seductiveness', 'stiflingly', 'silbersteins', 'juiceless', 'standoffish', 'indecipherable', 'romanticized', 'navigates', 'pomposity', 'pretentiousness', 'reeked', 'romantic/comedy', 'reeboir', 'directionless', 'latently', 'uproariously', 'muttering', 'anciently', 'métier', 'spiritless', 'lionize', 'fusty', 'uselessly', 'uncoordinated', 'hijinks', 'dynamited', 'perfervid', 'impassive', 'nonbondish', 'underdramatized', 'tomfoolery', 'cockeyed', 'limpid', 'mesmerised', 'mid-90s', 'underscoring', 'joylessly', 'whooshing', 'emptily', 'demographically', 'actory', 'dimness', 'rejigger', 'idiotically', 'schwentke', 'showboating', 'gabbiest', 'screwing', 'insufferably', 'constricted', 'overinflated', 'sentimentalized', 'comingofage/comingout', 'marveling', 'bazadona', 'contemptuous', 'tardier', 'quibble', 'interlocked', 'eroticized', 'superficiale', 'freakish', 'galled', 'flck', 'salacious', 'chopsocky', 'ditsy', 'tartly', 'twinklyeyed', 'somnambulant', 'fuddled', 'keening', 'selfmutilating', 'adventues', 'bestowing', 'glacially', 'assailant', 'chouraqui', 'sexpot', 'movie\\x97if', 'resents', 'romancer', 'necessidade', 'término', 'projeção', 'preocupe', 'enviará', 'simbolizando', 'covardia', 'selfdefeatingly', 'hubristic', 'exhaustingly', 'jammies', 'shoplifts', 'cribbing', 'spiffing', 'unlaughable', '4/5ths', 'bolado', 'shakesperean', 'silberling', 'government/', 'marine/legal', 'subliminally', 'vacuous', 'crassness', 'sniffle', 'amusedly', 'vaunted', 'trotting', 'ardently', 'gobbler', 'weaned', 'shlockmeister']\n"
     ]
    }
   ],
   "execution_count": 16
  },
  {
   "metadata": {
    "ExecuteTime": {
     "end_time": "2024-10-12T18:08:47.998113Z",
     "start_time": "2024-10-12T18:08:41.932855Z"
    }
   },
   "cell_type": "code",
   "source": [
    "# Stem the OOV words\n",
    "def stem_oov_words(tokens, oovs):\n",
    "    stemmer = PorterStemmer()\n",
    "    stemmed_tokens = []\n",
    "    for token in tokens:\n",
    "        if token in oovs:\n",
    "            # Apply stemming to OOV word\n",
    "            stemmed_tokens.append(stemmer.stem(token))\n",
    "        else:\n",
    "            # Keep in-vocab words unchanged\n",
    "            stemmed_tokens.append(token)\n",
    "    return stemmed_tokens\n",
    "\n",
    "train = train.map(lambda row: {\"stemmed_tokens\": stem_oov_words(row[\"lemmatized_tokens\"], oov_words)})\n",
    "val = val.map(lambda row: {\"stemmed_tokens\": stem_oov_words(row[\"lemmatized_tokens\"], oov_words)})\n",
    "test = test.map(lambda row: {\"stemmed_tokens\": stem_oov_words(row[\"lemmatized_tokens\"], oov_words)})"
   ],
   "id": "5e4e662eb3ee5abf",
   "outputs": [
    {
     "name": "stderr",
     "output_type": "stream",
     "text": [
      "Map: 100%|██████████| 8530/8530 [00:04<00:00, 1766.12 examples/s]\n",
      "Map: 100%|██████████| 1066/1066 [00:00<00:00, 1761.07 examples/s]\n",
      "Map: 100%|██████████| 1066/1066 [00:00<00:00, 1749.55 examples/s]\n"
     ]
    }
   ],
   "execution_count": 17
  },
  {
   "metadata": {
    "ExecuteTime": {
     "end_time": "2024-10-12T18:08:48.708290Z",
     "start_time": "2024-10-12T18:08:48.218991Z"
    }
   },
   "cell_type": "code",
   "source": [
    "# Build Vocab\n",
    "stemmed_vocab = build_vocab(train, \"stemmed_tokens\")\n",
    "\n",
    "# Find OoV Words\n",
    "stemmed_oov_words = [word for word in stemmed_vocab if word not in word2vec_vocab_lst]\n",
    "print(\"Number of OoV words:\", len(stemmed_oov_words))"
   ],
   "id": "2de685fc69452070",
   "outputs": [
    {
     "name": "stdout",
     "output_type": "stream",
     "text": [
      "Number of OoV words: 1612\n"
     ]
    }
   ],
   "execution_count": 18
  },
  {
   "metadata": {
    "ExecuteTime": {
     "end_time": "2024-10-12T18:08:48.943967Z",
     "start_time": "2024-10-12T18:08:48.937491Z"
    }
   },
   "cell_type": "code",
   "source": "stemmed_oov_words",
   "id": "2293b1d231c20179",
   "outputs": [
    {
     "data": {
      "text/plain": [
       "['cowriter/director',\n",
       " 'keenli',\n",
       " 'wisegirl',\n",
       " 'enraptur',\n",
       " 'bleakli',\n",
       " 'frighteningli',\n",
       " 'moviego',\n",
       " 'whimsi',\n",
       " 'cantet',\n",
       " 'cartoonlik',\n",
       " 'compleja',\n",
       " 'intelectualment',\n",
       " 'retadora',\n",
       " 'ladrón',\n",
       " 'precisament',\n",
       " 'originalidad',\n",
       " 'cheesi',\n",
       " 'unassum',\n",
       " 'nettelbeck',\n",
       " 'singer/compos',\n",
       " '\\x97',\n",
       " 'callar',\n",
       " 'deftli',\n",
       " 'ingeni',\n",
       " 'comedy/thril',\n",
       " 'preposter',\n",
       " 'orchestr',\n",
       " 'overprais',\n",
       " 'spycraft',\n",
       " 'meeropol',\n",
       " 'early-80s',\n",
       " 'vertigin',\n",
       " 'piesiewicz',\n",
       " 'earnhart',\n",
       " 'quizzic',\n",
       " 'engross',\n",
       " 'obviat',\n",
       " 'fluidli',\n",
       " 'agreeabl',\n",
       " 'enthral',\n",
       " 'frustrat',\n",
       " 'gorefest',\n",
       " 'cobbl',\n",
       " 'waydowntown',\n",
       " 'claptrap',\n",
       " 'gleefulli',\n",
       " 'underwritten',\n",
       " 'rambuncti',\n",
       " '\\x96',\n",
       " 'foible',\n",
       " 'makmalbaf',\n",
       " 'resolut',\n",
       " 'engagingli',\n",
       " 'moviemak',\n",
       " 'actor/director',\n",
       " 'nuttgen',\n",
       " 'blandli',\n",
       " 'unabashedli',\n",
       " 'schmaltzi',\n",
       " 'unabash',\n",
       " 'uncommerci',\n",
       " 'persnicketi',\n",
       " 'nonthreaten',\n",
       " 'infuri',\n",
       " 'fastidi',\n",
       " 'ellefsen',\n",
       " 'unflinch',\n",
       " 'provocatu',\n",
       " 'testud',\n",
       " 'unsentiment',\n",
       " 'shadowi',\n",
       " 'hubac',\n",
       " 'ribald',\n",
       " 'shapelessli',\n",
       " 'shainberg',\n",
       " 'percol',\n",
       " 'unapologet',\n",
       " 'dazzlingli',\n",
       " 'overindulg',\n",
       " 'shamelessli',\n",
       " 'endearingli',\n",
       " 'bawdi',\n",
       " 'directress',\n",
       " 'breezili',\n",
       " 'apolit',\n",
       " 'gawk',\n",
       " 'uncommonli',\n",
       " 'movingli',\n",
       " 'magimel',\n",
       " 'gamesmanship',\n",
       " 'weepi',\n",
       " 'cockett',\n",
       " 'ostentati',\n",
       " 'boister',\n",
       " 'fraught',\n",
       " 'demeo',\n",
       " 'addessi',\n",
       " 'unnerv',\n",
       " 'horrif',\n",
       " 'gruell',\n",
       " 'seldahl',\n",
       " 'wollter',\n",
       " 'deceivingli',\n",
       " 'goddammit',\n",
       " 'clockstopp',\n",
       " 'mullinski',\n",
       " 'inexperi',\n",
       " 'lavventura',\n",
       " 'congeal',\n",
       " 'narcot',\n",
       " 'ensnar',\n",
       " 'selfdeprecating',\n",
       " 'unrelentingli',\n",
       " 'funnier',\n",
       " 'precollegi',\n",
       " 'compuls',\n",
       " 'watchabl',\n",
       " 'unforgett',\n",
       " 'suffus',\n",
       " 'likabl',\n",
       " 'inexor',\n",
       " 'peter/spiderman',\n",
       " 'ingrati',\n",
       " 'infuriatingli',\n",
       " 'expertli',\n",
       " 'unobtrus',\n",
       " 'unelect',\n",
       " 'incuri',\n",
       " 'uncharismat',\n",
       " 'lightheart',\n",
       " 'unment',\n",
       " 'sparklingli',\n",
       " 'draggi',\n",
       " 'gooddeed/baddeed',\n",
       " 'unaccustom',\n",
       " 'gauzi',\n",
       " 'compellingli',\n",
       " 'defiantli',\n",
       " 'swashbuckl',\n",
       " 'classism',\n",
       " 'antwon',\n",
       " 'shtick',\n",
       " 'personifi',\n",
       " 'horror/thril',\n",
       " 'blobbi',\n",
       " 'superlarg',\n",
       " 'idiosyncrasi',\n",
       " 'incarn',\n",
       " 'disreput',\n",
       " '\\x91what',\n",
       " 'workmanlik',\n",
       " 'benshan',\n",
       " 'goodhumored',\n",
       " 'charmingli',\n",
       " 'peev',\n",
       " 'looseygoosey',\n",
       " 'bedevil',\n",
       " 'moloni',\n",
       " 'stillborn',\n",
       " 'margolo',\n",
       " 'scuzbag',\n",
       " 'recaptur',\n",
       " 'idoosyncrat',\n",
       " 'lackadais',\n",
       " 'flatula',\n",
       " 'denlopp',\n",
       " 'watstein',\n",
       " 'sappier',\n",
       " 'uninhibit',\n",
       " 'shambl',\n",
       " 'inconsequenti',\n",
       " 'suspici',\n",
       " 'carion',\n",
       " 'ofrec',\n",
       " 'condensada',\n",
       " 'aprovechar',\n",
       " 'dyspept',\n",
       " 'divertida',\n",
       " 'visualment',\n",
       " 'entretenida',\n",
       " 'sencillament',\n",
       " 'sorprenderá',\n",
       " 'amusingli',\n",
       " 'entranc',\n",
       " 'insultingli',\n",
       " 'lovejealousy',\n",
       " 'unimpeach',\n",
       " 'breathtakingli',\n",
       " 'snide',\n",
       " 'befuddl',\n",
       " 'scath',\n",
       " 'earthshak',\n",
       " 'disori',\n",
       " 'disturbingli',\n",
       " 'fulsom',\n",
       " 'upholst',\n",
       " 'hallucinatori',\n",
       " 'byler',\n",
       " 'sprightli',\n",
       " 'sarcástica',\n",
       " 'demenci',\n",
       " 'predecesora',\n",
       " 'candidli',\n",
       " 'westfeldt',\n",
       " 'juergensen',\n",
       " 'exud',\n",
       " 'shagster',\n",
       " 'forebod',\n",
       " 'adroitli',\n",
       " 'mawkish',\n",
       " 'overblown',\n",
       " 'hors-doeuvre',\n",
       " 'selfdramatizing',\n",
       " 'filmic',\n",
       " 'themat',\n",
       " 'naqoyqatsi',\n",
       " 'profund',\n",
       " 'policial',\n",
       " 'kaputschnik',\n",
       " 'exuberantli',\n",
       " 'irrever',\n",
       " 'cornbal',\n",
       " 'hickenloop',\n",
       " 'uneasili',\n",
       " 'mistak',\n",
       " 'hypnot',\n",
       " 'ridicul',\n",
       " 'travil',\n",
       " 'nenett',\n",
       " 'schweig',\n",
       " 'bizarr',\n",
       " 'sidesplittingly',\n",
       " 'amateurishli',\n",
       " 'inimit',\n",
       " 'giddili',\n",
       " 'francophile',\n",
       " 'curmudgeon',\n",
       " 'aborb',\n",
       " 'arguabl',\n",
       " 'electrocut',\n",
       " 'monkeyfun',\n",
       " 'bluntli',\n",
       " 'new/old',\n",
       " 'exigency',\n",
       " 'pleasur',\n",
       " 'unrepent',\n",
       " 'unconvent',\n",
       " 'openendedness',\n",
       " 'singlemindedly',\n",
       " 'nutti',\n",
       " 'septuagenarian',\n",
       " 'nonagenarian',\n",
       " 'peddl',\n",
       " 'have-yourself-a-happy-little-holocaust',\n",
       " 'bierbichl',\n",
       " 'crumml',\n",
       " 'poignanc',\n",
       " 'gutbustingly',\n",
       " 'crushingli',\n",
       " 'stultifyingli',\n",
       " 'unsettlingli',\n",
       " 'coldli',\n",
       " 'unselfconsci',\n",
       " 'cockamami',\n",
       " 'precipit',\n",
       " 'swooni',\n",
       " 'nervewracking',\n",
       " 'screamingli',\n",
       " 'nijinski',\n",
       " 'concoct',\n",
       " 'action/effect',\n",
       " 'unindict',\n",
       " 'dankworth',\n",
       " 'breezi',\n",
       " 'savvier',\n",
       " 'inhospit',\n",
       " 'næ',\n",
       " 'queasystomached',\n",
       " 'stoical',\n",
       " 'quirki',\n",
       " 'writer/director',\n",
       " 'clunki',\n",
       " 'unsatisfi',\n",
       " 'reconfigur',\n",
       " 'blundering',\n",
       " 'hastier',\n",
       " 'existência',\n",
       " 'inquestionável',\n",
       " 'conjur',\n",
       " 'jaglom',\n",
       " 'talancón',\n",
       " 'drippi',\n",
       " 'fascin',\n",
       " 'guffaw',\n",
       " 'suffic',\n",
       " 'lucr',\n",
       " 'careworn',\n",
       " 'montia',\n",
       " 'blessedli',\n",
       " 'slipperi',\n",
       " 'screwup',\n",
       " 'stumbl',\n",
       " 'wryli',\n",
       " 'oldworld',\n",
       " 'creepiest',\n",
       " 'neater',\n",
       " 'weari',\n",
       " 'mothbally',\n",
       " 'unsavori',\n",
       " 'birot',\n",
       " 'ramshackl',\n",
       " 'prurient',\n",
       " 'squeamish',\n",
       " 'overlong',\n",
       " 'apesar',\n",
       " 'consegu',\n",
       " 'entret',\n",
       " 'entertainingli',\n",
       " 'bizzarr',\n",
       " 'horrifi',\n",
       " 'throe',\n",
       " 'exhilar',\n",
       " 'skate/surf',\n",
       " 'fresnadillo',\n",
       " 'ratcatch',\n",
       " 'funny/gritti',\n",
       " 'unseemli',\n",
       " 'soggi',\n",
       " 'outrag',\n",
       " 'mollà',\n",
       " 'involvingli',\n",
       " 'decrepitud',\n",
       " 'wifti',\n",
       " 'unflinchingli',\n",
       " 'unflaggingli',\n",
       " 'defoli',\n",
       " 'unhurri',\n",
       " 'gerbosi',\n",
       " 'stuffiest',\n",
       " 'revelatori',\n",
       " 'dubya',\n",
       " 'naiveté',\n",
       " 'alarmingli',\n",
       " 'grandiloqu',\n",
       " 'delhomm',\n",
       " 'deliri',\n",
       " 'contando',\n",
       " 'premissa',\n",
       " 'mergulha',\n",
       " 'culminando',\n",
       " 'desfecho',\n",
       " 'certament',\n",
       " 'bumbl',\n",
       " 'grimli',\n",
       " 'stolid',\n",
       " 'provoc',\n",
       " 'humorless',\n",
       " 'tearyeyed',\n",
       " 'appealingli',\n",
       " 'bewilderingli',\n",
       " 'soaringli',\n",
       " 'devilishli',\n",
       " 'letharg',\n",
       " 'syrupi',\n",
       " 'maddeningli',\n",
       " 'unfre',\n",
       " 'years/',\n",
       " 'speeds/',\n",
       " 'dilithium',\n",
       " 'anspaugh',\n",
       " 'muddl',\n",
       " 'cinemat',\n",
       " 'seigner',\n",
       " 'serrault',\n",
       " 'outgag',\n",
       " 'whippersnapper',\n",
       " 'grandli',\n",
       " 'unwari',\n",
       " 'pulpi',\n",
       " 'irrelev',\n",
       " 'cartoonish',\n",
       " 'meyj',\n",
       " 'profici',\n",
       " 'preordain',\n",
       " 'basest',\n",
       " 'kibbitz',\n",
       " 'bracingli',\n",
       " 'slather',\n",
       " 'auteil',\n",
       " 'cineast',\n",
       " 'intacto',\n",
       " 'stepdad',\n",
       " 'pablum',\n",
       " 'celebrityhood',\n",
       " 'tanov',\n",
       " 'skittish',\n",
       " 'uncon',\n",
       " 'overmanipul',\n",
       " 'unendur',\n",
       " 'schütte',\n",
       " 'dramat',\n",
       " 'sickeningli',\n",
       " 'pervers',\n",
       " 'crappola',\n",
       " 'koshashvili',\n",
       " 'bewild',\n",
       " 'admittedli',\n",
       " 'boozi',\n",
       " 'fizzabl',\n",
       " 'artless',\n",
       " 'decasia',\n",
       " 'showstoppingly',\n",
       " 'scathingli',\n",
       " 'punni',\n",
       " 'telemarket',\n",
       " 'inquisit',\n",
       " 'harangue',\n",
       " 'unfocus',\n",
       " 'prescient',\n",
       " 'choquart',\n",
       " 'unspool',\n",
       " 'unadulter',\n",
       " 'espectáculo',\n",
       " 'contemplars',\n",
       " 'hacerlo',\n",
       " 'humdrum',\n",
       " 'xiaoshuai',\n",
       " 'embroil',\n",
       " 'reenact',\n",
       " 'disingenu',\n",
       " 'complementar',\n",
       " 'igualment',\n",
       " 'fascinant',\n",
       " 'rollick',\n",
       " 'astoundingli',\n",
       " 'satisfyingli',\n",
       " 'trenchant',\n",
       " 'unsubtl',\n",
       " 'adren',\n",
       " 'overwrought',\n",
       " 'captivatingli',\n",
       " 'unfilm',\n",
       " 'flabbergast',\n",
       " 'macnaughton',\n",
       " 'wizen',\n",
       " 'hearten',\n",
       " 'iosseliani',\n",
       " 'achingli',\n",
       " 'comedy/drama',\n",
       " 'fervid',\n",
       " 'unforgivingli',\n",
       " 'unev',\n",
       " 'unreligi',\n",
       " 'beaus',\n",
       " 'unmention',\n",
       " 'cheapen',\n",
       " 'marcken',\n",
       " 'kitschi',\n",
       " 'hardheart',\n",
       " 'feroc',\n",
       " 'disquiet',\n",
       " 'creaki',\n",
       " 'mouglali',\n",
       " 'croon',\n",
       " 'ballplay',\n",
       " 'belittl',\n",
       " 'elegiac',\n",
       " 'hourlong',\n",
       " 'spooki',\n",
       " 'goofbal',\n",
       " 'everlyn',\n",
       " 'kosashvili',\n",
       " 'idemoto',\n",
       " 'horribl',\n",
       " 'ozpetek',\n",
       " 'eerili',\n",
       " 'sugarco',\n",
       " 'gheorghiu',\n",
       " 'cavaradossi',\n",
       " 'scarpia',\n",
       " 'choreograph',\n",
       " 'derringdo',\n",
       " 'cinemant',\n",
       " 'efteriad',\n",
       " 'quickwitted',\n",
       " 'infecti',\n",
       " 'inoffens',\n",
       " 'dullest',\n",
       " 'stillinestimable',\n",
       " 'interaçõ',\n",
       " 'perseguição',\n",
       " 'estudo',\n",
       " 'fun-for-funs-sake',\n",
       " 'underappreci',\n",
       " 'volletta',\n",
       " 'actorli',\n",
       " 'hatosi',\n",
       " 'whimsic',\n",
       " 'playwrit',\n",
       " 'dreari',\n",
       " 'uncinemat',\n",
       " 'corniest',\n",
       " 'gedeck',\n",
       " 'languor',\n",
       " 'so-bad-its-funny',\n",
       " 'unslick',\n",
       " 'assaya',\n",
       " 'jawdroppingly',\n",
       " 'upend',\n",
       " 'roughshod',\n",
       " 'sweatypalmed',\n",
       " 'blighter',\n",
       " 'newfangl',\n",
       " 'penchant',\n",
       " 'invitingli',\n",
       " 'exhilaratingli',\n",
       " 'bullfighter',\n",
       " 'devastatingli',\n",
       " 'goofiest',\n",
       " 'hidebound',\n",
       " 'goodnaturedness',\n",
       " 'goofi',\n",
       " 'stylishli',\n",
       " 'hjelj',\n",
       " 'gaï',\n",
       " 'rueful',\n",
       " 'rubbo',\n",
       " 'tendenti',\n",
       " 'viscer',\n",
       " 'sisterli',\n",
       " 'raucous',\n",
       " 'aggrav',\n",
       " 'masterpeic',\n",
       " 'star/produc',\n",
       " 'frustratingli',\n",
       " 'documentarian',\n",
       " 'enternecedora',\n",
       " 'profundament',\n",
       " 'romántica',\n",
       " 'daringli',\n",
       " 'needlessli',\n",
       " 'kittenish',\n",
       " 'unflapp',\n",
       " 'wildean',\n",
       " 'aplomb',\n",
       " 'groantoguffaw',\n",
       " 'rejigg',\n",
       " 'commerci',\n",
       " 'cursori',\n",
       " 'weirded',\n",
       " 'raunch',\n",
       " 'reinvigor',\n",
       " 'blazingli',\n",
       " 'sanctimoni',\n",
       " 'amiabl',\n",
       " 'souls-eye',\n",
       " 'runteldat',\n",
       " 'director/cowriter',\n",
       " 'cleti',\n",
       " 'musclefest',\n",
       " 'shrill',\n",
       " 'mother/daught',\n",
       " 'weirder',\n",
       " 'líquido',\n",
       " 'incoloro',\n",
       " 'hypermasculin',\n",
       " 'coher',\n",
       " 'redneckversusblueblood',\n",
       " 'phocion',\n",
       " 'phoni',\n",
       " 'grotesqu',\n",
       " 'valiantli',\n",
       " 'blith',\n",
       " 'achronolog',\n",
       " 'aplenti',\n",
       " 'horrend',\n",
       " 'deflat',\n",
       " 'copmovieland',\n",
       " 'misconceiv',\n",
       " 'gradegrubbers',\n",
       " 'intriguingli',\n",
       " 'unburden',\n",
       " 'thenight',\n",
       " 'crawli',\n",
       " 'hitchcockian',\n",
       " 'unrepentantli',\n",
       " 'pageantri',\n",
       " 'schepisi',\n",
       " 'oído',\n",
       " 'movilizador',\n",
       " 'enfrentado',\n",
       " 'prejuicio',\n",
       " 'amateurish',\n",
       " 'engaña',\n",
       " 'enfrentará',\n",
       " 'disfrut',\n",
       " 'prescind',\n",
       " 'patriotero',\n",
       " 'manipulador',\n",
       " 'staggeringli',\n",
       " 'turntablist',\n",
       " 'roundelay',\n",
       " 'indulg',\n",
       " 'chicaneri',\n",
       " 'selfaggrandizing',\n",
       " 'abysm',\n",
       " 'bielinski',\n",
       " 'blatantli',\n",
       " 'irrig',\n",
       " 'nailbit',\n",
       " 'pleasingli',\n",
       " 'rintarô',\n",
       " 'kahlori',\n",
       " 'logra',\n",
       " 'desarrollars',\n",
       " 'tampoco',\n",
       " 'pretenciosa',\n",
       " 'saddl',\n",
       " 'unwieldi',\n",
       " 'ottosallies',\n",
       " 'fumbl',\n",
       " 'masterli',\n",
       " 'nonjudgment',\n",
       " 'filmgo',\n",
       " 'truncheon',\n",
       " 'sunbak',\n",
       " 'claustroph',\n",
       " 'shindler',\n",
       " 'neohitchcockianism',\n",
       " 'chabrolian',\n",
       " 'shapeless',\n",
       " 'ludicr',\n",
       " 'disarmingli',\n",
       " 'touchingli',\n",
       " 'crowdpleas',\n",
       " 'howlingli',\n",
       " 'famuyiwa',\n",
       " 'pincel',\n",
       " 'retrata',\n",
       " 'abandono',\n",
       " 'constatação',\n",
       " 'formalist',\n",
       " 'cornpon',\n",
       " 'whiteknuckled',\n",
       " 'unhing',\n",
       " 'beseechingli',\n",
       " 'kineticallycharged',\n",
       " 'recogniz',\n",
       " 'modicum',\n",
       " 'outsel',\n",
       " 'diseaseof',\n",
       " 'unorigin',\n",
       " 'cativant',\n",
       " 'representando',\n",
       " 'direção',\n",
       " 'contrária',\n",
       " 'evolução',\n",
       " 'musicai',\n",
       " 'workaday',\n",
       " 'solips',\n",
       " 'spielbergian',\n",
       " 'accomod',\n",
       " 'unstint',\n",
       " 'kafkaesqu',\n",
       " 'cannier',\n",
       " 'crudity',\n",
       " 'estupendamente',\n",
       " 'actuada',\n",
       " 'sumament',\n",
       " 'emotiva',\n",
       " 'fílmica',\n",
       " 'olvidar',\n",
       " 'hellsteniu',\n",
       " 'plagu',\n",
       " 'oddest',\n",
       " 'shellshock',\n",
       " 'suspeito',\n",
       " 'ganha',\n",
       " 'adicion',\n",
       " 'wittier',\n",
       " 'feardotcom',\n",
       " 'janklowiczmann',\n",
       " 'democraci',\n",
       " 'edifi',\n",
       " 'arent-kids-cute',\n",
       " 'conniv',\n",
       " 'revigor',\n",
       " 'lawman',\n",
       " 'luvvi',\n",
       " 'ravag',\n",
       " 'bergmanesqu',\n",
       " 'kozmo',\n",
       " 'purer',\n",
       " 'nohe',\n",
       " 'blaxploit',\n",
       " 'flatman',\n",
       " 'keep-em-guessing',\n",
       " 'mordantli',\n",
       " 'unexcept',\n",
       " 'vibrantli',\n",
       " 'punchier',\n",
       " 'veret',\n",
       " 'goodnaturedly',\n",
       " 'drama/charact',\n",
       " 'irrit',\n",
       " 'sadden',\n",
       " 'obnoxi',\n",
       " 'burkinab',\n",
       " 'outré',\n",
       " 'endear',\n",
       " 'misstep',\n",
       " 'flippant',\n",
       " 'meatier',\n",
       " 'ploddingli',\n",
       " 'shmear',\n",
       " 'abornin',\n",
       " 'plaintiv',\n",
       " 'chillingli',\n",
       " 'unemot',\n",
       " 'steini',\n",
       " 'disappearing/reappear',\n",
       " 'dispassion',\n",
       " 'reassuringli',\n",
       " 'contentedli',\n",
       " 'captiv',\n",
       " 'rekindl',\n",
       " 'lightheartedness',\n",
       " 'gawki',\n",
       " 'swordfight',\n",
       " 'quirkili',\n",
       " 'inescap',\n",
       " 'superdooperadorability',\n",
       " 'unhibit',\n",
       " 'tashlin',\n",
       " 'nonexploitive',\n",
       " 'sidestep',\n",
       " 'overdo',\n",
       " 'intoxicatingli',\n",
       " 'japanim',\n",
       " 'achiv',\n",
       " 'pueril',\n",
       " 'bollywood/hollywood',\n",
       " 'keenest',\n",
       " 'winningli',\n",
       " 'flakebal',\n",
       " 'malapropism',\n",
       " 'nightmarish',\n",
       " 'qatsi',\n",
       " 'atrev',\n",
       " 'atacar',\n",
       " 'atacars',\n",
       " 'duración',\n",
       " 'undisciplin',\n",
       " 'unevenli',\n",
       " 'ribcag',\n",
       " 'conmovedora',\n",
       " 'saímo',\n",
       " 'começamo',\n",
       " 'acabamo',\n",
       " 'então',\n",
       " 'desaponta',\n",
       " 'lushli',\n",
       " 'unfak',\n",
       " 'leanest',\n",
       " 'meanest',\n",
       " 'misanthrop',\n",
       " 'insouci',\n",
       " 'smoochi',\n",
       " 'ruinou',\n",
       " 'brusqu',\n",
       " 'politess',\n",
       " 'right-think',\n",
       " 'handsom',\n",
       " 'misdirect',\n",
       " 'rawnerved',\n",
       " 'rhapsod',\n",
       " 'sillier',\n",
       " 'triumphantli',\n",
       " 'thrillingli',\n",
       " 'inexplic',\n",
       " 'pythonesqu',\n",
       " 'marveilleux',\n",
       " 'egregi',\n",
       " 'lipnonsynching',\n",
       " 'unsurpris',\n",
       " 'heremakono',\n",
       " 'subtlest',\n",
       " 'complexli',\n",
       " 'undogmat',\n",
       " 'temptingli',\n",
       " 'hotsi',\n",
       " 'bladerunn',\n",
       " 'dickensian',\n",
       " 'insinu',\n",
       " 'preocupar',\n",
       " 'melodramático',\n",
       " 'pianista',\n",
       " 'emocionant',\n",
       " 'squirm',\n",
       " 'disappointingli',\n",
       " 'obligada',\n",
       " 'camarera',\n",
       " 'expresar',\n",
       " 'avuncular',\n",
       " 'chortle',\n",
       " 'plotless',\n",
       " 'social/economic/urban',\n",
       " 'jarecki',\n",
       " 'helljaunt',\n",
       " 'slickest',\n",
       " 'hyperartificiality',\n",
       " 'typifi',\n",
       " 'bludgeon',\n",
       " 'surehand',\n",
       " 'recurr',\n",
       " 'cierto',\n",
       " 'género',\n",
       " 'actuación',\n",
       " 'perdona',\n",
       " 'guión',\n",
       " 'mibii',\n",
       " 'extravagantli',\n",
       " 'indomit',\n",
       " 'gulpilil',\n",
       " 'dizzili',\n",
       " 'unreliev',\n",
       " 'shimmeringli',\n",
       " 'undeserv',\n",
       " 'grossest',\n",
       " 'heartbreakingli',\n",
       " 'unafraid',\n",
       " 'varmint',\n",
       " 'shrewdli',\n",
       " 'harmlessli',\n",
       " 'narrativa',\n",
       " 'quizá',\n",
       " 'arriesgado',\n",
       " 'próprio',\n",
       " 'paródia',\n",
       " 'clichê',\n",
       " 'havia',\n",
       " 'satirizado',\n",
       " 'nonethn',\n",
       " 'slovenli',\n",
       " 'unscath',\n",
       " '\\x91directtovideo',\n",
       " 'neurasthen',\n",
       " '½',\n",
       " 'dysfunct',\n",
       " 'vulakoro',\n",
       " 'oursid',\n",
       " 'outpac',\n",
       " 'peerlessli',\n",
       " 'wonderwhat',\n",
       " 'farcic',\n",
       " 'laddish',\n",
       " 'exhum',\n",
       " 'vapid',\n",
       " 'mystif',\n",
       " 'viterelli',\n",
       " 'goombah',\n",
       " 'dudsvil',\n",
       " 'potshot',\n",
       " 'cavort',\n",
       " 'mid-70s',\n",
       " 'regurgit',\n",
       " 'flashbulb',\n",
       " 'demeanour',\n",
       " 'cleanflick',\n",
       " 'platitude',\n",
       " 'gargantuan',\n",
       " 'contort',\n",
       " 'surfacey',\n",
       " 'prefeminist',\n",
       " 'knockaround',\n",
       " 'detre',\n",
       " 'shrieki',\n",
       " 'unfunni',\n",
       " 'doingitfor',\n",
       " 'thecash',\n",
       " 'disintegr',\n",
       " 'premisa',\n",
       " 'francament',\n",
       " 'aburrido',\n",
       " 'rehash',\n",
       " 'unapp',\n",
       " 'peevish',\n",
       " 'gimmicki',\n",
       " 'condescens',\n",
       " 'wiseacr',\n",
       " 'cheesier',\n",
       " 'cheesiest',\n",
       " 'abhorr',\n",
       " 'stortel',\n",
       " 'autocritiqu',\n",
       " 'wellintentioned',\n",
       " 'monosyllab',\n",
       " 'ebulli',\n",
       " 'seduc',\n",
       " 'bogdanich',\n",
       " 'unashamedli',\n",
       " 'raucou',\n",
       " 'vainli',\n",
       " 'brainslappingly',\n",
       " 'ineleg',\n",
       " 'leaden',\n",
       " 'swimfan',\n",
       " 'villai',\n",
       " 'wertmul',\n",
       " 'vidgam',\n",
       " 'excruciatingli',\n",
       " 'unengag',\n",
       " 'schlocki',\n",
       " 'horror/act',\n",
       " 'defec',\n",
       " 'flagrantli',\n",
       " 'dreck',\n",
       " 'stumblebum',\n",
       " 'nebrida',\n",
       " 'oedekerk',\n",
       " 'mckluski',\n",
       " 'lovefest',\n",
       " 'minac',\n",
       " 'pretent',\n",
       " 'lacklust',\n",
       " 'unamus',\n",
       " 'unreward',\n",
       " 'fumble',\n",
       " 'submerg',\n",
       " 'underdon',\n",
       " 'snoozer',\n",
       " 'rampantli',\n",
       " 'unsurprisingli',\n",
       " 'unspeak',\n",
       " 'unbear',\n",
       " 'dimwit',\n",
       " 'blutarski',\n",
       " 'execr',\n",
       " 'promisingli',\n",
       " 'treacli',\n",
       " 'heartwarmingli',\n",
       " 'smutti',\n",
       " 'populac',\n",
       " 'enamor',\n",
       " 'teenag',\n",
       " 'mythmak',\n",
       " 'dolphingasm',\n",
       " 'wedgi',\n",
       " 'unimpress',\n",
       " 'uninspir',\n",
       " 'gratingli',\n",
       " 'improb',\n",
       " 'spoofi',\n",
       " 'graceless',\n",
       " 'sleazi',\n",
       " 'pooti',\n",
       " 'punchlin',\n",
       " 'yawner',\n",
       " 'responsável',\n",
       " 'artístico',\n",
       " 'roteirista',\n",
       " 'aproveitar',\n",
       " 'pouquíssimo',\n",
       " 'escapa',\n",
       " 'mediocridad',\n",
       " 'gangster/crim',\n",
       " 'cutesi',\n",
       " 'aimlessli',\n",
       " 'unembarrass',\n",
       " 'unmemor',\n",
       " 'threadbar',\n",
       " 'bibbidybobbidibland',\n",
       " 'nonbeliever',\n",
       " 'flaki',\n",
       " 'funni',\n",
       " 'gussi',\n",
       " 'fudg',\n",
       " 'clichéd',\n",
       " 'cheapo',\n",
       " 'insipid',\n",
       " 'clownish',\n",
       " 'mindnumbingly',\n",
       " 'wheedl',\n",
       " 'soaper',\n",
       " 'palav',\n",
       " 'hungry-man',\n",
       " 'barnburningly',\n",
       " 'whini',\n",
       " 'spindli',\n",
       " 'ingenu',\n",
       " 'unimagin',\n",
       " 'unsympathet',\n",
       " 'deterior',\n",
       " 'selfflagellation',\n",
       " 'ungainli',\n",
       " 'bottomlessli',\n",
       " 'voyeurist',\n",
       " 'onesidedness',\n",
       " 'churlish',\n",
       " 'begrudg',\n",
       " ...]"
      ]
     },
     "execution_count": 19,
     "metadata": {},
     "output_type": "execute_result"
    }
   ],
   "execution_count": 19
  },
  {
   "metadata": {
    "ExecuteTime": {
     "end_time": "2024-10-12T18:08:49.174676Z",
     "start_time": "2024-10-12T18:08:49.172013Z"
    }
   },
   "cell_type": "code",
   "source": "spp = SentencePieceProcessor()",
   "id": "cc288d18ee7b713d",
   "outputs": [],
   "execution_count": 20
  },
  {
   "metadata": {
    "ExecuteTime": {
     "end_time": "2024-10-12T18:08:50.030049Z",
     "start_time": "2024-10-12T18:08:49.400507Z"
    }
   },
   "cell_type": "code",
   "source": "spp.load(hf_hub_download(repo_id=\"BAAI/bge-m3\", filename=\"sentencepiece.bpe.model\"))",
   "id": "220d895a0b8b05b8",
   "outputs": [
    {
     "data": {
      "text/plain": [
       "True"
      ]
     },
     "execution_count": 21,
     "metadata": {},
     "output_type": "execute_result"
    }
   ],
   "execution_count": 21
  },
  {
   "metadata": {
    "ExecuteTime": {
     "end_time": "2024-10-12T18:08:54.670715Z",
     "start_time": "2024-10-12T18:08:50.253149Z"
    }
   },
   "cell_type": "code",
   "source": [
    "def tokenize_with_spp(row, token_col: str, oov):\n",
    "    tokens: str = row[token_col]\n",
    "    row[\"SP_Tokens\"] = []\n",
    "    # Tokenize text into words using SentencePiece\n",
    "    for token in tokens:\n",
    "        if token in oov:\n",
    "            row[\"SP_Tokens\"] += spp.encode_as_pieces(token)\n",
    "        else:\n",
    "            row[\"SP_Tokens\"].append(token)\n",
    "    \n",
    "    return row\n",
    "\n",
    "train = train.map(lambda row: tokenize_with_spp(row, \"lemmatized_tokens\", lemmatized_oov_words))\n",
    "val = val.map(lambda row: tokenize_with_spp(row, \"lemmatized_tokens\", lemmatized_oov_words))\n",
    "test = test.map(lambda row: tokenize_with_spp(row, \"lemmatized_tokens\", lemmatized_oov_words))\n",
    "\n",
    "sentence_piece_vocab = dict(build_vocab(train, \"SP_Tokens\"))\n",
    "\n",
    "def clean_vocab(v):\n",
    "    cleaned_vocab = {}\n",
    "    for token, token_id in v.items():\n",
    "        # If the token length is greater than 1, remove '▁'\n",
    "        if len(token) > 1:\n",
    "            cleaned_token = token.replace('▁', '')\n",
    "        else:\n",
    "            cleaned_token = token\n",
    "        # Add the cleaned token and its ID to the new vocab\n",
    "        cleaned_vocab[cleaned_token] = token_id\n",
    "    \n",
    "    # Sizes of cleaned_vocab and original vocab will not match as duplicates which were previously distinct due to the '_' are now the same\n",
    "    return cleaned_vocab\n",
    "sentence_piece_vocab = clean_vocab(sentence_piece_vocab)\n",
    "\n",
    "# Find OoV Words\n",
    "sp_oov_words = [word for word in sentence_piece_vocab if word not in word2vec_vocab_lst]\n",
    "print(\"Number of OoV words:\", len(oov_words))\n",
    "\n",
    "# We will hence not be using Sentence Piece since it does not help in reducing the number of OOV words"
   ],
   "id": "ba009035b9534ccd",
   "outputs": [
    {
     "name": "stderr",
     "output_type": "stream",
     "text": [
      "Map: 100%|██████████| 8530/8530 [00:03<00:00, 2815.79 examples/s]\n",
      "Map: 100%|██████████| 1066/1066 [00:00<00:00, 2786.67 examples/s]\n",
      "Map: 100%|██████████| 1066/1066 [00:00<00:00, 2794.35 examples/s]\n"
     ]
    },
    {
     "name": "stdout",
     "output_type": "stream",
     "text": [
      "Number of OoV words: 3808\n"
     ]
    }
   ],
   "execution_count": 22
  },
  {
   "metadata": {
    "ExecuteTime": {
     "end_time": "2024-10-12T18:08:55.134066Z",
     "start_time": "2024-10-12T18:08:55.130529Z"
    }
   },
   "cell_type": "code",
   "source": "sp_oov_words",
   "id": "a1bffaf0d11e210c",
   "outputs": [
    {
     "data": {
      "text/plain": [
       "['▁',\n",
       " 'insiste',\n",
       " 'ightening',\n",
       " 'rón',\n",
       " 'quí',\n",
       " 'esos',\n",
       " 'precisamente',\n",
       " 'ssum',\n",
       " '\\x97',\n",
       " 'ously',\n",
       " 'prepo',\n",
       " 'orchestr',\n",
       " 'ropol',\n",
       " 'ological',\n",
       " 'ewicz',\n",
       " 'obvi',\n",
       " 'thra',\n",
       " 'bble',\n",
       " '\\x96',\n",
       " 'fastidio',\n",
       " 'provocat',\n",
       " 'testu',\n",
       " 'mming',\n",
       " 'ically',\n",
       " 'ettes',\n",
       " 'melding',\n",
       " 'wollte',\n",
       " 'inski',\n",
       " 'izing',\n",
       " 'unele',\n",
       " 'cted',\n",
       " 'rious',\n",
       " 'amalga',\n",
       " 'ifying',\n",
       " 'ized',\n",
       " '\\x91',\n",
       " 'ential',\n",
       " 'ofrece',\n",
       " 'condensa',\n",
       " 'aprovechar',\n",
       " 'ptic',\n",
       " 'divertida',\n",
       " 'sorprend',\n",
       " 'rá',\n",
       " 'lement',\n",
       " 'ástica',\n",
       " 'profund',\n",
       " 'policial',\n",
       " 'tsch',\n",
       " 'irre',\n",
       " 'cken',\n",
       " 'schwe',\n",
       " 'ated',\n",
       " 'dled',\n",
       " 'ttle',\n",
       " 'ignan',\n",
       " 'precipit',\n",
       " 'inhos',\n",
       " 'næ',\n",
       " 'existência',\n",
       " 'ável',\n",
       " 'cón',\n",
       " 'fascina',\n",
       " 'zzy',\n",
       " 'gging',\n",
       " 'sque',\n",
       " 'apesar',\n",
       " 'consegue',\n",
       " 'horri',\n",
       " 'gged',\n",
       " 'revela',\n",
       " 'culmina',\n",
       " 'certamente',\n",
       " 'provoca',\n",
       " 'madde',\n",
       " 'pping',\n",
       " 'kosmi',\n",
       " 'gner',\n",
       " 'yje',\n",
       " 'ained',\n",
       " 'ütt',\n",
       " 'dramat',\n",
       " 'pervers',\n",
       " 'espectáculo',\n",
       " 'contempla',\n",
       " 'hacerlo',\n",
       " 'complementar',\n",
       " 'igualmente',\n",
       " 'fascinant',\n",
       " 'satisf',\n",
       " 'captiv',\n",
       " 'cked',\n",
       " 'lles',\n",
       " 'ações',\n",
       " 'persegui',\n",
       " 'ção',\n",
       " 'estudo',\n",
       " 'ality',\n",
       " 'devastat',\n",
       " 'lje',\n",
       " 'tendent',\n",
       " 'documentar',\n",
       " 'ticas',\n",
       " 'tten',\n",
       " 'gger',\n",
       " 'líquido',\n",
       " 'horren',\n",
       " 'bber',\n",
       " 'intrig',\n",
       " 'ído',\n",
       " 'moviliz',\n",
       " 'enfrenta',\n",
       " 'propios',\n",
       " 'enfrentar',\n",
       " 'logra',\n",
       " 'desarrollar',\n",
       " 'tampoco',\n",
       " 'constata',\n",
       " 'realidade',\n",
       " 'icum',\n",
       " 'direção',\n",
       " 'ária',\n",
       " 'evolução',\n",
       " 'musicais',\n",
       " 'lberg',\n",
       " 'odat',\n",
       " 'fí',\n",
       " 'olvidar',\n",
       " 'suspeito',\n",
       " 'ganha',\n",
       " 'adicional',\n",
       " 'owicz',\n",
       " 'kozm',\n",
       " 'morda',\n",
       " 'ception',\n",
       " 'irrita',\n",
       " 'shme',\n",
       " 'usias',\n",
       " 'ollywood',\n",
       " 'ataca',\n",
       " 'duración',\n",
       " 'começa',\n",
       " 'então',\n",
       " 'explica',\n",
       " 'preocupar',\n",
       " 'mático',\n",
       " 'emocion',\n",
       " 'expresar',\n",
       " 'cular',\n",
       " 'ecki',\n",
       " 'recu',\n",
       " 'cierto',\n",
       " 'género',\n",
       " 'actuación',\n",
       " 'ión',\n",
       " 'mmer',\n",
       " 'convencional',\n",
       " 'narrativa',\n",
       " 'zá',\n",
       " 'próprio',\n",
       " 'mesmos',\n",
       " 'havia',\n",
       " 'izado',\n",
       " 'ification',\n",
       " 'itate',\n",
       " 'titude',\n",
       " 'tique',\n",
       " 'ient',\n",
       " 'slapp',\n",
       " 'flagrant',\n",
       " 'flict',\n",
       " 'responsável',\n",
       " 'artístico',\n",
       " 'aproveitar',\n",
       " 'íssimo',\n",
       " 'escapa',\n",
       " 'idade',\n",
       " 'crestin',\n",
       " 'deteriora',\n",
       " 'dirigir',\n",
       " 'aqueles',\n",
       " 'decidir',\n",
       " 'pher',\n",
       " 'fritt',\n",
       " 'eldri',\n",
       " 'único',\n",
       " 'pys',\n",
       " 'devolv',\n",
       " 'owski',\n",
       " 'ified',\n",
       " 'rier',\n",
       " 'ström',\n",
       " 'commodi',\n",
       " 'illion',\n",
       " 'tical',\n",
       " 'mmel',\n",
       " 'lás',\n",
       " 'ciones',\n",
       " 'minen',\n",
       " 'tici',\n",
       " 'ffer',\n",
       " 'reitera',\n",
       " 'elaborat',\n",
       " 'ción',\n",
       " 'dirigida',\n",
       " 'pérdida',\n",
       " 'escent',\n",
       " 'eurot',\n",
       " 'diverti',\n",
       " 'tler',\n",
       " 'plic',\n",
       " 'episódio',\n",
       " 'diferença',\n",
       " 'exibi',\n",
       " 'quisition',\n",
       " 'ovich',\n",
       " 'ization',\n",
       " 'dès',\n",
       " 'espetáculo',\n",
       " 'ticamente',\n",
       " 'kvet',\n",
       " 'concilia',\n",
       " 'decorat',\n",
       " 'affront',\n",
       " 'ência',\n",
       " 'ssima',\n",
       " 'ambiti',\n",
       " 'spicio',\n",
       " 'erings',\n",
       " 'comienza',\n",
       " 'intenta',\n",
       " 'rápidamente',\n",
       " 'absolutamente',\n",
       " 'esforço',\n",
       " 'amento',\n",
       " 'instante',\n",
       " 'repeti',\n",
       " 'impon',\n",
       " 'métier',\n",
       " 'cious',\n",
       " 'glaci',\n",
       " 'necessidade',\n",
       " 'término',\n",
       " 'preocupe',\n",
       " 'izando']"
      ]
     },
     "execution_count": 23,
     "metadata": {},
     "output_type": "execute_result"
    }
   ],
   "execution_count": 23
  },
  {
   "metadata": {
    "ExecuteTime": {
     "end_time": "2024-10-12T18:09:24.713161Z",
     "start_time": "2024-10-12T18:08:55.151434Z"
    }
   },
   "cell_type": "code",
   "source": [
    "# Map the tokens to their corresponding IDs\n",
    "def map_tokens_to_ids(row, embed_vocab_map, tokens_col):\n",
    "    # First mark the unknown tokens as 0\n",
    "    row[\"token_ids\"] = [embed_vocab_map[token] if token in embed_vocab_map else 0 for token in row[tokens_col]]\n",
    "    \n",
    "    return row\n",
    "\n",
    "# Pad the sequences to a fixed length\n",
    "def pad_sequence(row, max_len, padding):\n",
    "    row[\"token_ids\"] = tf.keras.utils.pad_sequences([row[\"token_ids\"]], maxlen=max_len, padding=padding,\n",
    "                                                    value=0)[0]\n",
    "    return row\n",
    "\n",
    "def process_data(data, embed_vocab_map, token_col):\n",
    "    # Map Tokens to IDs\n",
    "    data = data.map(lambda row: map_tokens_to_ids(row, embed_vocab_map, token_col))\n",
    "    \n",
    "    # Pad Sequences\n",
    "    max_len = max(len(row['token_ids']) for row in data)\n",
    "    data = data.map(lambda row: pad_sequence(row, max_len, 'pre'))\n",
    "    \n",
    "    # Prune Dataset Columns to only include the necessary columns\n",
    "    pruned_data = data.remove_columns(list(set(data.column_names) - {'token_ids', 'label'}))\n",
    "    return pruned_data\n",
    "\n",
    "train_dataset = process_data(train, embed_model.key_to_index, \"stemmed_tokens\")\n",
    "val_dataset = process_data(val, embed_model.key_to_index, \"stemmed_tokens\")\n",
    "test_dataset = process_data(test, embed_model.key_to_index, \"stemmed_tokens\")\n"
   ],
   "id": "2c9d4e9cc0f14af1",
   "outputs": [
    {
     "name": "stderr",
     "output_type": "stream",
     "text": [
      "Map: 100%|██████████| 8530/8530 [00:00<00:00, 16114.77 examples/s]\n",
      "Map: 100%|██████████| 8530/8530 [00:00<00:00, 20347.51 examples/s]\n",
      "Map: 100%|██████████| 1066/1066 [00:00<00:00, 21013.61 examples/s]\n",
      "Map: 100%|██████████| 1066/1066 [00:00<00:00, 19934.14 examples/s]\n",
      "Map: 100%|██████████| 1066/1066 [00:00<00:00, 20622.24 examples/s]\n",
      "Map: 100%|██████████| 1066/1066 [00:00<00:00, 19886.88 examples/s]\n"
     ]
    }
   ],
   "execution_count": 24
  },
  {
   "metadata": {
    "ExecuteTime": {
     "end_time": "2024-10-12T18:09:24.945480Z",
     "start_time": "2024-10-12T18:09:24.941829Z"
    }
   },
   "cell_type": "code",
   "source": "print(train_dataset[0]['token_ids'], train[0]['label'])",
   "id": "42ec12ce99bf9661",
   "outputs": [
    {
     "name": "stdout",
     "output_type": "stream",
     "text": [
      "[0, 0, 0, 0, 0, 0, 0, 0, 0, 0, 0, 0, 0, 0, 0, 0, 0, 0, 0, 0, 0, 0, 0, 0, 0, 212, 4199, 1470, 370475, 485, 2943, 212, 12413, 8590, 9281, 731, 45480, 21626, 45480, 388, 3561, 2842, 9281, 18612, 485, 4323, 179, 22087, 10905, 29458, 11889, 21134, 79039, 2, 13753, 395158, 2972, 140869, 2174, 14577, 70856, 1] 1\n"
     ]
    }
   ],
   "execution_count": 25
  },
  {
   "metadata": {
    "ExecuteTime": {
     "end_time": "2024-10-12T18:09:25.781909Z",
     "start_time": "2024-10-12T18:09:25.172857Z"
    }
   },
   "cell_type": "code",
   "source": [
    "def create_tf_dataset(data):\n",
    "    return tf.data.Dataset.from_tensor_slices((data['token_ids'], data['label']))\n",
    "\n",
    "train_dataset = create_tf_dataset(train_dataset)\n",
    "val_dataset = create_tf_dataset(val_dataset)\n",
    "test_dataset = create_tf_dataset(test_dataset)\n",
    "\n",
    "from constants import BATCH_SIZE\n",
    "\n",
    "# Batch, shuffle and Prefetch the datasets\n",
    "train_dataset = train_dataset.batch(BATCH_SIZE).shuffle(1000).prefetch(tf.data.AUTOTUNE)\n",
    "val_dataset = val_dataset.batch(BATCH_SIZE).prefetch(tf.data.AUTOTUNE)\n",
    "test_dataset = test_dataset.batch(BATCH_SIZE).prefetch(tf.data.AUTOTUNE)"
   ],
   "id": "e746deccdf77177",
   "outputs": [],
   "execution_count": 26
  },
  {
   "metadata": {
    "ExecuteTime": {
     "end_time": "2024-10-12T18:09:26.034674Z",
     "start_time": "2024-10-12T18:09:26.011366Z"
    }
   },
   "cell_type": "code",
   "source": "list(word2vec_vocab_lst)[0]",
   "id": "3a12cc4e5490e836",
   "outputs": [
    {
     "data": {
      "text/plain": [
       "'</s>'"
      ]
     },
     "execution_count": 27,
     "metadata": {},
     "output_type": "execute_result"
    }
   ],
   "execution_count": 27
  },
  {
   "metadata": {
    "ExecuteTime": {
     "end_time": "2024-10-12T18:09:26.267978Z",
     "start_time": "2024-10-12T18:09:26.265102Z"
    }
   },
   "cell_type": "code",
   "source": "('</s>' in stemmed_vocab) and ('</s>' in vanilla_vocab)",
   "id": "e8e3d93adbffd080",
   "outputs": [
    {
     "data": {
      "text/plain": [
       "False"
      ]
     },
     "execution_count": 28,
     "metadata": {},
     "output_type": "execute_result"
    }
   ],
   "execution_count": 28
  },
  {
   "metadata": {},
   "cell_type": "markdown",
   "source": "Since the token '\\</s>\\' is not present in the training vocab but is present in the embeddings vocab, we will use it as the padding token.",
   "id": "808073d4ac5e5a7d"
  },
  {
   "metadata": {
    "ExecuteTime": {
     "end_time": "2024-10-12T18:09:26.544100Z",
     "start_time": "2024-10-12T18:09:26.496998Z"
    }
   },
   "cell_type": "code",
   "source": [
    "for row in train_dataset.take(3):\n",
    "    print(row)"
   ],
   "id": "e4a501d276eeaa5",
   "outputs": [
    {
     "name": "stdout",
     "output_type": "stream",
     "text": [
      "(<tf.Tensor: shape=(32, 62), dtype=int32, numpy=\n",
      "array([[      0,       0,       0, ...,     212,    2090,       1],\n",
      "       [      0,       0,       0, ...,   10274,   20100,       1],\n",
      "       [      0,       0,       0, ...,     212,   27732,       1],\n",
      "       ...,\n",
      "       [      0,       0,       0, ...,   16435,    5781,       1],\n",
      "       [      0,       0,       0, ..., 2290930,  226252,       1],\n",
      "       [      0,       0,       0, ...,     485,    2943,       1]],\n",
      "      dtype=int32)>, <tf.Tensor: shape=(32,), dtype=int32, numpy=\n",
      "array([1, 1, 1, 1, 1, 1, 1, 1, 1, 1, 1, 1, 1, 1, 1, 1, 1, 1, 1, 1, 1, 1,\n",
      "       1, 1, 1, 1, 1, 1, 1, 1, 1, 1], dtype=int32)>)\n",
      "(<tf.Tensor: shape=(32, 62), dtype=int32, numpy=\n",
      "array([[     0,      0,      0, ...,    212,   4562,      1],\n",
      "       [     0,      0,      0, ...,  21549,  86050,      1],\n",
      "       [     0,      0,      0, ...,  29902,   8259,      1],\n",
      "       ...,\n",
      "       [     0,      0,      0, ...,    388, 570342,      1],\n",
      "       [     0,      0,      0, ...,    254,  35864,      1],\n",
      "       [     0,      0,      0, ...,    388,   4600,      1]], dtype=int32)>, <tf.Tensor: shape=(32,), dtype=int32, numpy=\n",
      "array([1, 1, 1, 1, 1, 1, 1, 1, 1, 1, 1, 1, 1, 1, 1, 1, 1, 1, 1, 1, 1, 1,\n",
      "       1, 1, 1, 1, 1, 1, 1, 1, 1, 1], dtype=int32)>)\n",
      "(<tf.Tensor: shape=(32, 62), dtype=int32, numpy=\n",
      "array([[      0,       0,       0, ...,   32947,  378147,       1],\n",
      "       [      0,       0,       0, ...,  464883, 1416474,       1],\n",
      "       [      0,       0,       0, ...,    6975,   17127,       1],\n",
      "       ...,\n",
      "       [      0,       0,       0, ...,    9281,   33143,       1],\n",
      "       [      0,       0,       0, ...,  908818,  421031,       1],\n",
      "       [      0,       0,       0, ...,    8736,   39018,   42924]],\n",
      "      dtype=int32)>, <tf.Tensor: shape=(32,), dtype=int32, numpy=\n",
      "array([0, 0, 0, 0, 0, 0, 0, 0, 0, 0, 0, 0, 0, 0, 0, 0, 0, 0, 0, 0, 0, 0,\n",
      "       0, 0, 0, 0, 0, 0, 0, 0, 0, 0], dtype=int32)>)\n"
     ]
    },
    {
     "name": "stderr",
     "output_type": "stream",
     "text": [
      "2024-10-13 02:09:26.541822: I tensorflow/core/framework/local_rendezvous.cc:404] Local rendezvous is aborting with status: OUT_OF_RANGE: End of sequence\n"
     ]
    }
   ],
   "execution_count": 29
  },
  {
   "metadata": {},
   "cell_type": "markdown",
   "source": [
    "### Question 1c:\n",
    "The existence of the OOV words is one of the well-known limitations of Word2vec (or Glove).\n",
    "Without using any transformer-based language models (e.g., BERT, GPT, T5), what do you\n",
    "think is the best strategy to mitigate such limitation? Implement your solution in your source\n",
    "code. Show the corresponding code snippet.\n",
    "\n",
    "Ans: One way would be to replace all '<UNK>' tokens that represent OOV words with 0. However, as the padding token is also set to 0, this is not ideal as this may confuse the model. Another better way would be to replace the OOV words with the average of the sequence."
   ],
   "id": "2605eba59b49c69c"
  },
  {
   "metadata": {
    "ExecuteTime": {
     "end_time": "2024-10-12T18:57:29.203722Z",
     "start_time": "2024-10-12T18:57:29.197452Z"
    }
   },
   "cell_type": "code",
   "source": [
    "# Map the tokens to their corresponding IDs\n",
    "def map_tokens_to_ids_mitigate_oov(row, embed_vocab_map, tokens_col):\n",
    "    # First mark the unknown tokens as 0\n",
    "    row[\"token_ids\"] = [embed_vocab_map[token] if token in embed_vocab_map else 0 for token in row[tokens_col]]\n",
    "    \n",
    "    # Find the average of sequence\n",
    "    average = sum(row[\"token_ids\"]) / len(row[\"token_ids\"])\n",
    "    \n",
    "    # Replace the unknown tokens with the average\n",
    "    row[\"token_ids\"] = [average if token_id == 0 else token_id for token_id in row[\"token_ids\"]]\n",
    "    \n",
    "    return row\n",
    "\n",
    "def process_data_mitigate_oov(data, embed_vocab_map, token_col):\n",
    "    # Map Tokens to IDs\n",
    "    data = data.map(lambda row: map_tokens_to_ids_mitigate_oov(row, embed_vocab_map, token_col))\n",
    "    \n",
    "    # Pad Sequences\n",
    "    max_len = max(len(row['token_ids']) for row in data)\n",
    "    data = data.map(lambda row: pad_sequence(row, max_len, 'pre'))\n",
    "    \n",
    "    # Prune Dataset Columns to only include the necessary columns\n",
    "    pruned_data = data.remove_columns(list(set(data.column_names) - {'token_ids', 'label'}))\n",
    "    return pruned_data"
   ],
   "id": "772e0f42fa6aa811",
   "outputs": [],
   "execution_count": 73
  },
  {
   "metadata": {},
   "cell_type": "markdown",
   "source": "# Part 2. Model Training & Evaluation - RNN",
   "id": "a54b8288c8d4534c"
  },
  {
   "metadata": {
    "ExecuteTime": {
     "end_time": "2024-10-12T18:09:27.009039Z",
     "start_time": "2024-10-12T18:09:27.005706Z"
    }
   },
   "cell_type": "code",
   "source": [
    "import keras\n",
    "class SentimentRNNLastState(keras.Model):\n",
    "    def __init__(self, embedding_model, rnn_units, output_dim):\n",
    "        super(SentimentRNNLastState, self).__init__()\n",
    "\n",
    "        # Embedding layer to map input words to word embeddings\n",
    "        weights = embedding_model.vectors  # vectors themselves, a 2D numpy array    \n",
    "        #index_to_key = keyed_vectors.index_to_key  # which row in `weights` corresponds to which word?\n",
    "    \n",
    "        self.embedding = keras.layers.Embedding(\n",
    "            input_dim=weights.shape[0],\n",
    "            output_dim=weights.shape[1],\n",
    "            weights=weights,\n",
    "            trainable=False,\n",
    "            mask_zero=True\n",
    "        )\n",
    "        \n",
    "        # Recurrent layer (RNN)\n",
    "        self.rnn = keras.layers.SimpleRNN(rnn_units, \n",
    "                                          activation=\"tanh\",       # Help with exploding gradients\n",
    "                                          return_sequences=False)  # Return only the last state\n",
    "        \n",
    "        # Drop 50% of units:\n",
    "        #self.dropout = keras.layers.Dropout(0.5)\n",
    "        \n",
    "        # Layer to introduce non-linearity\n",
    "        self.nonlinear = keras.layers.Dense(rnn_units, \n",
    "                                            activation='relu', # Help with vanishing gradients\n",
    "                                            #kernel_regularizer=keras.regularizers.l2(0.01) # Help to reduce overfitting\n",
    "                                            )\n",
    "        \n",
    "        # Drop 50% of units:\n",
    "        self.dropout2 = keras.layers.Dropout(0.5)\n",
    "        \n",
    "        # Dense layer to aggregate RNN output and predict sentiment (binary classification)\n",
    "        self.dense = keras.layers.Dense(output_dim, activation='sigmoid')\n",
    "    \n",
    "    def call(self, inputs):\n",
    "        # Pass inputs through embedding layer\n",
    "        x = self.embedding(inputs)\n",
    "        \n",
    "        # Pass embeddings through RNN layer\n",
    "        x = self.rnn(x)\n",
    "        \n",
    "        # Dropout\n",
    "        #x = self.dropout(x)\n",
    "        \n",
    "        # Pass to non-linear layer\n",
    "        x = self.nonlinear(x)\n",
    "        \n",
    "        # Dropout\n",
    "        x = self.dropout2(x)\n",
    "        \n",
    "        # Pass the RNN output through a dense layer for prediction\n",
    "        output = self.dense(x)\n",
    "        \n",
    "        return output"
   ],
   "id": "d81bba3120a773a5",
   "outputs": [],
   "execution_count": 31
  },
  {
   "metadata": {
    "ExecuteTime": {
     "end_time": "2024-10-12T18:09:28.416713Z",
     "start_time": "2024-10-12T18:09:27.237031Z"
    }
   },
   "cell_type": "code",
   "source": [
    "from constants import ADAM_LR, SGD_LR\n",
    "\n",
    "rnn_modellastState = SentimentRNNLastState(embed_model, 128, 1)\n",
    "optimizer = tf.keras.optimizers.Adam(learning_rate=ADAM_LR)\n",
    "optimizer = tf.keras.optimizers.SGD(learning_rate=SGD_LR)\n",
    "loss = tf.keras.losses.BinaryCrossentropy(from_logits=False)\n",
    "early_stopping = tf.keras.callbacks.EarlyStopping(monitor='val_accuracy', \n",
    "                                                  patience=10, \n",
    "                                                  start_from_epoch=20,\n",
    "                                                  restore_best_weights=True)\n",
    "rnn_modellastState.compile(optimizer, loss=loss, metrics=['accuracy'])\n",
    "rnn_modellastState.summary()"
   ],
   "id": "4100488c00a8956a",
   "outputs": [
    {
     "data": {
      "text/plain": [
       "\u001B[1mModel: \"sentiment_rnn_last_state\"\u001B[0m\n"
      ],
      "text/html": [
       "<pre style=\"white-space:pre;overflow-x:auto;line-height:normal;font-family:Menlo,'DejaVu Sans Mono',consolas,'Courier New',monospace\"><span style=\"font-weight: bold\">Model: \"sentiment_rnn_last_state\"</span>\n",
       "</pre>\n"
      ]
     },
     "metadata": {},
     "output_type": "display_data"
    },
    {
     "data": {
      "text/plain": [
       "┏━━━━━━━━━━━━━━━━━━━━━━━━━━━━━━━━━┳━━━━━━━━━━━━━━━━━━━━━━━━┳━━━━━━━━━━━━━━━┓\n",
       "┃\u001B[1m \u001B[0m\u001B[1mLayer (type)                   \u001B[0m\u001B[1m \u001B[0m┃\u001B[1m \u001B[0m\u001B[1mOutput Shape          \u001B[0m\u001B[1m \u001B[0m┃\u001B[1m \u001B[0m\u001B[1m      Param #\u001B[0m\u001B[1m \u001B[0m┃\n",
       "┡━━━━━━━━━━━━━━━━━━━━━━━━━━━━━━━━━╇━━━━━━━━━━━━━━━━━━━━━━━━╇━━━━━━━━━━━━━━━┩\n",
       "│ embedding (\u001B[38;5;33mEmbedding\u001B[0m)           │ ?                      │   \u001B[38;5;34m289,910,700\u001B[0m │\n",
       "├─────────────────────────────────┼────────────────────────┼───────────────┤\n",
       "│ simple_rnn (\u001B[38;5;33mSimpleRNN\u001B[0m)          │ ?                      │   \u001B[38;5;34m0\u001B[0m (unbuilt) │\n",
       "├─────────────────────────────────┼────────────────────────┼───────────────┤\n",
       "│ dense (\u001B[38;5;33mDense\u001B[0m)                   │ ?                      │   \u001B[38;5;34m0\u001B[0m (unbuilt) │\n",
       "├─────────────────────────────────┼────────────────────────┼───────────────┤\n",
       "│ dropout (\u001B[38;5;33mDropout\u001B[0m)               │ ?                      │             \u001B[38;5;34m0\u001B[0m │\n",
       "├─────────────────────────────────┼────────────────────────┼───────────────┤\n",
       "│ dense_1 (\u001B[38;5;33mDense\u001B[0m)                 │ ?                      │   \u001B[38;5;34m0\u001B[0m (unbuilt) │\n",
       "└─────────────────────────────────┴────────────────────────┴───────────────┘\n"
      ],
      "text/html": [
       "<pre style=\"white-space:pre;overflow-x:auto;line-height:normal;font-family:Menlo,'DejaVu Sans Mono',consolas,'Courier New',monospace\">┏━━━━━━━━━━━━━━━━━━━━━━━━━━━━━━━━━┳━━━━━━━━━━━━━━━━━━━━━━━━┳━━━━━━━━━━━━━━━┓\n",
       "┃<span style=\"font-weight: bold\"> Layer (type)                    </span>┃<span style=\"font-weight: bold\"> Output Shape           </span>┃<span style=\"font-weight: bold\">       Param # </span>┃\n",
       "┡━━━━━━━━━━━━━━━━━━━━━━━━━━━━━━━━━╇━━━━━━━━━━━━━━━━━━━━━━━━╇━━━━━━━━━━━━━━━┩\n",
       "│ embedding (<span style=\"color: #0087ff; text-decoration-color: #0087ff\">Embedding</span>)           │ ?                      │   <span style=\"color: #00af00; text-decoration-color: #00af00\">289,910,700</span> │\n",
       "├─────────────────────────────────┼────────────────────────┼───────────────┤\n",
       "│ simple_rnn (<span style=\"color: #0087ff; text-decoration-color: #0087ff\">SimpleRNN</span>)          │ ?                      │   <span style=\"color: #00af00; text-decoration-color: #00af00\">0</span> (unbuilt) │\n",
       "├─────────────────────────────────┼────────────────────────┼───────────────┤\n",
       "│ dense (<span style=\"color: #0087ff; text-decoration-color: #0087ff\">Dense</span>)                   │ ?                      │   <span style=\"color: #00af00; text-decoration-color: #00af00\">0</span> (unbuilt) │\n",
       "├─────────────────────────────────┼────────────────────────┼───────────────┤\n",
       "│ dropout (<span style=\"color: #0087ff; text-decoration-color: #0087ff\">Dropout</span>)               │ ?                      │             <span style=\"color: #00af00; text-decoration-color: #00af00\">0</span> │\n",
       "├─────────────────────────────────┼────────────────────────┼───────────────┤\n",
       "│ dense_1 (<span style=\"color: #0087ff; text-decoration-color: #0087ff\">Dense</span>)                 │ ?                      │   <span style=\"color: #00af00; text-decoration-color: #00af00\">0</span> (unbuilt) │\n",
       "└─────────────────────────────────┴────────────────────────┴───────────────┘\n",
       "</pre>\n"
      ]
     },
     "metadata": {},
     "output_type": "display_data"
    },
    {
     "data": {
      "text/plain": [
       "\u001B[1m Total params: \u001B[0m\u001B[38;5;34m289,910,700\u001B[0m (1.08 GB)\n"
      ],
      "text/html": [
       "<pre style=\"white-space:pre;overflow-x:auto;line-height:normal;font-family:Menlo,'DejaVu Sans Mono',consolas,'Courier New',monospace\"><span style=\"font-weight: bold\"> Total params: </span><span style=\"color: #00af00; text-decoration-color: #00af00\">289,910,700</span> (1.08 GB)\n",
       "</pre>\n"
      ]
     },
     "metadata": {},
     "output_type": "display_data"
    },
    {
     "data": {
      "text/plain": [
       "\u001B[1m Trainable params: \u001B[0m\u001B[38;5;34m0\u001B[0m (0.00 B)\n"
      ],
      "text/html": [
       "<pre style=\"white-space:pre;overflow-x:auto;line-height:normal;font-family:Menlo,'DejaVu Sans Mono',consolas,'Courier New',monospace\"><span style=\"font-weight: bold\"> Trainable params: </span><span style=\"color: #00af00; text-decoration-color: #00af00\">0</span> (0.00 B)\n",
       "</pre>\n"
      ]
     },
     "metadata": {},
     "output_type": "display_data"
    },
    {
     "data": {
      "text/plain": [
       "\u001B[1m Non-trainable params: \u001B[0m\u001B[38;5;34m289,910,700\u001B[0m (1.08 GB)\n"
      ],
      "text/html": [
       "<pre style=\"white-space:pre;overflow-x:auto;line-height:normal;font-family:Menlo,'DejaVu Sans Mono',consolas,'Courier New',monospace\"><span style=\"font-weight: bold\"> Non-trainable params: </span><span style=\"color: #00af00; text-decoration-color: #00af00\">289,910,700</span> (1.08 GB)\n",
       "</pre>\n"
      ]
     },
     "metadata": {},
     "output_type": "display_data"
    }
   ],
   "execution_count": 32
  },
  {
   "metadata": {
    "ExecuteTime": {
     "end_time": "2024-10-12T18:11:09.506405Z",
     "start_time": "2024-10-12T18:09:28.676953Z"
    }
   },
   "cell_type": "code",
   "source": [
    "tf.keras.backend.clear_session()\n",
    "tf.keras.utils.disable_interactive_logging()\n",
    "\n",
    "rnn_last_state_hist = rnn_modellastState.fit(train_dataset, validation_data=val_dataset, epochs=100, verbose=1, callbacks=[early_stopping], batch_size=BATCH_SIZE)"
   ],
   "id": "980312da6d1f2b73",
   "outputs": [
    {
     "name": "stdout",
     "output_type": "stream",
     "text": [
      "\u001B[1m264/267\u001B[0m \u001B[32m━━━━━━━━━━━━━━━━━━━\u001B[0m\u001B[37m━\u001B[0m \u001B[1m0s\u001B[0m 11ms/step - accuracy: 0.8050 - loss: 0.4323"
     ]
    }
   ],
   "execution_count": 33
  },
  {
   "metadata": {
    "ExecuteTime": {
     "end_time": "2024-10-12T18:11:10.237520Z",
     "start_time": "2024-10-12T18:11:09.794298Z"
    }
   },
   "cell_type": "code",
   "source": [
    "import matplotlib.pyplot as plt\n",
    "def plot_history(hist, model_name):\n",
    "    # Plot history\n",
    "    plt.plot(hist.history['val_accuracy'], label='validation accuracy')\n",
    "    plt.plot(hist.history['accuracy'], label='training accuracy')\n",
    "    \n",
    "    \n",
    "    # Add title and axis labels\n",
    "    plt.title(f'{model_name} Accuracy Over Epochs')\n",
    "    plt.xlabel('Epochs')\n",
    "    plt.ylabel('Accuracy')\n",
    "    \n",
    "    # Add legend\n",
    "    plt.legend()\n",
    "    \n",
    "    # Display the plot\n",
    "    plt.show()\n",
    "    \n",
    "plot_history(rnn_last_state_hist, 'RNN with Last State')"
   ],
   "id": "1813fe3b0d931d37",
   "outputs": [
    {
     "data": {
      "text/plain": [
       "<Figure size 640x480 with 1 Axes>"
      ],
      "image/png": "[encoded data removed]"
     },
     "metadata": {},
     "output_type": "display_data"
    }
   ],
   "execution_count": 34
  },
  {
   "metadata": {
    "ExecuteTime": {
     "end_time": "2024-10-12T18:11:11.004024Z",
     "start_time": "2024-10-12T18:11:10.783420Z"
    }
   },
   "cell_type": "code",
   "source": [
    "test_loss, test_acc = rnn_modellastState.evaluate(test_dataset)\n",
    "print('\\nTest Loss: {}'.format(test_loss))\n",
    "print('Test Accuracy: {}'.format(test_acc))"
   ],
   "id": "81282b7404c5cf33",
   "outputs": [
    {
     "name": "stdout",
     "output_type": "stream",
     "text": [
      "\u001B[1m29/34\u001B[0m \u001B[32m━━━━━━━━━━━━━━━━━\u001B[0m\u001B[37m━━━\u001B[0m \u001B[1m0s\u001B[0m 4ms/step - accuracy: 0.5702 - loss: 0.7142\n",
      "Test Loss: 0.7003790140151978\n",
      "Test Accuracy: 0.596622884273529\n"
     ]
    }
   ],
   "execution_count": 35
  },
  {
   "metadata": {
    "ExecuteTime": {
     "end_time": "2024-10-12T18:11:11.011437Z",
     "start_time": "2024-10-12T18:11:11.007733Z"
    }
   },
   "cell_type": "code",
   "source": [
    "class SentimentRNNMaxPool(keras.Model):\n",
    "    def __init__(self, embedding_model, rnn_units, output_dim):\n",
    "        super(SentimentRNNMaxPool, self).__init__()\n",
    "\n",
    "        # Embedding layer to map input words to word embeddings\n",
    "        weights = embedding_model.vectors  # vectors themselves, a 2D numpy array    \n",
    "        #index_to_key = keyed_vectors.index_to_key  # which row in `weights` corresponds to which word?\n",
    "    \n",
    "        self.embedding = keras.layers.Embedding(\n",
    "            input_dim=weights.shape[0],\n",
    "            output_dim=weights.shape[1],\n",
    "            weights=weights,\n",
    "            trainable=False,\n",
    "            mask_zero=True\n",
    "        )\n",
    "        \n",
    "        # Recurrent layer (RNN)\n",
    "        self.rnn = keras.layers.SimpleRNN(rnn_units, \n",
    "                                          activation=\"tanh\",    # Help with exploding gradients\n",
    "                                          return_sequences=True)  # Return all hidden states\n",
    "        \n",
    "        # Drop 50% of units:\n",
    "        #self.dropout = keras.layers.Dropout(0.5)\n",
    "        \n",
    "        # Max Pool the hidden states\n",
    "        self.max_pool = keras.layers.GlobalMaxPool1D()\n",
    "        \n",
    "        # Layer to introduce non-linearity\n",
    "        self.nonlinear = keras.layers.Dense(1, \n",
    "                                            activation='relu', # Help with vanishing gradients\n",
    "                                            #kernel_regularizer=keras.regularizers.l2(0.01)\n",
    "                                            )\n",
    "        \n",
    "        # Drop 50% of units:\n",
    "        self.dropout2 = keras.layers.Dropout(0.5)\n",
    "        \n",
    "        # Dense layer to aggregate RNN output and predict sentiment (binary classification)\n",
    "        self.dense = keras.layers.Dense(output_dim, activation='sigmoid')\n",
    "    \n",
    "    def call(self, inputs):\n",
    "        # Pass inputs through embedding layer\n",
    "        x = self.embedding(inputs)\n",
    "        \n",
    "        # Pass embeddings through RNN layer\n",
    "        x = self.rnn(x)\n",
    "        \n",
    "        # Max Pool\n",
    "        x = self.max_pool(x)\n",
    "        \n",
    "        # Dropout\n",
    "        #x = self.dropout(x)\n",
    "        \n",
    "        # Pass to non-linear layer\n",
    "        x = self.nonlinear(x)\n",
    "        \n",
    "        # Dropout\n",
    "        x = self.dropout2(x)\n",
    "        \n",
    "        # Pass the RNN output through a dense layer for prediction\n",
    "        output = self.dense(x)\n",
    "        \n",
    "        return output"
   ],
   "id": "4c5d5812047b3536",
   "outputs": [],
   "execution_count": 36
  },
  {
   "metadata": {
    "ExecuteTime": {
     "end_time": "2024-10-12T18:31:27.466394Z",
     "start_time": "2024-10-12T18:31:25.564001Z"
    }
   },
   "cell_type": "code",
   "source": [
    "rnn_modelMaxPool = SentimentRNNMaxPool(embed_model, 128, 1)\n",
    "# optimizer = tf.keras.optimizers.Adam(learning_rate=ADAM_LR)\n",
    "optimizer = tf.keras.optimizers.SGD(learning_rate=SGD_LR)\n",
    "loss = tf.keras.losses.BinaryCrossentropy(from_logits=False)\n",
    "early_stopping = tf.keras.callbacks.EarlyStopping(monitor='val_accuracy', \n",
    "                                                  patience=10, \n",
    "                                                  start_from_epoch=20,\n",
    "                                                  restore_best_weights=True)\n",
    "rnn_modelMaxPool.compile(optimizer, loss=loss, metrics=['accuracy'])\n",
    "rnn_modelMaxPool.summary()"
   ],
   "id": "6f2c659e5003bb33",
   "outputs": [
    {
     "data": {
      "text/plain": [],
      "text/html": [
       "<pre style=\"white-space:pre;overflow-x:auto;line-height:normal;font-family:Menlo,'DejaVu Sans Mono',consolas,'Courier New',monospace\"></pre>\n"
      ]
     },
     "metadata": {},
     "output_type": "display_data"
    }
   ],
   "execution_count": 65
  },
  {
   "metadata": {
    "ExecuteTime": {
     "end_time": "2024-10-12T18:34:49.282255Z",
     "start_time": "2024-10-12T18:31:27.478500Z"
    }
   },
   "cell_type": "code",
   "source": [
    "tf.keras.backend.clear_session()\n",
    "tf.keras.utils.disable_interactive_logging()\n",
    "\n",
    "maxpool_history = rnn_modelMaxPool.fit(train_dataset, validation_data=val_dataset, epochs=100, verbose=1, callbacks=[early_stopping])"
   ],
   "id": "eeaa6bb710130d46",
   "outputs": [
    {
     "name": "stdout",
     "output_type": "stream",
     "text": [
      "\u001B[1m266/267\u001B[0m \u001B[32m━━━━━━━━━━━━━━━━━━━\u001B[0m\u001B[37m━\u001B[0m \u001B[1m0s\u001B[0m 12ms/step - accuracy: 0.8692 - loss: 0.3427"
     ]
    }
   ],
   "execution_count": 66
  },
  {
   "metadata": {
    "ExecuteTime": {
     "end_time": "2024-10-12T18:34:49.684051Z",
     "start_time": "2024-10-12T18:34:49.595884Z"
    }
   },
   "cell_type": "code",
   "source": "plot_history(maxpool_history, \"RNN with Max Pool\")",
   "id": "60c19b6b0641bdef",
   "outputs": [
    {
     "data": {
      "text/plain": [
       "<Figure size 640x480 with 1 Axes>"
      ],
      "image/png": "[encoded data removed]"
     },
     "metadata": {},
     "output_type": "display_data"
    }
   ],
   "execution_count": 67
  },
  {
   "metadata": {
    "ExecuteTime": {
     "end_time": "2024-10-12T18:19:23.277238Z",
     "start_time": "2024-10-12T18:19:23.057032Z"
    }
   },
   "cell_type": "code",
   "source": [
    "test_loss, test_acc = rnn_modelMaxPool.evaluate(test_dataset)\n",
    "print('\\nTest Loss: {}'.format(test_loss))\n",
    "print('Test Accuracy: {}'.format(test_acc))"
   ],
   "id": "5c8aded03373f8e5",
   "outputs": [
    {
     "name": "stdout",
     "output_type": "stream",
     "text": [
      "\u001B[1m29/34\u001B[0m \u001B[32m━━━━━━━━━━━━━━━━━\u001B[0m\u001B[37m━━━\u001B[0m \u001B[1m0s\u001B[0m 4ms/step - accuracy: 0.1146 - loss: 0.6943    \n",
      "Test Loss: 0.6931485533714294\n",
      "Test Accuracy: 0.5\n"
     ]
    }
   ],
   "execution_count": 54
  },
  {
   "metadata": {
    "ExecuteTime": {
     "end_time": "2024-10-12T18:13:24.623154Z",
     "start_time": "2024-10-12T18:13:24.619183Z"
    }
   },
   "cell_type": "code",
   "source": [
    "class SentimentRNNAvgPool(keras.Model):\n",
    "    def __init__(self, embedding_model, rnn_units, output_dim):\n",
    "        super(SentimentRNNAvgPool, self).__init__()\n",
    "\n",
    "        # Embedding layer to map input words to word embeddings\n",
    "        weights = embedding_model.vectors  # vectors themselves, a 2D numpy array    \n",
    "        #index_to_key = keyed_vectors.index_to_key  # which row in `weights` corresponds to which word?\n",
    "    \n",
    "        self.embedding = keras.layers.Embedding(\n",
    "            input_dim=weights.shape[0],\n",
    "            output_dim=weights.shape[1],\n",
    "            weights=weights,\n",
    "            trainable=False,\n",
    "            mask_zero=True\n",
    "        )\n",
    "        \n",
    "        # Recurrent layer (RNN)\n",
    "        self.rnn = keras.layers.SimpleRNN(rnn_units,\n",
    "                                          activation=\"tanh\",    # Help with exploding gradients\n",
    "                                          return_sequences=True)  # Return all hidden states\n",
    "        \n",
    "        # Drop 50% of units:\n",
    "        #self.dropout = keras.layers.Dropout(0.5)\n",
    "        \n",
    "        # Avg Pool the hidden states\n",
    "        self.avg_pool = keras.layers.GlobalAvgPool1D()\n",
    "        \n",
    "        # Layer to introduce non-linearity\n",
    "        self.nonlinear = keras.layers.Dense(rnn_units, \n",
    "                                            activation='relu',  # Help with vanishing gradients \n",
    "                                            #kernel_regularizer=keras.regularizers.l2(0.01)\n",
    "                                            )\n",
    "        \n",
    "        # Drop 50% of units:\n",
    "        self.dropout2 = keras.layers.Dropout(0.5)\n",
    "        \n",
    "        # Dense layer to aggregate RNN output and predict sentiment (binary classification)\n",
    "        self.dense = keras.layers.Dense(output_dim, activation='sigmoid')\n",
    "    \n",
    "    def call(self, inputs):\n",
    "        # Pass inputs through embedding layer\n",
    "        x = self.embedding(inputs)\n",
    "        \n",
    "        # Pass embeddings through RNN layer\n",
    "        x = self.rnn(x)\n",
    "        \n",
    "        # Avg Pool\n",
    "        x = self.avg_pool(x)\n",
    "        \n",
    "        # Dropout\n",
    "        #x = self.dropout(x)\n",
    "        \n",
    "        # Pass to non-linear layer\n",
    "        x = self.nonlinear(x)\n",
    "        \n",
    "        # Dropout\n",
    "        x = self.dropout2(x)\n",
    "        \n",
    "        # Pass the RNN output through a dense layer for prediction\n",
    "        output = self.dense(x)\n",
    "        \n",
    "        return output"
   ],
   "id": "99c44da623037485",
   "outputs": [],
   "execution_count": 41
  },
  {
   "metadata": {
    "ExecuteTime": {
     "end_time": "2024-10-12T18:13:26.412071Z",
     "start_time": "2024-10-12T18:13:24.854803Z"
    }
   },
   "cell_type": "code",
   "source": [
    "rnn_with_avg_pool_model = SentimentRNNAvgPool(embed_model, 128, 1)\n",
    "# optimizer = tf.keras.optimizers.Adam(learning_rate=ADAM_LR)\n",
    "optimizer = tf.keras.optimizers.SGD(learning_rate=SGD_LR)\n",
    "loss = tf.keras.losses.BinaryCrossentropy(from_logits=False)\n",
    "early_stopping = tf.keras.callbacks.EarlyStopping(monitor='val_accuracy', \n",
    "                                                  patience=10, \n",
    "                                                  start_from_epoch=20,\n",
    "                                                  restore_best_weights=True)\n",
    "rnn_with_avg_pool_model.compile(optimizer, loss=loss, metrics=['accuracy'])\n",
    "rnn_with_avg_pool_model.summary()"
   ],
   "id": "13405ee559d54613",
   "outputs": [
    {
     "data": {
      "text/plain": [],
      "text/html": [
       "<pre style=\"white-space:pre;overflow-x:auto;line-height:normal;font-family:Menlo,'DejaVu Sans Mono',consolas,'Courier New',monospace\"></pre>\n"
      ]
     },
     "metadata": {},
     "output_type": "display_data"
    }
   ],
   "execution_count": 42
  },
  {
   "metadata": {
    "ExecuteTime": {
     "end_time": "2024-10-12T18:15:17.709612Z",
     "start_time": "2024-10-12T18:13:26.668921Z"
    }
   },
   "cell_type": "code",
   "source": [
    "tf.keras.backend.clear_session()\n",
    "tf.keras.utils.disable_interactive_logging()\n",
    "\n",
    "avgpool_history = rnn_with_avg_pool_model.fit(train_dataset, validation_data=val_dataset, epochs=100, verbose=1, callbacks=[early_stopping], validation_batch_size=BATCH_SIZE)"
   ],
   "id": "c563a864acb03791",
   "outputs": [
    {
     "name": "stdout",
     "output_type": "stream",
     "text": [
      "\u001B[1m266/267\u001B[0m \u001B[32m━━━━━━━━━━━━━━━━━━━\u001B[0m\u001B[37m━\u001B[0m \u001B[1m0s\u001B[0m 12ms/step - accuracy: 0.6010 - loss: 0.6654"
     ]
    }
   ],
   "execution_count": 43
  },
  {
   "metadata": {
    "ExecuteTime": {
     "end_time": "2024-10-12T18:15:18.065461Z",
     "start_time": "2024-10-12T18:15:17.988358Z"
    }
   },
   "cell_type": "code",
   "source": "plot_history(avgpool_history, \"RNN with Avg Pool\")",
   "id": "ad158954a8bfcdf5",
   "outputs": [
    {
     "data": {
      "text/plain": [
       "<Figure size 640x480 with 1 Axes>"
      ],
      "image/png": "[encoded data removed]"
     },
     "metadata": {},
     "output_type": "display_data"
    }
   ],
   "execution_count": 44
  },
  {
   "metadata": {
    "ExecuteTime": {
     "end_time": "2024-10-12T18:15:18.528183Z",
     "start_time": "2024-10-12T18:15:18.303081Z"
    }
   },
   "cell_type": "code",
   "source": [
    "test_loss, test_acc = rnn_with_avg_pool_model.evaluate(test_dataset)\n",
    "print('\\nTest Loss: {}'.format(test_loss))\n",
    "print('Test Accuracy: {}'.format(test_acc))"
   ],
   "id": "7227d23bead49d96",
   "outputs": [
    {
     "name": "stdout",
     "output_type": "stream",
     "text": [
      "\u001B[1m27/34\u001B[0m \u001B[32m━━━━━━━━━━━━━━━\u001B[0m\u001B[37m━━━━━\u001B[0m \u001B[1m0s\u001B[0m 4ms/step - accuracy: 0.5723 - loss: 0.6480\n",
      "Test Loss: 0.6371363997459412\n",
      "Test Accuracy: 0.6200750470161438\n"
     ]
    }
   ],
   "execution_count": 45
  },
  {
   "metadata": {
    "ExecuteTime": {
     "end_time": "2024-10-12T18:15:18.761859Z",
     "start_time": "2024-10-12T18:15:18.756746Z"
    }
   },
   "cell_type": "code",
   "source": [
    "class AttentionLayer(keras.layers.Layer):\n",
    "    def __init__(self, rnn_units):\n",
    "        super(AttentionLayer, self).__init__()\n",
    "        # Define a trainable weight that represents attention scores\n",
    "        self.W = keras.layers.Dense(rnn_units, activation='tanh')  # Attention score weights\n",
    "        self.v = keras.layers.Dense(1, activation=None)  # Attention output\n",
    "\n",
    "    def call(self, hidden_states, mask=None):\n",
    "        # hidden_states.shape == (batch_size, timesteps, rnn_units)\n",
    "        attention_scores = self.v(self.W(hidden_states))  # shape == (batch_size, timesteps, 1)\n",
    "\n",
    "        if mask is not None:\n",
    "            # Expand mask shape to match attention_scores shape (batch_size, timesteps, 1)\n",
    "            mask = tf.cast(mask, dtype=tf.float32)  # Convert mask to float32\n",
    "            mask = tf.expand_dims(mask, axis=-1)  # shape becomes (batch_size, timesteps, 1)\n",
    "            attention_scores += (1.0 - mask) * -1e9  # Apply mask: very negative values ignored by softmax\n",
    "\n",
    "        attention_weights = tf.nn.softmax(attention_scores, axis=1)  # shape == (batch_size, timesteps, 1)\n",
    "\n",
    "        # Broadcast attention_weights to match hidden_states dimensions\n",
    "        weighted_sum = tf.reduce_sum(attention_weights * hidden_states, axis=1)  # shape == (batch_size, rnn_units)\n",
    "\n",
    "        return weighted_sum, attention_weights\n",
    "\n",
    "\n",
    "\n",
    "class SentimentRNNAttentionPool(keras.Model):\n",
    "    def __init__(self, embedding_model, rnn_units, output_dim):\n",
    "        super(SentimentRNNAttentionPool, self).__init__()\n",
    "\n",
    "        # Embedding layer to map input words to word embeddings\n",
    "        weights = embedding_model.vectors  # vectors themselves, a 2D numpy array    \n",
    "        self.embedding = keras.layers.Embedding(\n",
    "            input_dim=weights.shape[0],\n",
    "            output_dim=weights.shape[1],\n",
    "            weights=[weights],\n",
    "            trainable=False,\n",
    "            mask_zero=True\n",
    "        )\n",
    "        \n",
    "        # Recurrent layer (RNN)\n",
    "        self.rnn = keras.layers.SimpleRNN(rnn_units,\n",
    "                                          activation=\"tanh\",\n",
    "                                          return_sequences=True)  # Return all hidden states\n",
    "        \n",
    "        # Attention mechanism\n",
    "        self.attention = AttentionLayer(rnn_units)\n",
    "        \n",
    "        # Dropout layer\n",
    "        #self.dropout = keras.layers.Dropout(0.5)\n",
    "        \n",
    "        # Dense layer for non-linearity\n",
    "        self.nonlinear = keras.layers.Dense(rnn_units, \n",
    "                                            activation='relu', \n",
    "                                            #kernel_regularizer=keras.regularizers.l2(0.01)\n",
    "                                            )\n",
    "        \n",
    "        # Another dropout layer\n",
    "        self.dropout2 = keras.layers.Dropout(0.5)\n",
    "        \n",
    "        # Dense layer for binary classification\n",
    "        self.dense = keras.layers.Dense(output_dim, activation='sigmoid')\n",
    "    \n",
    "    def call(self, inputs):\n",
    "        # Pass inputs through embedding layer\n",
    "        x = self.embedding(inputs)\n",
    "        \n",
    "        # Pass embeddings through RNN layer\n",
    "        x = self.rnn(x)\n",
    "        \n",
    "        # Apply attention mechanism\n",
    "        x, _ = self.attention(x)\n",
    "        \n",
    "        # Dropout after attention\n",
    "        #x = self.dropout(x)\n",
    "        \n",
    "        # Apply non-linear layer\n",
    "        x = self.nonlinear(x)\n",
    "        \n",
    "        # Dropout after non-linear layer\n",
    "        x = self.dropout2(x)\n",
    "        \n",
    "        # Final dense layer for sentiment prediction\n",
    "        output = self.dense(x)\n",
    "        \n",
    "        return output"
   ],
   "id": "e3de0202f30dd4ad",
   "outputs": [],
   "execution_count": 46
  },
  {
   "metadata": {
    "ExecuteTime": {
     "end_time": "2024-10-12T18:25:28.116653Z",
     "start_time": "2024-10-12T18:25:25.813542Z"
    }
   },
   "cell_type": "code",
   "source": [
    "rnn_with_attn_pool = SentimentRNNAttentionPool(embed_model, 128, 1)\n",
    "#optimizer = tf.keras.optimizers.Adam(learning_rate=ADAM_LR)\n",
    "optimizer = tf.keras.optimizers.SGD(learning_rate=SGD_LR)\n",
    "loss = tf.keras.losses.BinaryCrossentropy(from_logits=False)\n",
    "early_stopping = tf.keras.callbacks.EarlyStopping(monitor='val_accuracy',\n",
    "                                                  patience=10,\n",
    "                                                  start_from_epoch=20,\n",
    "                                                  restore_best_weights=True)\n",
    "rnn_with_attn_pool.compile(optimizer, loss=loss, metrics=['accuracy'])\n",
    "print(rnn_with_attn_pool.summary())"
   ],
   "id": "c61e22a61d51bf1",
   "outputs": [
    {
     "data": {
      "text/plain": [],
      "text/html": [
       "<pre style=\"white-space:pre;overflow-x:auto;line-height:normal;font-family:Menlo,'DejaVu Sans Mono',consolas,'Courier New',monospace\"></pre>\n"
      ]
     },
     "metadata": {},
     "output_type": "display_data"
    },
    {
     "name": "stdout",
     "output_type": "stream",
     "text": [
      "None\n"
     ]
    }
   ],
   "execution_count": 61
  },
  {
   "metadata": {
    "ExecuteTime": {
     "end_time": "2024-10-12T18:28:08.253336Z",
     "start_time": "2024-10-12T18:25:28.202674Z"
    }
   },
   "cell_type": "code",
   "source": [
    "tf.keras.backend.clear_session()\n",
    "tf.keras.utils.disable_interactive_logging()\n",
    "\n",
    "history_rnn_with_attn_pool = rnn_with_attn_pool.fit(train_dataset,\n",
    "                                                    validation_data=val_dataset, epochs=100, verbose=1, callbacks=[early_stopping],\n",
    "                                                     validation_batch_size=BATCH_SIZE)"
   ],
   "id": "4421493edfb62bea",
   "outputs": [
    {
     "name": "stdout",
     "output_type": "stream",
     "text": [
      "\u001B[1m265/267\u001B[0m \u001B[32m━━━━━━━━━━━━━━━━━━━\u001B[0m\u001B[37m━\u001B[0m \u001B[1m0s\u001B[0m 15ms/step - accuracy: 0.7696 - loss: 0.4720"
     ]
    }
   ],
   "execution_count": 62
  },
  {
   "metadata": {
    "ExecuteTime": {
     "end_time": "2024-10-12T18:28:08.597256Z",
     "start_time": "2024-10-12T18:28:08.526884Z"
    }
   },
   "cell_type": "code",
   "source": "plot_history(history_rnn_with_attn_pool, \"RNN with Attention Pool\")",
   "id": "df0774783cb434af",
   "outputs": [
    {
     "data": {
      "text/plain": [
       "<Figure size 640x480 with 1 Axes>"
      ],
      "image/png": "[encoded data removed]"
     },
     "metadata": {},
     "output_type": "display_data"
    }
   ],
   "execution_count": 63
  },
  {
   "metadata": {
    "ExecuteTime": {
     "end_time": "2024-10-12T18:28:09.104555Z",
     "start_time": "2024-10-12T18:28:08.840780Z"
    }
   },
   "cell_type": "code",
   "source": [
    "test_loss, test_acc = rnn_with_attn_pool.evaluate(test_dataset)\n",
    "print('\\nTest Loss: {}'.format(test_loss))\n",
    "print('Test Accuracy: {}'.format(test_acc))"
   ],
   "id": "edc3b0fcfcf4ba25",
   "outputs": [
    {
     "name": "stdout",
     "output_type": "stream",
     "text": [
      "\u001B[1m34/34\u001B[0m \u001B[32m━━━━━━━━━━━━━━━━━━━━\u001B[0m\u001B[37m\u001B[0m \u001B[1m0s\u001B[0m 5ms/step - accuracy: 0.5874 - loss: 0.6683\n",
      "Test Loss: 0.6173932552337646\n",
      "Test Accuracy: 0.6585366129875183\n"
     ]
    }
   ],
   "execution_count": 64
  },
  {
   "metadata": {},
   "cell_type": "markdown",
   "source": [
    "### Question 2a:\n",
    "Report the final configuration of your best model, namely the number of training epochs,\n",
    "learning rate, optimizer, batch size.\n",
    "\n",
    "Ans: The best model we have trained is the RNN with Attention Pooling. The final configuration of the best model is as follows:\n",
    "- Number of Training Epochs: 100\n",
    "- Learning Rate: 0.01\n",
    "- Optimizer: SGD\n",
    "- Batch Size: 32\n",
    "- Early Stopping: Patience of 10 epochs, starting from epoch 20, with restoring best weights enabled.\n",
    "- Loss Function: Binary Crossentropy\n",
    "- Metrics: Accuracy\n",
    "- Activation Functions: tanh (RNN units), relu (non-linear layer), sigmoid (output layer)"
   ],
   "id": "4d21a544edd1a917"
  },
  {
   "metadata": {},
   "cell_type": "markdown",
   "source": [
    "### Question 2b:\n",
    "Report the accuracy score on the test set, as well as the accuracy score on the validation\n",
    "set for each epoch during training.\n",
    "\n",
    "Test Accuracy: 0.65853\n",
    "Validation Accuracy: As above (in the graph)"
   ],
   "id": "2bf4634c41469daf"
  },
  {
   "metadata": {},
   "cell_type": "markdown",
   "source": [
    "### Question 2c:\n",
    "RNNs produce a hidden vector for each word, instead of the entire sentence. Which methods\n",
    "have you tried in deriving the final sentence representation to perform sentiment classification?\n",
    "Describe all the strategies you have implemented, together with their accuracy scores on the\n",
    "test set.\n",
    "\n",
    "Ans: We have tried the following methods to derive the final sentence representation:\n",
    "1. Last State: We used the hidden state of the last RNN unit as the sentence representation. **Test Accuracy: 0.5**\n",
    "2. Max Pooling: We applied max pooling to the hidden states of all RNN units to derive the sentence representation. **Test Accuracy: 0.62008**\n",
    "3. Average Pooling: We applied average pooling to the hidden states of all RNN units to derive the sentence representation. **Test Accuracy: 0.65853**"
   ],
   "id": "41c5c2a0db5441c6"
  },
  {
   "metadata": {},
   "cell_type": "markdown",
   "source": "# Part 3. Enhancement",
   "id": "4ec603efc9cbba4b"
  },
  {
   "metadata": {},
   "cell_type": "markdown",
   "source": [
    "### Part 3.1:\n",
    "Instead of keeping the word embeddings fixed, now update the word embeddings (the same\n",
    "way as model parameters) during the training process."
   ],
   "id": "ed78b5bf59f4e5ec"
  },
  {
   "metadata": {
    "ExecuteTime": {
     "end_time": "2024-10-12T18:34:49.936856Z",
     "start_time": "2024-10-12T18:34:49.930626Z"
    }
   },
   "cell_type": "code",
   "source": [
    "class SentimentRNNAttentionPool(keras.Model):\n",
    "    def __init__(self, embedding_model, rnn_units, output_dim):\n",
    "        super(SentimentRNNAttentionPool, self).__init__()\n",
    "\n",
    "        # Embedding layer to map input words to word embeddings\n",
    "        weights = embedding_model.vectors  # vectors themselves, a 2D numpy array    \n",
    "        self.embedding = keras.layers.Embedding(\n",
    "            input_dim=weights.shape[0],\n",
    "            output_dim=weights.shape[1],\n",
    "            weights=[weights],\n",
    "            trainable=True,\n",
    "            mask_zero=True\n",
    "        )\n",
    "        \n",
    "        # Recurrent layer (RNN)\n",
    "        self.rnn = keras.layers.SimpleRNN(rnn_units,\n",
    "                                          activation=\"tanh\",\n",
    "                                          return_sequences=True)  # Return all hidden states\n",
    "        \n",
    "        # Attention mechanism\n",
    "        self.attention = AttentionLayer(rnn_units)\n",
    "        \n",
    "        # Dropout layer\n",
    "        #self.dropout = keras.layers.Dropout(0.5)\n",
    "        \n",
    "        # Dense layer for non-linearity\n",
    "        self.nonlinear = keras.layers.Dense(rnn_units, \n",
    "                                            activation='relu', \n",
    "                                            #kernel_regularizer=keras.regularizers.l2(0.01)\n",
    "                                            )\n",
    "        \n",
    "        # Another dropout layer\n",
    "        self.dropout2 = keras.layers.Dropout(0.5)\n",
    "        \n",
    "        # Dense layer for binary classification\n",
    "        self.dense = keras.layers.Dense(output_dim, activation='sigmoid')\n",
    "    \n",
    "    def call(self, inputs):\n",
    "        # Pass inputs through embedding layer\n",
    "        x = self.embedding(inputs)\n",
    "        \n",
    "        # Pass embeddings through RNN layer\n",
    "        x = self.rnn(x)\n",
    "        \n",
    "        # Apply attention mechanism\n",
    "        x, _ = self.attention(x)\n",
    "        \n",
    "        # Dropout after attention\n",
    "        #x = self.dropout(x)\n",
    "        \n",
    "        # Apply non-linear layer\n",
    "        x = self.nonlinear(x)\n",
    "        \n",
    "        # Dropout after non-linear layer\n",
    "        x = self.dropout2(x)\n",
    "        \n",
    "        # Final dense layer for sentiment prediction\n",
    "        output = self.dense(x)\n",
    "        \n",
    "        return output"
   ],
   "id": "d21507b5a4224584",
   "outputs": [],
   "execution_count": 68
  },
  {
   "metadata": {
    "ExecuteTime": {
     "end_time": "2024-10-12T18:34:57.741363Z",
     "start_time": "2024-10-12T18:34:55.410461Z"
    }
   },
   "cell_type": "code",
   "source": [
    "rnn_with_attn_pool_trainable_embed = SentimentRNNAttentionPool(embed_model, 128, 1)\n",
    "#optimizer = tf.keras.optimizers.Adam(learning_rate=ADAM_LR)\n",
    "optimizer = tf.keras.optimizers.SGD(learning_rate=SGD_LR)\n",
    "loss = tf.keras.losses.BinaryCrossentropy(from_logits=False)\n",
    "early_stopping = tf.keras.callbacks.EarlyStopping(monitor='val_accuracy',\n",
    "                                                  patience=10,\n",
    "                                                  start_from_epoch=20,\n",
    "                                                  restore_best_weights=True)\n",
    "rnn_with_attn_pool_trainable_embed.compile(optimizer, loss=loss, metrics=['accuracy'])\n",
    "print(rnn_with_attn_pool_trainable_embed.summary())"
   ],
   "id": "26bc38397ef4577a",
   "outputs": [
    {
     "data": {
      "text/plain": [],
      "text/html": [
       "<pre style=\"white-space:pre;overflow-x:auto;line-height:normal;font-family:Menlo,'DejaVu Sans Mono',consolas,'Courier New',monospace\"></pre>\n"
      ]
     },
     "metadata": {},
     "output_type": "display_data"
    },
    {
     "name": "stdout",
     "output_type": "stream",
     "text": [
      "None\n"
     ]
    }
   ],
   "execution_count": 69
  },
  {
   "metadata": {
    "ExecuteTime": {
     "end_time": "2024-10-12T18:57:23.469147Z",
     "start_time": "2024-10-12T18:35:22.391778Z"
    }
   },
   "cell_type": "code",
   "source": [
    "tf.keras.backend.clear_session()\n",
    "tf.keras.utils.disable_interactive_logging()\n",
    "\n",
    "history_rnn_with_attn_pool_trainable_embed = rnn_with_attn_pool_trainable_embed.fit(train_dataset,\n",
    "                                                    validation_data=val_dataset, epochs=100, verbose=1, callbacks=[early_stopping],\n",
    "                                                     validation_batch_size=BATCH_SIZE)"
   ],
   "id": "c31e0a8ff560d5d",
   "outputs": [
    {
     "name": "stdout",
     "output_type": "stream",
     "text": [
      "\u001B[1m267/267\u001B[0m \u001B[32m━━━━━━━━━━━━━━━━━━━━\u001B[0m\u001B[37m\u001B[0m \u001B[1m0s\u001B[0m 127ms/step - accuracy: 0.7212 - loss: 0.5446"
     ]
    }
   ],
   "execution_count": 70
  },
  {
   "metadata": {
    "ExecuteTime": {
     "end_time": "2024-10-12T18:57:23.549661Z",
     "start_time": "2024-10-12T18:57:23.475710Z"
    }
   },
   "cell_type": "code",
   "source": "plot_history(history_rnn_with_attn_pool_trainable_embed, \"RNN with Attention Pool (Trainable Embeddings)\")",
   "id": "5163a2a872cad876",
   "outputs": [
    {
     "data": {
      "text/plain": [
       "<Figure size 640x480 with 1 Axes>"
      ],
      "image/png": "[encoded data removed]"
     },
     "metadata": {},
     "output_type": "display_data"
    }
   ],
   "execution_count": 71
  },
  {
   "metadata": {
    "ExecuteTime": {
     "end_time": "2024-10-12T18:57:28.722300Z",
     "start_time": "2024-10-12T18:57:23.868957Z"
    }
   },
   "cell_type": "code",
   "source": [
    "test_loss, test_acc = rnn_with_attn_pool_trainable_embed.evaluate(test_dataset)\n",
    "print('\\nTest Loss: {}'.format(test_loss))\n",
    "print('Test Accuracy: {}'.format(test_acc))"
   ],
   "id": "4ec9a07f335b0083",
   "outputs": [
    {
     "name": "stdout",
     "output_type": "stream",
     "text": [
      "\u001B[1m34/34\u001B[0m \u001B[32m━━━━━━━━━━━━━━━━━━━━\u001B[0m\u001B[37m\u001B[0m \u001B[1m0s\u001B[0m 126ms/step - accuracy: 0.5900 - loss: 0.6520\n",
      "Test Loss: 0.6074351668357849\n",
      "Test Accuracy: 0.6669793725013733\n"
     ]
    }
   ],
   "execution_count": 72
  },
  {
   "metadata": {},
   "cell_type": "markdown",
   "source": [
    "### Part 3.2:\n",
    "As discussed in Question 1(c), apply your solution in mitigating the influence of OOV words\n",
    "and train your model again."
   ],
   "id": "c8ef1133cd4a511a"
  },
  {
   "metadata": {
    "ExecuteTime": {
     "end_time": "2024-10-12T18:58:01.178015Z",
     "start_time": "2024-10-12T18:57:29.206738Z"
    }
   },
   "cell_type": "code",
   "source": [
    "train_dataset_mitigate_oov = process_data_mitigate_oov(train, embed_model.key_to_index, \"stemmed_tokens\")\n",
    "val_dataset_mitigate_oov = process_data_mitigate_oov(val, embed_model.key_to_index, \"stemmed_tokens\")\n",
    "test_dataset_mitigate_oov = process_data_mitigate_oov(test, embed_model.key_to_index, \"stemmed_tokens\")\n",
    "\n",
    "train_dataset_mitigate_oov = create_tf_dataset(train_dataset_mitigate_oov)\n",
    "val_dataset_mitigate_oov = create_tf_dataset(val_dataset_mitigate_oov)\n",
    "test_dataset_mitigate_oov = create_tf_dataset(test_dataset_mitigate_oov)\n",
    "\n",
    "# Batch, shuffle and Prefetch the datasets\n",
    "train_dataset_mitigate_oov = train_dataset_mitigate_oov.batch(BATCH_SIZE).shuffle(1000).prefetch(tf.data.AUTOTUNE)\n",
    "val_dataset_mitigate_oov = val_dataset_mitigate_oov.batch(BATCH_SIZE).prefetch(tf.data.AUTOTUNE)\n",
    "test_dataset_mitigate_oov = test_dataset_mitigate_oov.batch(BATCH_SIZE).prefetch(tf.data.AUTOTUNE)"
   ],
   "id": "b728c236957c445b",
   "outputs": [
    {
     "name": "stderr",
     "output_type": "stream",
     "text": [
      "Map: 100%|██████████| 8530/8530 [00:00<00:00, 14742.54 examples/s]\n",
      "Map: 100%|██████████| 8530/8530 [00:00<00:00, 19186.64 examples/s]\n",
      "Map: 100%|██████████| 1066/1066 [00:00<00:00, 18037.76 examples/s]\n",
      "Map: 100%|██████████| 1066/1066 [00:00<00:00, 17603.49 examples/s]\n",
      "Map: 100%|██████████| 1066/1066 [00:00<00:00, 17032.87 examples/s]\n",
      "Map: 100%|██████████| 1066/1066 [00:00<00:00, 16958.00 examples/s]\n"
     ]
    }
   ],
   "execution_count": 74
  },
  {
   "metadata": {
    "ExecuteTime": {
     "end_time": "2024-10-12T19:20:32.806591Z",
     "start_time": "2024-10-12T19:20:30.536922Z"
    }
   },
   "cell_type": "code",
   "source": [
    "rnn_with_attn_pool_trainable_embed_mit_oov = SentimentRNNAttentionPool(embed_model, 128, 1)\n",
    "#optimizer = tf.keras.optimizers.Adam(learning_rate=ADAM_LR)\n",
    "optimizer = tf.keras.optimizers.SGD(learning_rate=SGD_LR)\n",
    "loss = tf.keras.losses.BinaryCrossentropy(from_logits=False)\n",
    "early_stopping = tf.keras.callbacks.EarlyStopping(monitor='val_accuracy',\n",
    "                                                  patience=10,\n",
    "                                                  start_from_epoch=20,\n",
    "                                                  restore_best_weights=True)\n",
    "rnn_with_attn_pool_trainable_embed_mit_oov.compile(optimizer, loss=loss, metrics=['accuracy'])\n",
    "print(rnn_with_attn_pool_trainable_embed_mit_oov.summary())"
   ],
   "id": "fc95056ebcb5f75b",
   "outputs": [
    {
     "data": {
      "text/plain": [],
      "text/html": [
       "<pre style=\"white-space:pre;overflow-x:auto;line-height:normal;font-family:Menlo,'DejaVu Sans Mono',consolas,'Courier New',monospace\"></pre>\n"
      ]
     },
     "metadata": {},
     "output_type": "display_data"
    },
    {
     "name": "stdout",
     "output_type": "stream",
     "text": [
      "None\n"
     ]
    }
   ],
   "execution_count": 82
  },
  {
   "metadata": {
    "ExecuteTime": {
     "end_time": "2024-10-12T19:45:44.508885Z",
     "start_time": "2024-10-12T19:20:33.555709Z"
    }
   },
   "cell_type": "code",
   "source": [
    "tf.keras.backend.clear_session()\n",
    "tf.keras.utils.disable_interactive_logging()\n",
    "\n",
    "history_rnn_with_attn_pool_trainable_embed_mit_oov = rnn_with_attn_pool_trainable_embed_mit_oov.fit(train_dataset,\n",
    "                                                    validation_data=val_dataset, epochs=100, verbose=1, callbacks=[early_stopping],\n",
    "                                                     validation_batch_size=BATCH_SIZE)"
   ],
   "id": "1ba4541d301da3aa",
   "outputs": [
    {
     "name": "stdout",
     "output_type": "stream",
     "text": [
      "\u001B[1m267/267\u001B[0m \u001B[32m━━━━━━━━━━━━━━━━━━━━\u001B[0m\u001B[37m\u001B[0m \u001B[1m0s\u001B[0m 127ms/step - accuracy: 0.7794 - loss: 0.4646"
     ]
    }
   ],
   "execution_count": 83
  },
  {
   "metadata": {
    "ExecuteTime": {
     "end_time": "2024-10-12T19:18:13.526576Z",
     "start_time": "2024-10-12T19:18:13.451607Z"
    }
   },
   "cell_type": "code",
   "source": "plot_history(rnn_with_attn_pool_trainable_embed_mit_oov, \"RNN with Attention Pool (Trainable Embeddings) - Mitigate OOV\")",
   "id": "399877c1b9e7ae75",
   "outputs": [
    {
     "data": {
      "text/plain": [
       "<Figure size 640x480 with 1 Axes>"
      ],
      "image/png": "[encoded data removed]"
     },
     "metadata": {},
     "output_type": "display_data"
    }
   ],
   "execution_count": 77
  },
  {
   "metadata": {
    "ExecuteTime": {
     "end_time": "2024-10-12T19:45:49.112086Z",
     "start_time": "2024-10-12T19:45:44.851921Z"
    }
   },
   "cell_type": "code",
   "source": [
    "test_loss, test_acc = rnn_with_attn_pool_trainable_embed_mit_oov.evaluate(test_dataset)\n",
    "print('\\nTest Loss: {}'.format(test_loss))\n",
    "print('Test Accuracy: {}'.format(test_acc))"
   ],
   "id": "568772ad2d77b16",
   "outputs": [
    {
     "name": "stdout",
     "output_type": "stream",
     "text": [
      "\u001B[1m34/34\u001B[0m \u001B[32m━━━━━━━━━━━━━━━━━━━━\u001B[0m\u001B[37m\u001B[0m \u001B[1m0s\u001B[0m 119ms/step - accuracy: 0.6474 - loss: 0.6310\n",
      "Test Loss: 0.6121667623519897\n",
      "Test Accuracy: 0.6735459566116333\n"
     ]
    }
   ],
   "execution_count": 84
  },
  {
   "metadata": {},
   "cell_type": "markdown",
   "source": [
    "### Part 3.3:\n",
    "Keeping the above two adjustments, replace your simple RNN model in Part 2 with a biLSTM\n",
    "model and a biGRU model, incorporating recurrent computations in both directions and\n",
    "stacking multiple layers if possible."
   ],
   "id": "bd4fe993b04deb25"
  },
  {
   "metadata": {
    "ExecuteTime": {
     "end_time": "2024-10-13T07:04:05.975532Z",
     "start_time": "2024-10-13T07:04:05.945392Z"
    }
   },
   "cell_type": "code",
   "source": [
    "class SentimentBiLSTM(keras.Model):\n",
    "    def __init__(self, embedding_model, rnn_units, output_dim):\n",
    "        super(SentimentBiLSTM, self).__init__()\n",
    "\n",
    "        # Embedding layer to map input words to word embeddings\n",
    "        weights = embedding_model.vectors  # vectors themselves, a 2D numpy array    \n",
    "        self.embedding = keras.layers.Embedding(\n",
    "            input_dim=weights.shape[0],\n",
    "            output_dim=weights.shape[1],\n",
    "            weights=[weights],\n",
    "            trainable=True,\n",
    "            mask_zero=True\n",
    "        )\n",
    "        \n",
    "        # Recurrent layer (Bidirectional LSTM)\n",
    "        self.rnn = keras.layers.Bidirectional(\n",
    "            keras.layers.LSTM(rnn_units,\n",
    "                              activation=\"tanh\",\n",
    "                              return_sequences=True)  # Return all hidden states\n",
    "        )\n",
    "        \n",
    "        # Attention mechanism\n",
    "        self.attention = AttentionLayer(rnn_units * 2)  # Multiply by 2 due to bidirectional LSTM\n",
    "        \n",
    "        # Dropout layer\n",
    "        #self.dropout = keras.layers.Dropout(0.5)\n",
    "        \n",
    "        # Dense layer for non-linearity\n",
    "        self.nonlinear = keras.layers.Dense(rnn_units * 2,  # Adjust input size due to bidirectional LSTM\n",
    "                                            activation='relu', \n",
    "                                            kernel_regularizer=keras.regularizers.l2(0.01))\n",
    "        \n",
    "        # Another dropout layer\n",
    "        self.dropout2 = keras.layers.Dropout(0.5)\n",
    "        \n",
    "        # Dense layer for binary classification\n",
    "        self.dense = keras.layers.Dense(output_dim, activation='sigmoid')\n",
    "    \n",
    "    def call(self, inputs):\n",
    "        # Pass inputs through embedding layer\n",
    "        x = self.embedding(inputs)\n",
    "        \n",
    "        # Pass embeddings through Bidirectional LSTM layer\n",
    "        x = self.rnn(x)\n",
    "        \n",
    "        # Apply attention mechanism\n",
    "        x, _ = self.attention(x)\n",
    "        \n",
    "        # Dropout after LSTM\n",
    "        #x = self.dropout(x)\n",
    "        \n",
    "        # Apply non-linear layer\n",
    "        x = self.nonlinear(x)\n",
    "        \n",
    "        # Dropout after non-linear layer\n",
    "        x = self.dropout2(x)\n",
    "        \n",
    "        # Final dense layer for sentiment prediction\n",
    "        output = self.dense(x)\n",
    "        \n",
    "        return output"
   ],
   "id": "85f8e5b555a94",
   "outputs": [],
   "execution_count": 86
  },
  {
   "metadata": {
    "ExecuteTime": {
     "end_time": "2024-10-13T07:04:07.967901Z",
     "start_time": "2024-10-13T07:04:05.987264Z"
    }
   },
   "cell_type": "code",
   "source": [
    "bilstm = SentimentBiLSTM(embed_model, 128, 1)\n",
    "# optimizer = tf.keras.optimizers.Adam(learning_rate=ADAM_LR)\n",
    "optimizer = tf.keras.optimizers.SGD(learning_rate=SGD_LR)\n",
    "loss = tf.keras.losses.BinaryCrossentropy(from_logits=False)\n",
    "early_stopping = tf.keras.callbacks.EarlyStopping(monitor='val_accuracy', \n",
    "                                                  patience=10, \n",
    "                                                  start_from_epoch=20,\n",
    "                                                  restore_best_weights=True)\n",
    "bilstm.compile(optimizer, loss=loss, metrics=['accuracy'])\n",
    "bilstm.summary()"
   ],
   "id": "151700bed021d2af",
   "outputs": [
    {
     "data": {
      "text/plain": [],
      "text/html": [
       "<pre style=\"white-space:pre;overflow-x:auto;line-height:normal;font-family:Menlo,'DejaVu Sans Mono',consolas,'Courier New',monospace\"></pre>\n"
      ]
     },
     "metadata": {},
     "output_type": "display_data"
    }
   ],
   "execution_count": 87
  },
  {
   "metadata": {
    "ExecuteTime": {
     "end_time": "2024-10-13T08:18:13.931569Z",
     "start_time": "2024-10-13T07:04:08.281852Z"
    }
   },
   "cell_type": "code",
   "source": [
    "tf.keras.backend.clear_session()\n",
    "tf.keras.utils.disable_interactive_logging()\n",
    "\n",
    "bilstm_history = bilstm.fit(train_dataset_mitigate_oov, validation_data=val_dataset_mitigate_oov, epochs=100, verbose=1, callbacks=[early_stopping])"
   ],
   "id": "610b0f993c226d5",
   "outputs": [
    {
     "name": "stdout",
     "output_type": "stream",
     "text": [
      "\u001B[1m267/267\u001B[0m \u001B[32m━━━━━━━━━━━━━━━━━━━━\u001B[0m\u001B[37m\u001B[0m \u001B[1m0s\u001B[0m 233ms/step - accuracy: 0.6681 - loss: 0.6162"
     ]
    }
   ],
   "execution_count": 88
  },
  {
   "metadata": {
    "ExecuteTime": {
     "end_time": "2024-10-13T08:18:14.346812Z",
     "start_time": "2024-10-13T08:18:14.259851Z"
    }
   },
   "cell_type": "code",
   "source": "plot_history(bilstm_history, \"BiLSTM\")",
   "id": "8f347d9cfb6886e5",
   "outputs": [
    {
     "data": {
      "text/plain": [
       "<Figure size 640x480 with 1 Axes>"
      ],
      "image/png": "[encoded data removed]"
     },
     "metadata": {},
     "output_type": "display_data"
    }
   ],
   "execution_count": 89
  },
  {
   "metadata": {
    "ExecuteTime": {
     "end_time": "2024-10-13T08:18:19.960643Z",
     "start_time": "2024-10-13T08:18:14.589867Z"
    }
   },
   "cell_type": "code",
   "source": [
    "test_loss, test_acc = bilstm.evaluate(test_dataset_mitigate_oov)\n",
    "print('\\nTest Loss: {}'.format(test_loss))\n",
    "print('Test Accuracy: {}'.format(test_acc))"
   ],
   "id": "c44b81c8a51f69d7",
   "outputs": [
    {
     "name": "stdout",
     "output_type": "stream",
     "text": [
      "\u001B[1m34/34\u001B[0m \u001B[32m━━━━━━━━━━━━━━━━━━━━\u001B[0m\u001B[37m\u001B[0m \u001B[1m0s\u001B[0m 147ms/step - accuracy: 0.6294 - loss: 0.6434\n",
      "Test Loss: 0.6170772314071655\n",
      "Test Accuracy: 0.6716697812080383\n"
     ]
    }
   ],
   "execution_count": 90
  },
  {
   "metadata": {
    "ExecuteTime": {
     "end_time": "2024-10-13T08:18:20.212588Z",
     "start_time": "2024-10-13T08:18:20.208433Z"
    }
   },
   "cell_type": "code",
   "source": [
    "class SentimentBiGRU(keras.Model):\n",
    "    def __init__(self, embedding_model, rnn_units, output_dim):\n",
    "        super(SentimentBiGRU, self).__init__()\n",
    "\n",
    "        # Embedding layer to map input words to word embeddings\n",
    "        weights = embedding_model.vectors  # vectors themselves, a 2D numpy array    \n",
    "        self.embedding = keras.layers.Embedding(\n",
    "            input_dim=weights.shape[0],\n",
    "            output_dim=weights.shape[1],\n",
    "            weights=[weights],\n",
    "            trainable=True,\n",
    "            mask_zero=True\n",
    "        )\n",
    "        \n",
    "        # Recurrent layer (biGRU)\n",
    "        self.rnn = keras.layers.Bidirectional(\n",
    "            keras.layers.GRU(rnn_units,\n",
    "                             activation=\"tanh\",\n",
    "                             return_sequences=True))  # Return all hidden states\n",
    "        \n",
    "        # Dropout layer\n",
    "        #self.dropout = keras.layers.Dropout(0.5)\n",
    "        \n",
    "        # Attention mechanism\n",
    "        self.attention = AttentionLayer(rnn_units * 2)  # rnn_units * 2 for bi-directional output\n",
    "        \n",
    "        # Dense layer for non-linearity\n",
    "        self.nonlinear = keras.layers.Dense(rnn_units, \n",
    "                                            activation='relu', \n",
    "                                            kernel_regularizer=keras.regularizers.l2(0.01))\n",
    "        \n",
    "        # Another dropout layer\n",
    "        self.dropout2 = keras.layers.Dropout(0.5)\n",
    "        \n",
    "        # Dense layer for binary classification\n",
    "        self.dense = keras.layers.Dense(output_dim, activation='sigmoid')\n",
    "    \n",
    "    def call(self, inputs):\n",
    "        # Pass inputs through embedding layer\n",
    "        x = self.embedding(inputs)\n",
    "        \n",
    "        # Pass embeddings through biGRU layer\n",
    "        x = self.rnn(x)\n",
    "        \n",
    "        # Dropout after biGRU\n",
    "        #x = self.dropout(x)\n",
    "        \n",
    "        # Apply attention mechanism\n",
    "        x, _ = self.attention(x)\n",
    "        \n",
    "        # Apply non-linear layer\n",
    "        x = self.nonlinear(x)\n",
    "        \n",
    "        # Dropout after non-linear layer\n",
    "        x = self.dropout2(x)\n",
    "        \n",
    "        # Final dense layer for sentiment prediction\n",
    "        output = self.dense(x)\n",
    "        \n",
    "        return output"
   ],
   "id": "987d5cd7ed0bf138",
   "outputs": [],
   "execution_count": 91
  },
  {
   "metadata": {
    "ExecuteTime": {
     "end_time": "2024-10-13T08:18:23.125328Z",
     "start_time": "2024-10-13T08:18:20.449914Z"
    }
   },
   "cell_type": "code",
   "source": [
    "bigru = SentimentBiGRU(embed_model, 128, 1)\n",
    "# optimizer = tf.keras.optimizers.Adam(learning_rate=ADAM_LR)\n",
    "optimizer = tf.keras.optimizers.SGD(learning_rate=SGD_LR)\n",
    "loss = tf.keras.losses.BinaryCrossentropy(from_logits=False)\n",
    "early_stopping = tf.keras.callbacks.EarlyStopping(monitor='val_accuracy',\n",
    "                                                  patience=10,\n",
    "                                                  start_from_epoch=20,\n",
    "                                                  restore_best_weights=True)\n",
    "bigru.compile(optimizer, loss=loss, metrics=['accuracy'])\n",
    "bigru.summary()"
   ],
   "id": "5239e627af75976e",
   "outputs": [
    {
     "data": {
      "text/plain": [],
      "text/html": [
       "<pre style=\"white-space:pre;overflow-x:auto;line-height:normal;font-family:Menlo,'DejaVu Sans Mono',consolas,'Courier New',monospace\"></pre>\n"
      ]
     },
     "metadata": {},
     "output_type": "display_data"
    }
   ],
   "execution_count": 92
  },
  {
   "metadata": {
    "ExecuteTime": {
     "end_time": "2024-10-13T09:48:02.482846Z",
     "start_time": "2024-10-13T08:18:23.423158Z"
    }
   },
   "cell_type": "code",
   "source": [
    "tf.keras.backend.clear_session()\n",
    "tf.keras.utils.disable_interactive_logging()\n",
    "\n",
    "bigru_history = bigru.fit(train_dataset_mitigate_oov, validation_data=val_dataset_mitigate_oov, epochs=100, verbose=1,\n",
    "                            callbacks=[early_stopping])"
   ],
   "id": "75158fa40bbd1529",
   "outputs": [
    {
     "name": "stdout",
     "output_type": "stream",
     "text": [
      "\u001B[1m267/267\u001B[0m \u001B[32m━━━━━━━━━━━━━━━━━━━━\u001B[0m\u001B[37m\u001B[0m \u001B[1m0s\u001B[0m 193ms/step - accuracy: 0.7379 - loss: 0.5334"
     ]
    }
   ],
   "execution_count": 93
  },
  {
   "metadata": {
    "ExecuteTime": {
     "end_time": "2024-10-13T09:48:02.888417Z",
     "start_time": "2024-10-13T09:48:02.801540Z"
    }
   },
   "cell_type": "code",
   "source": "plot_history(bigru_history, \"BiGRU\")",
   "id": "73a386ecf1f49618",
   "outputs": [
    {
     "data": {
      "text/plain": [
       "<Figure size 640x480 with 1 Axes>"
      ],
      "image/png": "[encoded data removed]"
     },
     "metadata": {},
     "output_type": "display_data"
    }
   ],
   "execution_count": 94
  },
  {
   "metadata": {
    "ExecuteTime": {
     "end_time": "2024-10-13T09:48:09.035480Z",
     "start_time": "2024-10-13T09:48:03.147617Z"
    }
   },
   "cell_type": "code",
   "source": [
    "test_loss, test_acc = bigru.evaluate(test_dataset_mitigate_oov)\n",
    "print('\\nTest Loss: {}'.format(test_loss))\n",
    "print('Test Accuracy: {}'.format(test_acc))"
   ],
   "id": "5478d8b6d61d607d",
   "outputs": [
    {
     "name": "stdout",
     "output_type": "stream",
     "text": [
      "\u001B[1m34/34\u001B[0m \u001B[32m━━━━━━━━━━━━━━━━━━━━\u001B[0m\u001B[37m\u001B[0m \u001B[1m0s\u001B[0m 149ms/step - accuracy: 0.6310 - loss: 0.6435\n",
      "Test Loss: 0.5679402947425842\n",
      "Test Accuracy: 0.707317054271698\n"
     ]
    }
   ],
   "execution_count": 95
  },
  {
   "metadata": {},
   "cell_type": "markdown",
   "source": [
    "### Part 3.4:\n",
    "Keeping the above two adjustments, replace your simple RNN model in Part 2 with a Convolutional\n",
    "Neural Network (CNN) to produce sentence representations and perform sentiment\n",
    "classification."
   ],
   "id": "50196bc04424b78c"
  },
  {
   "metadata": {
    "ExecuteTime": {
     "end_time": "2024-10-13T11:26:10.477820Z",
     "start_time": "2024-10-13T11:26:10.468599Z"
    }
   },
   "cell_type": "code",
   "source": [
    "class SentimentCNN(keras.Model):\n",
    "    def __init__(self, embedding_model, cnn_filters, kernel_size, output_dim):\n",
    "        super(SentimentCNN, self).__init__()\n",
    "\n",
    "        # Embedding layer to map input words to word embeddings\n",
    "        weights = embedding_model.vectors  # vectors themselves, a 2D numpy array    \n",
    "        self.embedding = keras.layers.Embedding(\n",
    "            input_dim=weights.shape[0],\n",
    "            output_dim=weights.shape[1],\n",
    "            weights=[weights],\n",
    "            trainable=True,\n",
    "            mask_zero=True\n",
    "        )\n",
    "        \n",
    "        # Convolutional layer (CNN)\n",
    "        self.conv1d = keras.layers.Conv1D(\n",
    "            filters=cnn_filters,\n",
    "            kernel_size=kernel_size,\n",
    "            activation='relu',\n",
    "            padding='same'\n",
    "        )\n",
    "        \n",
    "        # Attention mechanism\n",
    "        self.attention = AttentionLayer(cnn_filters)  # Adjust attention to CNN filter size\n",
    "        \n",
    "        # Dense layer for non-linearity\n",
    "        self.nonlinear = keras.layers.Dense(cnn_filters, \n",
    "                                            activation='relu', \n",
    "                                            kernel_regularizer=keras.regularizers.l2(0.01))\n",
    "        \n",
    "        # Dropout layer\n",
    "        self.dropout = keras.layers.Dropout(0.5)\n",
    "        \n",
    "        # Dense layer for binary classification\n",
    "        self.dense = keras.layers.Dense(output_dim, activation='sigmoid')\n",
    "    \n",
    "    def call(self, inputs):\n",
    "        # Pass inputs through embedding layer\n",
    "        x = self.embedding(inputs)\n",
    "        \n",
    "        # Pass embeddings through Conv1D layer\n",
    "        x = self.conv1d(x)\n",
    "        \n",
    "        #print('conv shape:', x.shape)\n",
    "        \n",
    "        # Apply attention mechanism\n",
    "        x, _ = self.attention(x)\n",
    "        \n",
    "        #print('attention shape:', x.shape)\n",
    "        \n",
    "        # Apply non-linear layer\n",
    "        x = self.nonlinear(x)\n",
    "        \n",
    "        #print('nonlinear shape:', x.shape)\n",
    "        \n",
    "        # Dropout after non-linear layer\n",
    "        x = self.dropout(x)\n",
    "        \n",
    "        #print('dropout shape:', x.shape)\n",
    "        \n",
    "        # Final dense layer for sentiment prediction\n",
    "        output = self.dense(x)\n",
    "        \n",
    "        #print('output shape:', output.shape)\n",
    "        \n",
    "        return output\n"
   ],
   "id": "b4eeafb902d42451",
   "outputs": [],
   "execution_count": 121
  },
  {
   "metadata": {
    "ExecuteTime": {
     "end_time": "2024-10-13T11:26:14.152667Z",
     "start_time": "2024-10-13T11:26:11.737439Z"
    }
   },
   "cell_type": "code",
   "source": [
    "cnn_model = SentimentCNN(embed_model, 128, 3, 1)\n",
    "# optimizer = tf.keras.optimizers.Adam(learning_rate=ADAM_LR)\n",
    "optimizer = tf.keras.optimizers.SGD(learning_rate=SGD_LR)\n",
    "loss = tf.keras.losses.BinaryCrossentropy(from_logits=False)\n",
    "early_stopping = tf.keras.callbacks.EarlyStopping(monitor='val_accuracy',\n",
    "                                                  patience=10,\n",
    "                                                  start_from_epoch=20,\n",
    "                                                  restore_best_weights=True)\n",
    "cnn_model.compile(optimizer, loss=loss, metrics=['accuracy'])"
   ],
   "id": "8a6fd5a08839ed9",
   "outputs": [],
   "execution_count": 122
  },
  {
   "metadata": {
    "ExecuteTime": {
     "end_time": "2024-10-13T11:26:14.564156Z",
     "start_time": "2024-10-13T11:26:14.557830Z"
    }
   },
   "cell_type": "code",
   "source": "cnn_model.summary()",
   "id": "903fe094bdfcf95b",
   "outputs": [
    {
     "data": {
      "text/plain": [],
      "text/html": [
       "<pre style=\"white-space:pre;overflow-x:auto;line-height:normal;font-family:Menlo,'DejaVu Sans Mono',consolas,'Courier New',monospace\"></pre>\n"
      ]
     },
     "metadata": {},
     "output_type": "display_data"
    }
   ],
   "execution_count": 123
  },
  {
   "metadata": {
    "ExecuteTime": {
     "end_time": "2024-10-13T11:58:40.894207Z",
     "start_time": "2024-10-13T11:26:16.406426Z"
    }
   },
   "cell_type": "code",
   "source": [
    "tf.keras.backend.clear_session()\n",
    "tf.keras.utils.disable_interactive_logging()\n",
    "\n",
    "cnn_history = cnn_model.fit(train_dataset_mitigate_oov, validation_data=val_dataset_mitigate_oov, epochs=100, verbose=1,\n",
    "                            callbacks=[early_stopping])"
   ],
   "id": "18e3537054c601c2",
   "outputs": [
    {
     "name": "stdout",
     "output_type": "stream",
     "text": [
      "\u001B[1m267/267\u001B[0m \u001B[32m━━━━━━━━━━━━━━━━━━━━\u001B[0m\u001B[37m\u001B[0m \u001B[1m0s\u001B[0m 121ms/step - accuracy: 0.5856 - loss: 0.6803"
     ]
    }
   ],
   "execution_count": 124
  },
  {
   "metadata": {
    "ExecuteTime": {
     "end_time": "2024-10-13T10:35:58.786304Z",
     "start_time": "2024-10-13T10:35:58.684198Z"
    }
   },
   "cell_type": "code",
   "source": "plot_history(cnn_history, \"CNN\")",
   "id": "5bab02a3d83e739a",
   "outputs": [
    {
     "data": {
      "text/plain": [
       "<Figure size 640x480 with 1 Axes>"
      ],
      "image/png": "[encoded data removed]"
     },
     "metadata": {},
     "output_type": "display_data"
    }
   ],
   "execution_count": 118
  },
  {
   "metadata": {
    "ExecuteTime": {
     "end_time": "2024-10-13T15:06:09.279083Z",
     "start_time": "2024-10-13T15:06:02.983036Z"
    }
   },
   "cell_type": "code",
   "source": [
    "test_loss, test_acc = cnn_model.evaluate(test_dataset_mitigate_oov)\n",
    "print('\\nTest Loss: {}'.format(test_loss))\n",
    "print('Test Accuracy: {}'.format(test_acc))"
   ],
   "id": "efdc819650af601b",
   "outputs": [
    {
     "name": "stdout",
     "output_type": "stream",
     "text": [
      "\u001B[1m34/34\u001B[0m \u001B[32m━━━━━━━━━━━━━━━━━━━━\u001B[0m\u001B[37m\u001B[0m \u001B[1m0s\u001B[0m 147ms/step - accuracy: 0.5310 - loss: 0.7074\n",
      "Test Loss: 0.6983242630958557\n",
      "Test Accuracy: 0.6116322875022888\n"
     ]
    }
   ],
   "execution_count": 125
  },
  {
   "metadata": {
    "ExecuteTime": {
     "end_time": "2024-10-13T15:08:01.064048Z",
     "start_time": "2024-10-13T15:07:00.523268Z"
    }
   },
   "cell_type": "code",
   "source": [
    "# Save all models:\n",
    "rnn_modellastState.export('models/rnn_last_state')\n",
    "rnn_modelMaxPool.export('models/rnn_max_pool')\n",
    "rnn_with_avg_pool_model.export('models/rnn_avg_pool')\n",
    "rnn_with_attn_pool.export('models/rnn_attention_pool')\n",
    "rnn_with_attn_pool_trainable_embed.export('models/rnn_attention_pool_trainable_embed')\n",
    "rnn_with_attn_pool_trainable_embed_mit_oov.export('models/rnn_attention_pool_trainable_embed_mit_oov')\n",
    "bilstm.export('models/bilstm')\n",
    "bigru.export('models/bigru')\n",
    "cnn_model.export('models/cnn')"
   ],
   "id": "e3409be44a2f29f9",
   "outputs": [
    {
     "name": "stdout",
     "output_type": "stream",
     "text": [
      "INFO:tensorflow:Assets written to: rnn_last_state/assets\n"
     ]
    },
    {
     "name": "stderr",
     "output_type": "stream",
     "text": [
      "INFO:tensorflow:Assets written to: rnn_last_state/assets\n",
      "/Users/mouse/Documents/GitHub/SC4045/pythonProject/.venv/lib/python3.10/site-packages/keras/src/layers/layer.py:932: UserWarning: Layer 'global_max_pooling1d' (of type GlobalMaxPooling1D) was passed an input with a mask attached to it. However, this layer does not support masking and will therefore destroy the mask information. Downstream layers will not see the mask.\n",
      "  warnings.warn(\n"
     ]
    },
    {
     "name": "stdout",
     "output_type": "stream",
     "text": [
      "INFO:tensorflow:Assets written to: rnn_max_pool/assets\n"
     ]
    },
    {
     "name": "stderr",
     "output_type": "stream",
     "text": [
      "INFO:tensorflow:Assets written to: rnn_max_pool/assets\n"
     ]
    },
    {
     "name": "stdout",
     "output_type": "stream",
     "text": [
      "INFO:tensorflow:Assets written to: rnn_avg_pool/assets\n"
     ]
    },
    {
     "name": "stderr",
     "output_type": "stream",
     "text": [
      "INFO:tensorflow:Assets written to: rnn_avg_pool/assets\n",
      "/Users/mouse/Documents/GitHub/SC4045/pythonProject/.venv/lib/python3.10/site-packages/keras/src/layers/layer.py:932: UserWarning: Layer 'attention_layer' (of type AttentionLayer) was passed an input with a mask attached to it. However, this layer does not support masking and will therefore destroy the mask information. Downstream layers will not see the mask.\n",
      "  warnings.warn(\n"
     ]
    },
    {
     "name": "stdout",
     "output_type": "stream",
     "text": [
      "INFO:tensorflow:Assets written to: rnn_attention_pool/assets\n"
     ]
    },
    {
     "name": "stderr",
     "output_type": "stream",
     "text": [
      "INFO:tensorflow:Assets written to: rnn_attention_pool/assets\n",
      "/Users/mouse/Documents/GitHub/SC4045/pythonProject/.venv/lib/python3.10/site-packages/keras/src/layers/layer.py:932: UserWarning: Layer 'attention_layer' (of type AttentionLayer) was passed an input with a mask attached to it. However, this layer does not support masking and will therefore destroy the mask information. Downstream layers will not see the mask.\n",
      "  warnings.warn(\n"
     ]
    },
    {
     "name": "stdout",
     "output_type": "stream",
     "text": [
      "INFO:tensorflow:Assets written to: rnn_attention_pool_trainable_embed/assets\n"
     ]
    },
    {
     "name": "stderr",
     "output_type": "stream",
     "text": [
      "INFO:tensorflow:Assets written to: rnn_attention_pool_trainable_embed/assets\n",
      "/Users/mouse/Documents/GitHub/SC4045/pythonProject/.venv/lib/python3.10/site-packages/keras/src/layers/layer.py:932: UserWarning: Layer 'attention_layer' (of type AttentionLayer) was passed an input with a mask attached to it. However, this layer does not support masking and will therefore destroy the mask information. Downstream layers will not see the mask.\n",
      "  warnings.warn(\n"
     ]
    },
    {
     "name": "stdout",
     "output_type": "stream",
     "text": [
      "INFO:tensorflow:Assets written to: rnn_attention_pool_trainable_embed_mit_oov/assets\n"
     ]
    },
    {
     "name": "stderr",
     "output_type": "stream",
     "text": [
      "INFO:tensorflow:Assets written to: rnn_attention_pool_trainable_embed_mit_oov/assets\n",
      "/Users/mouse/Documents/GitHub/SC4045/pythonProject/.venv/lib/python3.10/site-packages/keras/src/layers/layer.py:932: UserWarning: Layer 'attention_layer' (of type AttentionLayer) was passed an input with a mask attached to it. However, this layer does not support masking and will therefore destroy the mask information. Downstream layers will not see the mask.\n",
      "  warnings.warn(\n"
     ]
    },
    {
     "name": "stdout",
     "output_type": "stream",
     "text": [
      "INFO:tensorflow:Assets written to: bilstm/assets\n"
     ]
    },
    {
     "name": "stderr",
     "output_type": "stream",
     "text": [
      "INFO:tensorflow:Assets written to: bilstm/assets\n",
      "/Users/mouse/Documents/GitHub/SC4045/pythonProject/.venv/lib/python3.10/site-packages/keras/src/layers/layer.py:932: UserWarning: Layer 'attention_layer' (of type AttentionLayer) was passed an input with a mask attached to it. However, this layer does not support masking and will therefore destroy the mask information. Downstream layers will not see the mask.\n",
      "  warnings.warn(\n"
     ]
    },
    {
     "name": "stdout",
     "output_type": "stream",
     "text": [
      "INFO:tensorflow:Assets written to: bigru/assets\n"
     ]
    },
    {
     "name": "stderr",
     "output_type": "stream",
     "text": [
      "INFO:tensorflow:Assets written to: bigru/assets\n",
      "/Users/mouse/Documents/GitHub/SC4045/pythonProject/.venv/lib/python3.10/site-packages/keras/src/layers/layer.py:932: UserWarning: Layer 'conv1d' (of type Conv1D) was passed an input with a mask attached to it. However, this layer does not support masking and will therefore destroy the mask information. Downstream layers will not see the mask.\n",
      "  warnings.warn(\n"
     ]
    },
    {
     "name": "stdout",
     "output_type": "stream",
     "text": [
      "INFO:tensorflow:Assets written to: cnn/assets\n"
     ]
    },
    {
     "name": "stderr",
     "output_type": "stream",
     "text": [
      "INFO:tensorflow:Assets written to: cnn/assets\n"
     ]
    }
   ],
   "execution_count": 127
  },
  {
   "metadata": {
    "ExecuteTime": {
     "end_time": "2024-10-13T15:09:52.935352Z",
     "start_time": "2024-10-13T15:09:52.925182Z"
    }
   },
   "cell_type": "code",
   "source": [
    "# Save all histories:\n",
    "import pickle\n",
    "with open('histories/rnn_last_state_history.pkl', 'wb') as f:\n",
    "    pickle.dump(rnn_last_state_hist.history, f)\n",
    "    \n",
    "with open('histories/rnn_max_pool_history.pkl', 'wb') as f:\n",
    "    pickle.dump(maxpool_history.history, f)\n",
    "    \n",
    "with open('histories/rnn_avg_pool_history.pkl', 'wb') as f:\n",
    "    pickle.dump(avgpool_history.history, f)\n",
    "    \n",
    "with open('histories/rnn_attention_pool_history.pkl', 'wb') as f:\n",
    "    pickle.dump(history_rnn_with_attn_pool.history, f)\n",
    "\n",
    "with open('histories/rnn_attention_pool_trainable_embed_history.pkl', 'wb') as f:\n",
    "    pickle.dump(history_rnn_with_attn_pool_trainable_embed.history, f)\n",
    "\n",
    "with open('histories/rnn_attention_pool_trainable_embed_mit_oov_history.pkl', 'wb') as f:\n",
    "    pickle.dump(history_rnn_with_attn_pool_trainable_embed_mit_oov.history, f)\n",
    "\n",
    "with open('histories/bilstm_history.pkl', 'wb') as f:\n",
    "    pickle.dump(bilstm_history.history, f)\n",
    "\n",
    "with open('histories/bigru_history.pkl', 'wb') as f:\n",
    "    pickle.dump(bigru_history.history, f)\n",
    "    \n",
    "with open('histories/cnn_history.pkl', 'wb') as f:\n",
    "    pickle.dump(cnn_history.history, f)"
   ],
   "id": "14ff5b420529cbfc",
   "outputs": [],
   "execution_count": 129
  },
  {
   "metadata": {},
   "cell_type": "code",
   "outputs": [],
   "execution_count": null,
   "source": "",
   "id": "fe6d435df5f403ce"
  }
 ],
 "metadata": {
  "kernelspec": {
   "display_name": "Python 3",
   "language": "python",
   "name": "python3"
  },
  "language_info": {
   "codemirror_mode": {
    "name": "ipython",
    "version": 2
   },
   "file_extension": ".py",
   "mimetype": "text/x-python",
   "name": "python",
   "nbconvert_exporter": "python",
   "pygments_lexer": "ipython2",
   "version": "2.7.6"
  }
 },
 "nbformat": 4,
 "nbformat_minor": 5
}
